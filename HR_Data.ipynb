{
 "cells": [
  {
   "cell_type": "code",
   "execution_count": 48,
   "metadata": {
    "cell_id": "ea1f553f679f4cbeacdca8992e0b1cd1",
    "deepnote_cell_type": "code",
    "deepnote_to_be_reexecuted": false,
    "execution_millis": 0,
    "execution_start": 1663334130729,
    "source_hash": "f7c1ac0e",
    "tags": []
   },
   "outputs": [],
   "source": [
    "import pandas as pd\n",
    "import numpy as np\n",
    "import matplotlib.pyplot as plt\n",
    "import seaborn as sns\n",
    "from sklearn.preprocessing import LabelEncoder\n",
    "from sklearn.ensemble import RandomForestClassifier\n",
    "from sklearn.linear_model import LogisticRegression\n",
    "from sklearn.model_selection import train_test_split\n",
    "from sklearn.metrics import accuracy_score"
   ]
  },
  {
   "cell_type": "code",
   "execution_count": 2,
   "metadata": {
    "cell_id": "bf258758627d477aaf9afd474b6ce2f9",
    "deepnote_cell_type": "code",
    "deepnote_to_be_reexecuted": false,
    "execution_millis": 0,
    "execution_start": 1663332387981,
    "source_hash": "42cfd73e",
    "tags": []
   },
   "outputs": [],
   "source": [
    "hr_data = pd.read_csv(\"HRDataset.csv\")\n",
    "pd.set_option(\"display.max_columns\",None)"
   ]
  },
  {
   "cell_type": "code",
   "execution_count": 3,
   "metadata": {
    "cell_id": "342ecf9e8c71405d9c171a3387df1fb3",
    "deepnote_cell_type": "code",
    "deepnote_to_be_reexecuted": false,
    "execution_millis": 400,
    "execution_start": 1663332387982,
    "source_hash": "8fbeb0f9",
    "tags": []
   },
   "outputs": [
    {
     "name": "stdout",
     "output_type": "stream",
     "text": [
      "<class 'pandas.core.frame.DataFrame'>\n",
      "RangeIndex: 311 entries, 0 to 310\n",
      "Data columns (total 36 columns):\n",
      " #   Column                      Non-Null Count  Dtype  \n",
      "---  ------                      --------------  -----  \n",
      " 0   Employee_Name               311 non-null    object \n",
      " 1   EmpID                       311 non-null    int64  \n",
      " 2   MarriedID                   311 non-null    int64  \n",
      " 3   MaritalStatusID             311 non-null    int64  \n",
      " 4   GenderID                    311 non-null    int64  \n",
      " 5   EmpStatusID                 311 non-null    int64  \n",
      " 6   DeptID                      311 non-null    int64  \n",
      " 7   PerfScoreID                 311 non-null    int64  \n",
      " 8   FromDiversityJobFairID      311 non-null    int64  \n",
      " 9   Salary                      311 non-null    int64  \n",
      " 10  Termd                       311 non-null    int64  \n",
      " 11  PositionID                  311 non-null    int64  \n",
      " 12  Position                    311 non-null    object \n",
      " 13  State                       311 non-null    object \n",
      " 14  Zip                         311 non-null    int64  \n",
      " 15  DOB                         311 non-null    object \n",
      " 16  Sex                         311 non-null    object \n",
      " 17  MaritalDesc                 311 non-null    object \n",
      " 18  CitizenDesc                 311 non-null    object \n",
      " 19  HispanicLatino              311 non-null    object \n",
      " 20  RaceDesc                    311 non-null    object \n",
      " 21  DateofHire                  311 non-null    object \n",
      " 22  DateofTermination           104 non-null    object \n",
      " 23  TermReason                  311 non-null    object \n",
      " 24  EmploymentStatus            311 non-null    object \n",
      " 25  Department                  311 non-null    object \n",
      " 26  ManagerName                 311 non-null    object \n",
      " 27  ManagerID                   303 non-null    float64\n",
      " 28  RecruitmentSource           311 non-null    object \n",
      " 29  PerformanceScore            311 non-null    object \n",
      " 30  EngagementSurvey            311 non-null    float64\n",
      " 31  EmpSatisfaction             311 non-null    int64  \n",
      " 32  SpecialProjectsCount        311 non-null    int64  \n",
      " 33  LastPerformanceReview_Date  311 non-null    object \n",
      " 34  DaysLateLast30              311 non-null    int64  \n",
      " 35  Absences                    311 non-null    int64  \n",
      "dtypes: float64(2), int64(16), object(18)\n",
      "memory usage: 87.6+ KB\n"
     ]
    }
   ],
   "source": [
    "hr_data.info()"
   ]
  },
  {
   "cell_type": "code",
   "execution_count": 4,
   "metadata": {
    "cell_id": "51977687e63f44458d054143ead1fe54",
    "deepnote_cell_type": "code",
    "deepnote_to_be_reexecuted": false,
    "execution_millis": 412,
    "execution_start": 1663332388011,
    "source_hash": "d90b50b3",
    "tags": []
   },
   "outputs": [
    {
     "data": {
      "application/vnd.deepnote.dataframe.v3+json": {
       "column_count": 36,
       "columns": [
        {
         "dtype": "object",
         "name": "Employee_Name",
         "stats": {
          "categories": [
           {
            "count": 1,
            "name": "Adinolfi, Wilson  K"
           },
           {
            "count": 1,
            "name": "Ait Sidi, Karthikeyan   "
           },
           {
            "count": 3,
            "name": "3 others"
           }
          ],
          "nan_count": 0,
          "unique_count": 5
         }
        },
        {
         "dtype": "int64",
         "name": "EmpID",
         "stats": {
          "histogram": [
           {
            "bin_end": 10043,
            "bin_start": 10026,
            "count": 1
           },
           {
            "bin_end": 10060,
            "bin_start": 10043,
            "count": 0
           },
           {
            "bin_end": 10077,
            "bin_start": 10060,
            "count": 1
           },
           {
            "bin_end": 10094,
            "bin_start": 10077,
            "count": 2
           },
           {
            "bin_end": 10111,
            "bin_start": 10094,
            "count": 0
           },
           {
            "bin_end": 10128,
            "bin_start": 10111,
            "count": 0
           },
           {
            "bin_end": 10145,
            "bin_start": 10128,
            "count": 0
           },
           {
            "bin_end": 10162,
            "bin_start": 10145,
            "count": 0
           },
           {
            "bin_end": 10179,
            "bin_start": 10162,
            "count": 0
           },
           {
            "bin_end": 10196,
            "bin_start": 10179,
            "count": 1
           }
          ],
          "max": "10196",
          "min": "10026",
          "nan_count": 0,
          "unique_count": 5
         }
        },
        {
         "dtype": "int64",
         "name": "MarriedID",
         "stats": {
          "histogram": [
           {
            "bin_end": 0.1,
            "bin_start": 0,
            "count": 2
           },
           {
            "bin_end": 0.2,
            "bin_start": 0.1,
            "count": 0
           },
           {
            "bin_end": 0.30000000000000004,
            "bin_start": 0.2,
            "count": 0
           },
           {
            "bin_end": 0.4,
            "bin_start": 0.30000000000000004,
            "count": 0
           },
           {
            "bin_end": 0.5,
            "bin_start": 0.4,
            "count": 0
           },
           {
            "bin_end": 0.6000000000000001,
            "bin_start": 0.5,
            "count": 0
           },
           {
            "bin_end": 0.7000000000000001,
            "bin_start": 0.6000000000000001,
            "count": 0
           },
           {
            "bin_end": 0.8,
            "bin_start": 0.7000000000000001,
            "count": 0
           },
           {
            "bin_end": 0.9,
            "bin_start": 0.8,
            "count": 0
           },
           {
            "bin_end": 1,
            "bin_start": 0.9,
            "count": 3
           }
          ],
          "max": "1",
          "min": "0",
          "nan_count": 0,
          "unique_count": 2
         }
        },
        {
         "dtype": "int64",
         "name": "MaritalStatusID",
         "stats": {
          "histogram": [
           {
            "bin_end": 0.2,
            "bin_start": 0,
            "count": 1
           },
           {
            "bin_end": 0.4,
            "bin_start": 0.2,
            "count": 0
           },
           {
            "bin_end": 0.6000000000000001,
            "bin_start": 0.4,
            "count": 0
           },
           {
            "bin_end": 0.8,
            "bin_start": 0.6000000000000001,
            "count": 0
           },
           {
            "bin_end": 1,
            "bin_start": 0.8,
            "count": 0
           },
           {
            "bin_end": 1.2000000000000002,
            "bin_start": 1,
            "count": 3
           },
           {
            "bin_end": 1.4000000000000001,
            "bin_start": 1.2000000000000002,
            "count": 0
           },
           {
            "bin_end": 1.6,
            "bin_start": 1.4000000000000001,
            "count": 0
           },
           {
            "bin_end": 1.8,
            "bin_start": 1.6,
            "count": 0
           },
           {
            "bin_end": 2,
            "bin_start": 1.8,
            "count": 1
           }
          ],
          "max": "2",
          "min": "0",
          "nan_count": 0,
          "unique_count": 3
         }
        },
        {
         "dtype": "int64",
         "name": "GenderID",
         "stats": {
          "histogram": [
           {
            "bin_end": 0.1,
            "bin_start": 0,
            "count": 3
           },
           {
            "bin_end": 0.2,
            "bin_start": 0.1,
            "count": 0
           },
           {
            "bin_end": 0.30000000000000004,
            "bin_start": 0.2,
            "count": 0
           },
           {
            "bin_end": 0.4,
            "bin_start": 0.30000000000000004,
            "count": 0
           },
           {
            "bin_end": 0.5,
            "bin_start": 0.4,
            "count": 0
           },
           {
            "bin_end": 0.6000000000000001,
            "bin_start": 0.5,
            "count": 0
           },
           {
            "bin_end": 0.7000000000000001,
            "bin_start": 0.6000000000000001,
            "count": 0
           },
           {
            "bin_end": 0.8,
            "bin_start": 0.7000000000000001,
            "count": 0
           },
           {
            "bin_end": 0.9,
            "bin_start": 0.8,
            "count": 0
           },
           {
            "bin_end": 1,
            "bin_start": 0.9,
            "count": 2
           }
          ],
          "max": "1",
          "min": "0",
          "nan_count": 0,
          "unique_count": 2
         }
        },
        {
         "dtype": "int64",
         "name": "EmpStatusID",
         "stats": {
          "histogram": [
           {
            "bin_end": 1.4,
            "bin_start": 1,
            "count": 2
           },
           {
            "bin_end": 1.8,
            "bin_start": 1.4,
            "count": 0
           },
           {
            "bin_end": 2.2,
            "bin_start": 1.8,
            "count": 0
           },
           {
            "bin_end": 2.6,
            "bin_start": 2.2,
            "count": 0
           },
           {
            "bin_end": 3,
            "bin_start": 2.6,
            "count": 0
           },
           {
            "bin_end": 3.4000000000000004,
            "bin_start": 3,
            "count": 0
           },
           {
            "bin_end": 3.8000000000000003,
            "bin_start": 3.4000000000000004,
            "count": 0
           },
           {
            "bin_end": 4.2,
            "bin_start": 3.8000000000000003,
            "count": 0
           },
           {
            "bin_end": 4.6,
            "bin_start": 4.2,
            "count": 0
           },
           {
            "bin_end": 5,
            "bin_start": 4.6,
            "count": 3
           }
          ],
          "max": "5",
          "min": "1",
          "nan_count": 0,
          "unique_count": 2
         }
        },
        {
         "dtype": "int64",
         "name": "DeptID",
         "stats": {
          "histogram": [
           {
            "bin_end": 3.2,
            "bin_start": 3,
            "count": 1
           },
           {
            "bin_end": 3.4,
            "bin_start": 3.2,
            "count": 0
           },
           {
            "bin_end": 3.6,
            "bin_start": 3.4,
            "count": 0
           },
           {
            "bin_end": 3.8,
            "bin_start": 3.6,
            "count": 0
           },
           {
            "bin_end": 4,
            "bin_start": 3.8,
            "count": 0
           },
           {
            "bin_end": 4.2,
            "bin_start": 4,
            "count": 0
           },
           {
            "bin_end": 4.4,
            "bin_start": 4.2,
            "count": 0
           },
           {
            "bin_end": 4.6,
            "bin_start": 4.4,
            "count": 0
           },
           {
            "bin_end": 4.8,
            "bin_start": 4.6,
            "count": 0
           },
           {
            "bin_end": 5,
            "bin_start": 4.8,
            "count": 4
           }
          ],
          "max": "5",
          "min": "3",
          "nan_count": 0,
          "unique_count": 2
         }
        },
        {
         "dtype": "int64",
         "name": "PerfScoreID",
         "stats": {
          "histogram": [
           {
            "bin_end": 3.1,
            "bin_start": 3,
            "count": 4
           },
           {
            "bin_end": 3.2,
            "bin_start": 3.1,
            "count": 0
           },
           {
            "bin_end": 3.3,
            "bin_start": 3.2,
            "count": 0
           },
           {
            "bin_end": 3.4,
            "bin_start": 3.3,
            "count": 0
           },
           {
            "bin_end": 3.5,
            "bin_start": 3.4,
            "count": 0
           },
           {
            "bin_end": 3.6,
            "bin_start": 3.5,
            "count": 0
           },
           {
            "bin_end": 3.7,
            "bin_start": 3.6,
            "count": 0
           },
           {
            "bin_end": 3.8,
            "bin_start": 3.7,
            "count": 0
           },
           {
            "bin_end": 3.9,
            "bin_start": 3.8,
            "count": 0
           },
           {
            "bin_end": 4,
            "bin_start": 3.9,
            "count": 1
           }
          ],
          "max": "4",
          "min": "3",
          "nan_count": 0,
          "unique_count": 2
         }
        },
        {
         "dtype": "int64",
         "name": "FromDiversityJobFairID",
         "stats": {
          "histogram": [
           {
            "bin_end": -0.4,
            "bin_start": -0.5,
            "count": 0
           },
           {
            "bin_end": -0.3,
            "bin_start": -0.4,
            "count": 0
           },
           {
            "bin_end": -0.19999999999999996,
            "bin_start": -0.3,
            "count": 0
           },
           {
            "bin_end": -0.09999999999999998,
            "bin_start": -0.19999999999999996,
            "count": 0
           },
           {
            "bin_end": 0,
            "bin_start": -0.09999999999999998,
            "count": 0
           },
           {
            "bin_end": 0.10000000000000009,
            "bin_start": 0,
            "count": 5
           },
           {
            "bin_end": 0.20000000000000007,
            "bin_start": 0.10000000000000009,
            "count": 0
           },
           {
            "bin_end": 0.30000000000000004,
            "bin_start": 0.20000000000000007,
            "count": 0
           },
           {
            "bin_end": 0.4,
            "bin_start": 0.30000000000000004,
            "count": 0
           },
           {
            "bin_end": 0.5,
            "bin_start": 0.4,
            "count": 0
           }
          ],
          "max": "0",
          "min": "0",
          "nan_count": 0,
          "unique_count": 1
         }
        },
        {
         "dtype": "int64",
         "name": "Salary",
         "stats": {
          "histogram": [
           {
            "bin_end": 56186.2,
            "bin_start": 50825,
            "count": 1
           },
           {
            "bin_end": 61547.4,
            "bin_start": 56186.2,
            "count": 0
           },
           {
            "bin_end": 66908.6,
            "bin_start": 61547.4,
            "count": 3
           },
           {
            "bin_end": 72269.8,
            "bin_start": 66908.6,
            "count": 0
           },
           {
            "bin_end": 77631,
            "bin_start": 72269.8,
            "count": 0
           },
           {
            "bin_end": 82992.2,
            "bin_start": 77631,
            "count": 0
           },
           {
            "bin_end": 88353.4,
            "bin_start": 82992.2,
            "count": 0
           },
           {
            "bin_end": 93714.6,
            "bin_start": 88353.4,
            "count": 0
           },
           {
            "bin_end": 99075.79999999999,
            "bin_start": 93714.6,
            "count": 0
           },
           {
            "bin_end": 104437,
            "bin_start": 99075.79999999999,
            "count": 1
           }
          ],
          "max": "104437",
          "min": "50825",
          "nan_count": 0,
          "unique_count": 5
         }
        },
        {
         "dtype": "int64",
         "name": "Termd",
         "stats": {
          "histogram": [
           {
            "bin_end": 0.1,
            "bin_start": 0,
            "count": 2
           },
           {
            "bin_end": 0.2,
            "bin_start": 0.1,
            "count": 0
           },
           {
            "bin_end": 0.30000000000000004,
            "bin_start": 0.2,
            "count": 0
           },
           {
            "bin_end": 0.4,
            "bin_start": 0.30000000000000004,
            "count": 0
           },
           {
            "bin_end": 0.5,
            "bin_start": 0.4,
            "count": 0
           },
           {
            "bin_end": 0.6000000000000001,
            "bin_start": 0.5,
            "count": 0
           },
           {
            "bin_end": 0.7000000000000001,
            "bin_start": 0.6000000000000001,
            "count": 0
           },
           {
            "bin_end": 0.8,
            "bin_start": 0.7000000000000001,
            "count": 0
           },
           {
            "bin_end": 0.9,
            "bin_start": 0.8,
            "count": 0
           },
           {
            "bin_end": 1,
            "bin_start": 0.9,
            "count": 3
           }
          ],
          "max": "1",
          "min": "0",
          "nan_count": 0,
          "unique_count": 2
         }
        },
        {
         "dtype": "int64",
         "name": "PositionID",
         "stats": {
          "histogram": [
           {
            "bin_end": 19.8,
            "bin_start": 19,
            "count": 3
           },
           {
            "bin_end": 20.6,
            "bin_start": 19.8,
            "count": 1
           },
           {
            "bin_end": 21.4,
            "bin_start": 20.6,
            "count": 0
           },
           {
            "bin_end": 22.2,
            "bin_start": 21.4,
            "count": 0
           },
           {
            "bin_end": 23,
            "bin_start": 22.2,
            "count": 0
           },
           {
            "bin_end": 23.8,
            "bin_start": 23,
            "count": 0
           },
           {
            "bin_end": 24.6,
            "bin_start": 23.8,
            "count": 0
           },
           {
            "bin_end": 25.4,
            "bin_start": 24.6,
            "count": 0
           },
           {
            "bin_end": 26.2,
            "bin_start": 25.4,
            "count": 0
           },
           {
            "bin_end": 27,
            "bin_start": 26.2,
            "count": 1
           }
          ],
          "max": "27",
          "min": "19",
          "nan_count": 0,
          "unique_count": 3
         }
        },
        {
         "dtype": "object",
         "name": "Position",
         "stats": {
          "categories": [
           {
            "count": 3,
            "name": "Production Technician I"
           },
           {
            "count": 1,
            "name": "Sr. DBA"
           },
           {
            "count": 1,
            "name": "Production Technician II"
           }
          ],
          "nan_count": 0,
          "unique_count": 3
         }
        },
        {
         "dtype": "object",
         "name": "State",
         "stats": {
          "categories": [
           {
            "count": 5,
            "name": "MA"
           }
          ],
          "nan_count": 0,
          "unique_count": 1
         }
        },
        {
         "dtype": "int64",
         "name": "Zip",
         "stats": {
          "histogram": [
           {
            "bin_end": 1845.9,
            "bin_start": 1810,
            "count": 1
           },
           {
            "bin_end": 1881.8,
            "bin_start": 1845.9,
            "count": 0
           },
           {
            "bin_end": 1917.7,
            "bin_start": 1881.8,
            "count": 1
           },
           {
            "bin_end": 1953.6,
            "bin_start": 1917.7,
            "count": 0
           },
           {
            "bin_end": 1989.5,
            "bin_start": 1953.6,
            "count": 1
           },
           {
            "bin_end": 2025.4,
            "bin_start": 1989.5,
            "count": 0
           },
           {
            "bin_end": 2061.3,
            "bin_start": 2025.4,
            "count": 0
           },
           {
            "bin_end": 2097.2,
            "bin_start": 2061.3,
            "count": 0
           },
           {
            "bin_end": 2133.1,
            "bin_start": 2097.2,
            "count": 0
           },
           {
            "bin_end": 2169,
            "bin_start": 2133.1,
            "count": 2
           }
          ],
          "max": "2169",
          "min": "1810",
          "nan_count": 0,
          "unique_count": 5
         }
        },
        {
         "dtype": "object",
         "name": "DOB",
         "stats": {
          "categories": [
           {
            "count": 1,
            "name": "07/10/83"
           },
           {
            "count": 1,
            "name": "05/05/75"
           },
           {
            "count": 3,
            "name": "3 others"
           }
          ],
          "nan_count": 0,
          "unique_count": 5
         }
        },
        {
         "dtype": "object",
         "name": "Sex",
         "stats": {
          "categories": [
           {
            "count": 3,
            "name": "F"
           },
           {
            "count": 2,
            "name": "M "
           }
          ],
          "nan_count": 0,
          "unique_count": 2
         }
        },
        {
         "dtype": "object",
         "name": "MaritalDesc",
         "stats": {
          "categories": [
           {
            "count": 3,
            "name": "Married"
           },
           {
            "count": 1,
            "name": "Single"
           },
           {
            "count": 1,
            "name": "Divorced"
           }
          ],
          "nan_count": 0,
          "unique_count": 3
         }
        },
        {
         "dtype": "object",
         "name": "CitizenDesc",
         "stats": {
          "categories": [
           {
            "count": 5,
            "name": "US Citizen"
           }
          ],
          "nan_count": 0,
          "unique_count": 1
         }
        },
        {
         "dtype": "object",
         "name": "HispanicLatino",
         "stats": {
          "categories": [
           {
            "count": 5,
            "name": "No"
           }
          ],
          "nan_count": 0,
          "unique_count": 1
         }
        },
        {
         "dtype": "object",
         "name": "RaceDesc",
         "stats": {
          "categories": [
           {
            "count": 5,
            "name": "White"
           }
          ],
          "nan_count": 0,
          "unique_count": 1
         }
        },
        {
         "dtype": "object",
         "name": "DateofHire",
         "stats": {
          "categories": [
           {
            "count": 2,
            "name": "7/5/2011"
           },
           {
            "count": 1,
            "name": "3/30/2015"
           },
           {
            "count": 2,
            "name": "2 others"
           }
          ],
          "nan_count": 0,
          "unique_count": 4
         }
        },
        {
         "dtype": "object",
         "name": "DateofTermination",
         "stats": {
          "categories": [
           {
            "count": 1,
            "name": "6/16/2016"
           },
           {
            "count": 2,
            "name": "2 others"
           },
           {
            "count": 2,
            "name": "Missing"
           }
          ],
          "nan_count": 2,
          "unique_count": 3
         }
        },
        {
         "dtype": "object",
         "name": "TermReason",
         "stats": {
          "categories": [
           {
            "count": 2,
            "name": "N/A-StillEmployed"
           },
           {
            "count": 1,
            "name": "career change"
           },
           {
            "count": 2,
            "name": "2 others"
           }
          ],
          "nan_count": 0,
          "unique_count": 4
         }
        },
        {
         "dtype": "object",
         "name": "EmploymentStatus",
         "stats": {
          "categories": [
           {
            "count": 3,
            "name": "Voluntarily Terminated"
           },
           {
            "count": 2,
            "name": "Active"
           }
          ],
          "nan_count": 0,
          "unique_count": 2
         }
        },
        {
         "dtype": "object",
         "name": "Department",
         "stats": {
          "categories": [
           {
            "count": 4,
            "name": "Production       "
           },
           {
            "count": 1,
            "name": "IT/IS"
           }
          ],
          "nan_count": 0,
          "unique_count": 2
         }
        },
        {
         "dtype": "object",
         "name": "ManagerName",
         "stats": {
          "categories": [
           {
            "count": 1,
            "name": "Michael Albert"
           },
           {
            "count": 1,
            "name": "Simon Roup"
           },
           {
            "count": 3,
            "name": "3 others"
           }
          ],
          "nan_count": 0,
          "unique_count": 5
         }
        },
        {
         "dtype": "float64",
         "name": "ManagerID",
         "stats": {
          "histogram": [
           {
            "bin_end": 7.5,
            "bin_start": 4,
            "count": 1
           },
           {
            "bin_end": 11,
            "bin_start": 7.5,
            "count": 0
           },
           {
            "bin_end": 14.5,
            "bin_start": 11,
            "count": 0
           },
           {
            "bin_end": 18,
            "bin_start": 14.5,
            "count": 1
           },
           {
            "bin_end": 21.5,
            "bin_start": 18,
            "count": 1
           },
           {
            "bin_end": 25,
            "bin_start": 21.5,
            "count": 1
           },
           {
            "bin_end": 28.5,
            "bin_start": 25,
            "count": 0
           },
           {
            "bin_end": 32,
            "bin_start": 28.5,
            "count": 0
           },
           {
            "bin_end": 35.5,
            "bin_start": 32,
            "count": 0
           },
           {
            "bin_end": 39,
            "bin_start": 35.5,
            "count": 1
           }
          ],
          "max": "39.0",
          "min": "4.0",
          "nan_count": 0,
          "unique_count": 5
         }
        },
        {
         "dtype": "object",
         "name": "RecruitmentSource",
         "stats": {
          "categories": [
           {
            "count": 2,
            "name": "LinkedIn"
           },
           {
            "count": 2,
            "name": "Indeed"
           },
           {
            "count": 1,
            "name": "Google Search"
           }
          ],
          "nan_count": 0,
          "unique_count": 3
         }
        },
        {
         "dtype": "object",
         "name": "PerformanceScore",
         "stats": {
          "categories": [
           {
            "count": 4,
            "name": "Fully Meets"
           },
           {
            "count": 1,
            "name": "Exceeds"
           }
          ],
          "nan_count": 0,
          "unique_count": 2
         }
        },
        {
         "dtype": "float64",
         "name": "EngagementSurvey",
         "stats": {
          "histogram": [
           {
            "bin_end": 3.218,
            "bin_start": 3.02,
            "count": 1
           },
           {
            "bin_end": 3.416,
            "bin_start": 3.218,
            "count": 0
           },
           {
            "bin_end": 3.614,
            "bin_start": 3.416,
            "count": 0
           },
           {
            "bin_end": 3.8120000000000003,
            "bin_start": 3.614,
            "count": 0
           },
           {
            "bin_end": 4.01,
            "bin_start": 3.8120000000000003,
            "count": 0
           },
           {
            "bin_end": 4.208,
            "bin_start": 4.01,
            "count": 0
           },
           {
            "bin_end": 4.406000000000001,
            "bin_start": 4.208,
            "count": 0
           },
           {
            "bin_end": 4.604,
            "bin_start": 4.406000000000001,
            "count": 1
           },
           {
            "bin_end": 4.802,
            "bin_start": 4.604,
            "count": 0
           },
           {
            "bin_end": 5,
            "bin_start": 4.802,
            "count": 3
           }
          ],
          "max": "5.0",
          "min": "3.02",
          "nan_count": 0,
          "unique_count": 5
         }
        },
        {
         "dtype": "int64",
         "name": "EmpSatisfaction",
         "stats": {
          "histogram": [
           {
            "bin_end": 3.2,
            "bin_start": 3,
            "count": 2
           },
           {
            "bin_end": 3.4,
            "bin_start": 3.2,
            "count": 0
           },
           {
            "bin_end": 3.6,
            "bin_start": 3.4,
            "count": 0
           },
           {
            "bin_end": 3.8,
            "bin_start": 3.6,
            "count": 0
           },
           {
            "bin_end": 4,
            "bin_start": 3.8,
            "count": 0
           },
           {
            "bin_end": 4.2,
            "bin_start": 4,
            "count": 1
           },
           {
            "bin_end": 4.4,
            "bin_start": 4.2,
            "count": 0
           },
           {
            "bin_end": 4.6,
            "bin_start": 4.4,
            "count": 0
           },
           {
            "bin_end": 4.8,
            "bin_start": 4.6,
            "count": 0
           },
           {
            "bin_end": 5,
            "bin_start": 4.8,
            "count": 2
           }
          ],
          "max": "5",
          "min": "3",
          "nan_count": 0,
          "unique_count": 3
         }
        },
        {
         "dtype": "int64",
         "name": "SpecialProjectsCount",
         "stats": {
          "histogram": [
           {
            "bin_end": 0.6,
            "bin_start": 0,
            "count": 4
           },
           {
            "bin_end": 1.2,
            "bin_start": 0.6,
            "count": 0
           },
           {
            "bin_end": 1.7999999999999998,
            "bin_start": 1.2,
            "count": 0
           },
           {
            "bin_end": 2.4,
            "bin_start": 1.7999999999999998,
            "count": 0
           },
           {
            "bin_end": 3,
            "bin_start": 2.4,
            "count": 0
           },
           {
            "bin_end": 3.5999999999999996,
            "bin_start": 3,
            "count": 0
           },
           {
            "bin_end": 4.2,
            "bin_start": 3.5999999999999996,
            "count": 0
           },
           {
            "bin_end": 4.8,
            "bin_start": 4.2,
            "count": 0
           },
           {
            "bin_end": 5.3999999999999995,
            "bin_start": 4.8,
            "count": 0
           },
           {
            "bin_end": 6,
            "bin_start": 5.3999999999999995,
            "count": 1
           }
          ],
          "max": "6",
          "min": "0",
          "nan_count": 0,
          "unique_count": 2
         }
        },
        {
         "dtype": "object",
         "name": "LastPerformanceReview_Date",
         "stats": {
          "categories": [
           {
            "count": 1,
            "name": "1/17/2019"
           },
           {
            "count": 1,
            "name": "2/24/2016"
           },
           {
            "count": 3,
            "name": "3 others"
           }
          ],
          "nan_count": 0,
          "unique_count": 5
         }
        },
        {
         "dtype": "int64",
         "name": "DaysLateLast30",
         "stats": {
          "histogram": [
           {
            "bin_end": -0.4,
            "bin_start": -0.5,
            "count": 0
           },
           {
            "bin_end": -0.3,
            "bin_start": -0.4,
            "count": 0
           },
           {
            "bin_end": -0.19999999999999996,
            "bin_start": -0.3,
            "count": 0
           },
           {
            "bin_end": -0.09999999999999998,
            "bin_start": -0.19999999999999996,
            "count": 0
           },
           {
            "bin_end": 0,
            "bin_start": -0.09999999999999998,
            "count": 0
           },
           {
            "bin_end": 0.10000000000000009,
            "bin_start": 0,
            "count": 5
           },
           {
            "bin_end": 0.20000000000000007,
            "bin_start": 0.10000000000000009,
            "count": 0
           },
           {
            "bin_end": 0.30000000000000004,
            "bin_start": 0.20000000000000007,
            "count": 0
           },
           {
            "bin_end": 0.4,
            "bin_start": 0.30000000000000004,
            "count": 0
           },
           {
            "bin_end": 0.5,
            "bin_start": 0.4,
            "count": 0
           }
          ],
          "max": "0",
          "min": "0",
          "nan_count": 0,
          "unique_count": 1
         }
        },
        {
         "dtype": "int64",
         "name": "Absences",
         "stats": {
          "histogram": [
           {
            "bin_end": 2.6,
            "bin_start": 1,
            "count": 2
           },
           {
            "bin_end": 4.2,
            "bin_start": 2.6,
            "count": 1
           },
           {
            "bin_end": 5.800000000000001,
            "bin_start": 4.2,
            "count": 0
           },
           {
            "bin_end": 7.4,
            "bin_start": 5.800000000000001,
            "count": 0
           },
           {
            "bin_end": 9,
            "bin_start": 7.4,
            "count": 0
           },
           {
            "bin_end": 10.600000000000001,
            "bin_start": 9,
            "count": 0
           },
           {
            "bin_end": 12.200000000000001,
            "bin_start": 10.600000000000001,
            "count": 0
           },
           {
            "bin_end": 13.8,
            "bin_start": 12.200000000000001,
            "count": 0
           },
           {
            "bin_end": 15.4,
            "bin_start": 13.8,
            "count": 1
           },
           {
            "bin_end": 17,
            "bin_start": 15.4,
            "count": 1
           }
          ],
          "max": "17",
          "min": "1",
          "nan_count": 0,
          "unique_count": 5
         }
        },
        {
         "dtype": "int64",
         "name": "_deepnote_index_column"
        }
       ],
       "row_count": 5,
       "rows": [
        {
         "Absences": "1",
         "CitizenDesc": "US Citizen",
         "DOB": "07/10/83",
         "DateofHire": "7/5/2011",
         "DateofTermination": "nan",
         "DaysLateLast30": "0",
         "Department": "Production       ",
         "DeptID": "5",
         "EmpID": "10026",
         "EmpSatisfaction": "5",
         "EmpStatusID": "1",
         "Employee_Name": "Adinolfi, Wilson  K",
         "EmploymentStatus": "Active",
         "EngagementSurvey": "4.6",
         "FromDiversityJobFairID": "0",
         "GenderID": "1",
         "HispanicLatino": "No",
         "LastPerformanceReview_Date": "1/17/2019",
         "ManagerID": "22.0",
         "ManagerName": "Michael Albert",
         "MaritalDesc": "Single",
         "MaritalStatusID": "0",
         "MarriedID": "0",
         "PerfScoreID": "4",
         "PerformanceScore": "Exceeds",
         "Position": "Production Technician I",
         "PositionID": "19",
         "RaceDesc": "White",
         "RecruitmentSource": "LinkedIn",
         "Salary": "62506",
         "Sex": "M ",
         "SpecialProjectsCount": "0",
         "State": "MA",
         "TermReason": "N/A-StillEmployed",
         "Termd": "0",
         "Zip": "1960",
         "_deepnote_index_column": "0"
        },
        {
         "Absences": "17",
         "CitizenDesc": "US Citizen",
         "DOB": "05/05/75",
         "DateofHire": "3/30/2015",
         "DateofTermination": "6/16/2016",
         "DaysLateLast30": "0",
         "Department": "IT/IS",
         "DeptID": "3",
         "EmpID": "10084",
         "EmpSatisfaction": "3",
         "EmpStatusID": "5",
         "Employee_Name": "Ait Sidi, Karthikeyan   ",
         "EmploymentStatus": "Voluntarily Terminated",
         "EngagementSurvey": "4.96",
         "FromDiversityJobFairID": "0",
         "GenderID": "1",
         "HispanicLatino": "No",
         "LastPerformanceReview_Date": "2/24/2016",
         "ManagerID": "4.0",
         "ManagerName": "Simon Roup",
         "MaritalDesc": "Married",
         "MaritalStatusID": "1",
         "MarriedID": "1",
         "PerfScoreID": "3",
         "PerformanceScore": "Fully Meets",
         "Position": "Sr. DBA",
         "PositionID": "27",
         "RaceDesc": "White",
         "RecruitmentSource": "Indeed",
         "Salary": "104437",
         "Sex": "M ",
         "SpecialProjectsCount": "6",
         "State": "MA",
         "TermReason": "career change",
         "Termd": "1",
         "Zip": "2148",
         "_deepnote_index_column": "1"
        },
        {
         "Absences": "3",
         "CitizenDesc": "US Citizen",
         "DOB": "09/19/88",
         "DateofHire": "7/5/2011",
         "DateofTermination": "9/24/2012",
         "DaysLateLast30": "0",
         "Department": "Production       ",
         "DeptID": "5",
         "EmpID": "10196",
         "EmpSatisfaction": "3",
         "EmpStatusID": "5",
         "Employee_Name": "Akinkuolie, Sarah",
         "EmploymentStatus": "Voluntarily Terminated",
         "EngagementSurvey": "3.02",
         "FromDiversityJobFairID": "0",
         "GenderID": "0",
         "HispanicLatino": "No",
         "LastPerformanceReview_Date": "5/15/2012",
         "ManagerID": "20.0",
         "ManagerName": "Kissy Sullivan",
         "MaritalDesc": "Married",
         "MaritalStatusID": "1",
         "MarriedID": "1",
         "PerfScoreID": "3",
         "PerformanceScore": "Fully Meets",
         "Position": "Production Technician II",
         "PositionID": "20",
         "RaceDesc": "White",
         "RecruitmentSource": "LinkedIn",
         "Salary": "64955",
         "Sex": "F",
         "SpecialProjectsCount": "0",
         "State": "MA",
         "TermReason": "hours",
         "Termd": "1",
         "Zip": "1810",
         "_deepnote_index_column": "2"
        },
        {
         "Absences": "15",
         "CitizenDesc": "US Citizen",
         "DOB": "09/27/88",
         "DateofHire": "1/7/2008",
         "DateofTermination": "nan",
         "DaysLateLast30": "0",
         "Department": "Production       ",
         "DeptID": "5",
         "EmpID": "10088",
         "EmpSatisfaction": "5",
         "EmpStatusID": "1",
         "Employee_Name": "Alagbe,Trina",
         "EmploymentStatus": "Active",
         "EngagementSurvey": "4.84",
         "FromDiversityJobFairID": "0",
         "GenderID": "0",
         "HispanicLatino": "No",
         "LastPerformanceReview_Date": "1/3/2019",
         "ManagerID": "16.0",
         "ManagerName": "Elijiah Gray",
         "MaritalDesc": "Married",
         "MaritalStatusID": "1",
         "MarriedID": "1",
         "PerfScoreID": "3",
         "PerformanceScore": "Fully Meets",
         "Position": "Production Technician I",
         "PositionID": "19",
         "RaceDesc": "White",
         "RecruitmentSource": "Indeed",
         "Salary": "64991",
         "Sex": "F",
         "SpecialProjectsCount": "0",
         "State": "MA",
         "TermReason": "N/A-StillEmployed",
         "Termd": "0",
         "Zip": "1886",
         "_deepnote_index_column": "3"
        },
        {
         "Absences": "2",
         "CitizenDesc": "US Citizen",
         "DOB": "09/08/89",
         "DateofHire": "7/11/2011",
         "DateofTermination": "9/6/2016",
         "DaysLateLast30": "0",
         "Department": "Production       ",
         "DeptID": "5",
         "EmpID": "10069",
         "EmpSatisfaction": "4",
         "EmpStatusID": "5",
         "Employee_Name": "Anderson, Carol ",
         "EmploymentStatus": "Voluntarily Terminated",
         "EngagementSurvey": "5.0",
         "FromDiversityJobFairID": "0",
         "GenderID": "0",
         "HispanicLatino": "No",
         "LastPerformanceReview_Date": "2/1/2016",
         "ManagerID": "39.0",
         "ManagerName": "Webster Butler",
         "MaritalDesc": "Divorced",
         "MaritalStatusID": "2",
         "MarriedID": "0",
         "PerfScoreID": "3",
         "PerformanceScore": "Fully Meets",
         "Position": "Production Technician I",
         "PositionID": "19",
         "RaceDesc": "White",
         "RecruitmentSource": "Google Search",
         "Salary": "50825",
         "Sex": "F",
         "SpecialProjectsCount": "0",
         "State": "MA",
         "TermReason": "return to school",
         "Termd": "1",
         "Zip": "2169",
         "_deepnote_index_column": "4"
        }
       ]
      },
      "text/html": [
       "<div>\n",
       "<style scoped>\n",
       "    .dataframe tbody tr th:only-of-type {\n",
       "        vertical-align: middle;\n",
       "    }\n",
       "\n",
       "    .dataframe tbody tr th {\n",
       "        vertical-align: top;\n",
       "    }\n",
       "\n",
       "    .dataframe thead th {\n",
       "        text-align: right;\n",
       "    }\n",
       "</style>\n",
       "<table border=\"1\" class=\"dataframe\">\n",
       "  <thead>\n",
       "    <tr style=\"text-align: right;\">\n",
       "      <th></th>\n",
       "      <th>Employee_Name</th>\n",
       "      <th>EmpID</th>\n",
       "      <th>MarriedID</th>\n",
       "      <th>MaritalStatusID</th>\n",
       "      <th>GenderID</th>\n",
       "      <th>EmpStatusID</th>\n",
       "      <th>DeptID</th>\n",
       "      <th>PerfScoreID</th>\n",
       "      <th>FromDiversityJobFairID</th>\n",
       "      <th>Salary</th>\n",
       "      <th>Termd</th>\n",
       "      <th>PositionID</th>\n",
       "      <th>Position</th>\n",
       "      <th>State</th>\n",
       "      <th>Zip</th>\n",
       "      <th>DOB</th>\n",
       "      <th>Sex</th>\n",
       "      <th>MaritalDesc</th>\n",
       "      <th>CitizenDesc</th>\n",
       "      <th>HispanicLatino</th>\n",
       "      <th>RaceDesc</th>\n",
       "      <th>DateofHire</th>\n",
       "      <th>DateofTermination</th>\n",
       "      <th>TermReason</th>\n",
       "      <th>EmploymentStatus</th>\n",
       "      <th>Department</th>\n",
       "      <th>ManagerName</th>\n",
       "      <th>ManagerID</th>\n",
       "      <th>RecruitmentSource</th>\n",
       "      <th>PerformanceScore</th>\n",
       "      <th>EngagementSurvey</th>\n",
       "      <th>EmpSatisfaction</th>\n",
       "      <th>SpecialProjectsCount</th>\n",
       "      <th>LastPerformanceReview_Date</th>\n",
       "      <th>DaysLateLast30</th>\n",
       "      <th>Absences</th>\n",
       "    </tr>\n",
       "  </thead>\n",
       "  <tbody>\n",
       "    <tr>\n",
       "      <th>0</th>\n",
       "      <td>Adinolfi, Wilson  K</td>\n",
       "      <td>10026</td>\n",
       "      <td>0</td>\n",
       "      <td>0</td>\n",
       "      <td>1</td>\n",
       "      <td>1</td>\n",
       "      <td>5</td>\n",
       "      <td>4</td>\n",
       "      <td>0</td>\n",
       "      <td>62506</td>\n",
       "      <td>0</td>\n",
       "      <td>19</td>\n",
       "      <td>Production Technician I</td>\n",
       "      <td>MA</td>\n",
       "      <td>1960</td>\n",
       "      <td>07/10/83</td>\n",
       "      <td>M</td>\n",
       "      <td>Single</td>\n",
       "      <td>US Citizen</td>\n",
       "      <td>No</td>\n",
       "      <td>White</td>\n",
       "      <td>7/5/2011</td>\n",
       "      <td>NaN</td>\n",
       "      <td>N/A-StillEmployed</td>\n",
       "      <td>Active</td>\n",
       "      <td>Production</td>\n",
       "      <td>Michael Albert</td>\n",
       "      <td>22.0</td>\n",
       "      <td>LinkedIn</td>\n",
       "      <td>Exceeds</td>\n",
       "      <td>4.60</td>\n",
       "      <td>5</td>\n",
       "      <td>0</td>\n",
       "      <td>1/17/2019</td>\n",
       "      <td>0</td>\n",
       "      <td>1</td>\n",
       "    </tr>\n",
       "    <tr>\n",
       "      <th>1</th>\n",
       "      <td>Ait Sidi, Karthikeyan</td>\n",
       "      <td>10084</td>\n",
       "      <td>1</td>\n",
       "      <td>1</td>\n",
       "      <td>1</td>\n",
       "      <td>5</td>\n",
       "      <td>3</td>\n",
       "      <td>3</td>\n",
       "      <td>0</td>\n",
       "      <td>104437</td>\n",
       "      <td>1</td>\n",
       "      <td>27</td>\n",
       "      <td>Sr. DBA</td>\n",
       "      <td>MA</td>\n",
       "      <td>2148</td>\n",
       "      <td>05/05/75</td>\n",
       "      <td>M</td>\n",
       "      <td>Married</td>\n",
       "      <td>US Citizen</td>\n",
       "      <td>No</td>\n",
       "      <td>White</td>\n",
       "      <td>3/30/2015</td>\n",
       "      <td>6/16/2016</td>\n",
       "      <td>career change</td>\n",
       "      <td>Voluntarily Terminated</td>\n",
       "      <td>IT/IS</td>\n",
       "      <td>Simon Roup</td>\n",
       "      <td>4.0</td>\n",
       "      <td>Indeed</td>\n",
       "      <td>Fully Meets</td>\n",
       "      <td>4.96</td>\n",
       "      <td>3</td>\n",
       "      <td>6</td>\n",
       "      <td>2/24/2016</td>\n",
       "      <td>0</td>\n",
       "      <td>17</td>\n",
       "    </tr>\n",
       "    <tr>\n",
       "      <th>2</th>\n",
       "      <td>Akinkuolie, Sarah</td>\n",
       "      <td>10196</td>\n",
       "      <td>1</td>\n",
       "      <td>1</td>\n",
       "      <td>0</td>\n",
       "      <td>5</td>\n",
       "      <td>5</td>\n",
       "      <td>3</td>\n",
       "      <td>0</td>\n",
       "      <td>64955</td>\n",
       "      <td>1</td>\n",
       "      <td>20</td>\n",
       "      <td>Production Technician II</td>\n",
       "      <td>MA</td>\n",
       "      <td>1810</td>\n",
       "      <td>09/19/88</td>\n",
       "      <td>F</td>\n",
       "      <td>Married</td>\n",
       "      <td>US Citizen</td>\n",
       "      <td>No</td>\n",
       "      <td>White</td>\n",
       "      <td>7/5/2011</td>\n",
       "      <td>9/24/2012</td>\n",
       "      <td>hours</td>\n",
       "      <td>Voluntarily Terminated</td>\n",
       "      <td>Production</td>\n",
       "      <td>Kissy Sullivan</td>\n",
       "      <td>20.0</td>\n",
       "      <td>LinkedIn</td>\n",
       "      <td>Fully Meets</td>\n",
       "      <td>3.02</td>\n",
       "      <td>3</td>\n",
       "      <td>0</td>\n",
       "      <td>5/15/2012</td>\n",
       "      <td>0</td>\n",
       "      <td>3</td>\n",
       "    </tr>\n",
       "    <tr>\n",
       "      <th>3</th>\n",
       "      <td>Alagbe,Trina</td>\n",
       "      <td>10088</td>\n",
       "      <td>1</td>\n",
       "      <td>1</td>\n",
       "      <td>0</td>\n",
       "      <td>1</td>\n",
       "      <td>5</td>\n",
       "      <td>3</td>\n",
       "      <td>0</td>\n",
       "      <td>64991</td>\n",
       "      <td>0</td>\n",
       "      <td>19</td>\n",
       "      <td>Production Technician I</td>\n",
       "      <td>MA</td>\n",
       "      <td>1886</td>\n",
       "      <td>09/27/88</td>\n",
       "      <td>F</td>\n",
       "      <td>Married</td>\n",
       "      <td>US Citizen</td>\n",
       "      <td>No</td>\n",
       "      <td>White</td>\n",
       "      <td>1/7/2008</td>\n",
       "      <td>NaN</td>\n",
       "      <td>N/A-StillEmployed</td>\n",
       "      <td>Active</td>\n",
       "      <td>Production</td>\n",
       "      <td>Elijiah Gray</td>\n",
       "      <td>16.0</td>\n",
       "      <td>Indeed</td>\n",
       "      <td>Fully Meets</td>\n",
       "      <td>4.84</td>\n",
       "      <td>5</td>\n",
       "      <td>0</td>\n",
       "      <td>1/3/2019</td>\n",
       "      <td>0</td>\n",
       "      <td>15</td>\n",
       "    </tr>\n",
       "    <tr>\n",
       "      <th>4</th>\n",
       "      <td>Anderson, Carol</td>\n",
       "      <td>10069</td>\n",
       "      <td>0</td>\n",
       "      <td>2</td>\n",
       "      <td>0</td>\n",
       "      <td>5</td>\n",
       "      <td>5</td>\n",
       "      <td>3</td>\n",
       "      <td>0</td>\n",
       "      <td>50825</td>\n",
       "      <td>1</td>\n",
       "      <td>19</td>\n",
       "      <td>Production Technician I</td>\n",
       "      <td>MA</td>\n",
       "      <td>2169</td>\n",
       "      <td>09/08/89</td>\n",
       "      <td>F</td>\n",
       "      <td>Divorced</td>\n",
       "      <td>US Citizen</td>\n",
       "      <td>No</td>\n",
       "      <td>White</td>\n",
       "      <td>7/11/2011</td>\n",
       "      <td>9/6/2016</td>\n",
       "      <td>return to school</td>\n",
       "      <td>Voluntarily Terminated</td>\n",
       "      <td>Production</td>\n",
       "      <td>Webster Butler</td>\n",
       "      <td>39.0</td>\n",
       "      <td>Google Search</td>\n",
       "      <td>Fully Meets</td>\n",
       "      <td>5.00</td>\n",
       "      <td>4</td>\n",
       "      <td>0</td>\n",
       "      <td>2/1/2016</td>\n",
       "      <td>0</td>\n",
       "      <td>2</td>\n",
       "    </tr>\n",
       "  </tbody>\n",
       "</table>\n",
       "</div>"
      ],
      "text/plain": [
       "              Employee_Name  EmpID  MarriedID  MaritalStatusID  GenderID  \\\n",
       "0       Adinolfi, Wilson  K  10026          0                0         1   \n",
       "1  Ait Sidi, Karthikeyan     10084          1                1         1   \n",
       "2         Akinkuolie, Sarah  10196          1                1         0   \n",
       "3              Alagbe,Trina  10088          1                1         0   \n",
       "4          Anderson, Carol   10069          0                2         0   \n",
       "\n",
       "   EmpStatusID  DeptID  PerfScoreID  FromDiversityJobFairID  Salary  Termd  \\\n",
       "0            1       5            4                       0   62506      0   \n",
       "1            5       3            3                       0  104437      1   \n",
       "2            5       5            3                       0   64955      1   \n",
       "3            1       5            3                       0   64991      0   \n",
       "4            5       5            3                       0   50825      1   \n",
       "\n",
       "   PositionID                  Position State   Zip       DOB Sex MaritalDesc  \\\n",
       "0          19   Production Technician I    MA  1960  07/10/83  M       Single   \n",
       "1          27                   Sr. DBA    MA  2148  05/05/75  M      Married   \n",
       "2          20  Production Technician II    MA  1810  09/19/88   F     Married   \n",
       "3          19   Production Technician I    MA  1886  09/27/88   F     Married   \n",
       "4          19   Production Technician I    MA  2169  09/08/89   F    Divorced   \n",
       "\n",
       "  CitizenDesc HispanicLatino RaceDesc DateofHire DateofTermination  \\\n",
       "0  US Citizen             No    White   7/5/2011               NaN   \n",
       "1  US Citizen             No    White  3/30/2015         6/16/2016   \n",
       "2  US Citizen             No    White   7/5/2011         9/24/2012   \n",
       "3  US Citizen             No    White   1/7/2008               NaN   \n",
       "4  US Citizen             No    White  7/11/2011          9/6/2016   \n",
       "\n",
       "          TermReason        EmploymentStatus         Department  \\\n",
       "0  N/A-StillEmployed                  Active  Production          \n",
       "1      career change  Voluntarily Terminated              IT/IS   \n",
       "2              hours  Voluntarily Terminated  Production          \n",
       "3  N/A-StillEmployed                  Active  Production          \n",
       "4   return to school  Voluntarily Terminated  Production          \n",
       "\n",
       "      ManagerName  ManagerID RecruitmentSource PerformanceScore  \\\n",
       "0  Michael Albert       22.0          LinkedIn          Exceeds   \n",
       "1      Simon Roup        4.0            Indeed      Fully Meets   \n",
       "2  Kissy Sullivan       20.0          LinkedIn      Fully Meets   \n",
       "3    Elijiah Gray       16.0            Indeed      Fully Meets   \n",
       "4  Webster Butler       39.0     Google Search      Fully Meets   \n",
       "\n",
       "   EngagementSurvey  EmpSatisfaction  SpecialProjectsCount  \\\n",
       "0              4.60                5                     0   \n",
       "1              4.96                3                     6   \n",
       "2              3.02                3                     0   \n",
       "3              4.84                5                     0   \n",
       "4              5.00                4                     0   \n",
       "\n",
       "  LastPerformanceReview_Date  DaysLateLast30  Absences  \n",
       "0                  1/17/2019               0         1  \n",
       "1                  2/24/2016               0        17  \n",
       "2                  5/15/2012               0         3  \n",
       "3                   1/3/2019               0        15  \n",
       "4                   2/1/2016               0         2  "
      ]
     },
     "execution_count": 4,
     "metadata": {},
     "output_type": "execute_result"
    }
   ],
   "source": [
    "hr_data.head()"
   ]
  },
  {
   "cell_type": "code",
   "execution_count": 5,
   "metadata": {
    "cell_id": "1cabbef222a240c0bec53a93c8a19ce6",
    "deepnote_cell_type": "code",
    "deepnote_to_be_reexecuted": false,
    "execution_millis": 9,
    "execution_start": 1663332388213,
    "source_hash": "a20df10",
    "tags": []
   },
   "outputs": [
    {
     "data": {
      "application/vnd.deepnote.dataframe.v3+json": {
       "column_count": 36,
       "columns": [
        {
         "dtype": "object",
         "name": "Employee_Name",
         "stats": {
          "categories": [
           {
            "count": 1,
            "name": "Woodson, Jason"
           },
           {
            "count": 1,
            "name": "Ybarra, Catherine "
           },
           {
            "count": 3,
            "name": "3 others"
           }
          ],
          "nan_count": 0,
          "unique_count": 5
         }
        },
        {
         "dtype": "int64",
         "name": "EmpID",
         "stats": {
          "histogram": [
           {
            "bin_end": 10039.1,
            "bin_start": 10010,
            "count": 1
           },
           {
            "bin_end": 10068.2,
            "bin_start": 10039.1,
            "count": 1
           },
           {
            "bin_end": 10097.3,
            "bin_start": 10068.2,
            "count": 0
           },
           {
            "bin_end": 10126.4,
            "bin_start": 10097.3,
            "count": 0
           },
           {
            "bin_end": 10155.5,
            "bin_start": 10126.4,
            "count": 1
           },
           {
            "bin_end": 10184.6,
            "bin_start": 10155.5,
            "count": 0
           },
           {
            "bin_end": 10213.7,
            "bin_start": 10184.6,
            "count": 0
           },
           {
            "bin_end": 10242.8,
            "bin_start": 10213.7,
            "count": 0
           },
           {
            "bin_end": 10271.9,
            "bin_start": 10242.8,
            "count": 1
           },
           {
            "bin_end": 10301,
            "bin_start": 10271.9,
            "count": 1
           }
          ],
          "max": "10301",
          "min": "10010",
          "nan_count": 0,
          "unique_count": 5
         }
        },
        {
         "dtype": "int64",
         "name": "MarriedID",
         "stats": {
          "histogram": [
           {
            "bin_end": -0.4,
            "bin_start": -0.5,
            "count": 0
           },
           {
            "bin_end": -0.3,
            "bin_start": -0.4,
            "count": 0
           },
           {
            "bin_end": -0.19999999999999996,
            "bin_start": -0.3,
            "count": 0
           },
           {
            "bin_end": -0.09999999999999998,
            "bin_start": -0.19999999999999996,
            "count": 0
           },
           {
            "bin_end": 0,
            "bin_start": -0.09999999999999998,
            "count": 0
           },
           {
            "bin_end": 0.10000000000000009,
            "bin_start": 0,
            "count": 5
           },
           {
            "bin_end": 0.20000000000000007,
            "bin_start": 0.10000000000000009,
            "count": 0
           },
           {
            "bin_end": 0.30000000000000004,
            "bin_start": 0.20000000000000007,
            "count": 0
           },
           {
            "bin_end": 0.4,
            "bin_start": 0.30000000000000004,
            "count": 0
           },
           {
            "bin_end": 0.5,
            "bin_start": 0.4,
            "count": 0
           }
          ],
          "max": "0",
          "min": "0",
          "nan_count": 0,
          "unique_count": 1
         }
        },
        {
         "dtype": "int64",
         "name": "MaritalStatusID",
         "stats": {
          "histogram": [
           {
            "bin_end": 0.4,
            "bin_start": 0,
            "count": 4
           },
           {
            "bin_end": 0.8,
            "bin_start": 0.4,
            "count": 0
           },
           {
            "bin_end": 1.2000000000000002,
            "bin_start": 0.8,
            "count": 0
           },
           {
            "bin_end": 1.6,
            "bin_start": 1.2000000000000002,
            "count": 0
           },
           {
            "bin_end": 2,
            "bin_start": 1.6,
            "count": 0
           },
           {
            "bin_end": 2.4000000000000004,
            "bin_start": 2,
            "count": 0
           },
           {
            "bin_end": 2.8000000000000003,
            "bin_start": 2.4000000000000004,
            "count": 0
           },
           {
            "bin_end": 3.2,
            "bin_start": 2.8000000000000003,
            "count": 0
           },
           {
            "bin_end": 3.6,
            "bin_start": 3.2,
            "count": 0
           },
           {
            "bin_end": 4,
            "bin_start": 3.6,
            "count": 1
           }
          ],
          "max": "4",
          "min": "0",
          "nan_count": 0,
          "unique_count": 2
         }
        },
        {
         "dtype": "int64",
         "name": "GenderID",
         "stats": {
          "histogram": [
           {
            "bin_end": 0.1,
            "bin_start": 0,
            "count": 4
           },
           {
            "bin_end": 0.2,
            "bin_start": 0.1,
            "count": 0
           },
           {
            "bin_end": 0.30000000000000004,
            "bin_start": 0.2,
            "count": 0
           },
           {
            "bin_end": 0.4,
            "bin_start": 0.30000000000000004,
            "count": 0
           },
           {
            "bin_end": 0.5,
            "bin_start": 0.4,
            "count": 0
           },
           {
            "bin_end": 0.6000000000000001,
            "bin_start": 0.5,
            "count": 0
           },
           {
            "bin_end": 0.7000000000000001,
            "bin_start": 0.6000000000000001,
            "count": 0
           },
           {
            "bin_end": 0.8,
            "bin_start": 0.7000000000000001,
            "count": 0
           },
           {
            "bin_end": 0.9,
            "bin_start": 0.8,
            "count": 0
           },
           {
            "bin_end": 1,
            "bin_start": 0.9,
            "count": 1
           }
          ],
          "max": "1",
          "min": "0",
          "nan_count": 0,
          "unique_count": 2
         }
        },
        {
         "dtype": "int64",
         "name": "EmpStatusID",
         "stats": {
          "histogram": [
           {
            "bin_end": 1.4,
            "bin_start": 1,
            "count": 4
           },
           {
            "bin_end": 1.8,
            "bin_start": 1.4,
            "count": 0
           },
           {
            "bin_end": 2.2,
            "bin_start": 1.8,
            "count": 0
           },
           {
            "bin_end": 2.6,
            "bin_start": 2.2,
            "count": 0
           },
           {
            "bin_end": 3,
            "bin_start": 2.6,
            "count": 0
           },
           {
            "bin_end": 3.4000000000000004,
            "bin_start": 3,
            "count": 0
           },
           {
            "bin_end": 3.8000000000000003,
            "bin_start": 3.4000000000000004,
            "count": 0
           },
           {
            "bin_end": 4.2,
            "bin_start": 3.8000000000000003,
            "count": 0
           },
           {
            "bin_end": 4.6,
            "bin_start": 4.2,
            "count": 0
           },
           {
            "bin_end": 5,
            "bin_start": 4.6,
            "count": 1
           }
          ],
          "max": "5",
          "min": "1",
          "nan_count": 0,
          "unique_count": 2
         }
        },
        {
         "dtype": "int64",
         "name": "DeptID",
         "stats": {
          "histogram": [
           {
            "bin_end": 3.2,
            "bin_start": 3,
            "count": 2
           },
           {
            "bin_end": 3.4,
            "bin_start": 3.2,
            "count": 0
           },
           {
            "bin_end": 3.6,
            "bin_start": 3.4,
            "count": 0
           },
           {
            "bin_end": 3.8,
            "bin_start": 3.6,
            "count": 0
           },
           {
            "bin_end": 4,
            "bin_start": 3.8,
            "count": 0
           },
           {
            "bin_end": 4.2,
            "bin_start": 4,
            "count": 0
           },
           {
            "bin_end": 4.4,
            "bin_start": 4.2,
            "count": 0
           },
           {
            "bin_end": 4.6,
            "bin_start": 4.4,
            "count": 0
           },
           {
            "bin_end": 4.8,
            "bin_start": 4.6,
            "count": 0
           },
           {
            "bin_end": 5,
            "bin_start": 4.8,
            "count": 3
           }
          ],
          "max": "5",
          "min": "3",
          "nan_count": 0,
          "unique_count": 2
         }
        },
        {
         "dtype": "int64",
         "name": "PerfScoreID",
         "stats": {
          "histogram": [
           {
            "bin_end": 1.3,
            "bin_start": 1,
            "count": 1
           },
           {
            "bin_end": 1.6,
            "bin_start": 1.3,
            "count": 0
           },
           {
            "bin_end": 1.9,
            "bin_start": 1.6,
            "count": 0
           },
           {
            "bin_end": 2.2,
            "bin_start": 1.9,
            "count": 0
           },
           {
            "bin_end": 2.5,
            "bin_start": 2.2,
            "count": 0
           },
           {
            "bin_end": 2.8,
            "bin_start": 2.5,
            "count": 0
           },
           {
            "bin_end": 3.1,
            "bin_start": 2.8,
            "count": 3
           },
           {
            "bin_end": 3.4,
            "bin_start": 3.1,
            "count": 0
           },
           {
            "bin_end": 3.6999999999999997,
            "bin_start": 3.4,
            "count": 0
           },
           {
            "bin_end": 4,
            "bin_start": 3.6999999999999997,
            "count": 1
           }
          ],
          "max": "4",
          "min": "1",
          "nan_count": 0,
          "unique_count": 3
         }
        },
        {
         "dtype": "int64",
         "name": "FromDiversityJobFairID",
         "stats": {
          "histogram": [
           {
            "bin_end": -0.4,
            "bin_start": -0.5,
            "count": 0
           },
           {
            "bin_end": -0.3,
            "bin_start": -0.4,
            "count": 0
           },
           {
            "bin_end": -0.19999999999999996,
            "bin_start": -0.3,
            "count": 0
           },
           {
            "bin_end": -0.09999999999999998,
            "bin_start": -0.19999999999999996,
            "count": 0
           },
           {
            "bin_end": 0,
            "bin_start": -0.09999999999999998,
            "count": 0
           },
           {
            "bin_end": 0.10000000000000009,
            "bin_start": 0,
            "count": 5
           },
           {
            "bin_end": 0.20000000000000007,
            "bin_start": 0.10000000000000009,
            "count": 0
           },
           {
            "bin_end": 0.30000000000000004,
            "bin_start": 0.20000000000000007,
            "count": 0
           },
           {
            "bin_end": 0.4,
            "bin_start": 0.30000000000000004,
            "count": 0
           },
           {
            "bin_end": 0.5,
            "bin_start": 0.4,
            "count": 0
           }
          ],
          "max": "0",
          "min": "0",
          "nan_count": 0,
          "unique_count": 1
         }
        },
        {
         "dtype": "int64",
         "name": "Salary",
         "stats": {
          "histogram": [
           {
            "bin_end": 62586.4,
            "bin_start": 45046,
            "count": 2
           },
           {
            "bin_end": 80126.8,
            "bin_start": 62586.4,
            "count": 1
           },
           {
            "bin_end": 97667.20000000001,
            "bin_start": 80126.8,
            "count": 1
           },
           {
            "bin_end": 115207.6,
            "bin_start": 97667.20000000001,
            "count": 0
           },
           {
            "bin_end": 132748,
            "bin_start": 115207.6,
            "count": 0
           },
           {
            "bin_end": 150288.40000000002,
            "bin_start": 132748,
            "count": 0
           },
           {
            "bin_end": 167828.80000000002,
            "bin_start": 150288.40000000002,
            "count": 0
           },
           {
            "bin_end": 185369.2,
            "bin_start": 167828.80000000002,
            "count": 0
           },
           {
            "bin_end": 202909.6,
            "bin_start": 185369.2,
            "count": 0
           },
           {
            "bin_end": 220450,
            "bin_start": 202909.6,
            "count": 1
           }
          ],
          "max": "220450",
          "min": "45046",
          "nan_count": 0,
          "unique_count": 5
         }
        },
        {
         "dtype": "int64",
         "name": "Termd",
         "stats": {
          "histogram": [
           {
            "bin_end": 0.1,
            "bin_start": 0,
            "count": 4
           },
           {
            "bin_end": 0.2,
            "bin_start": 0.1,
            "count": 0
           },
           {
            "bin_end": 0.30000000000000004,
            "bin_start": 0.2,
            "count": 0
           },
           {
            "bin_end": 0.4,
            "bin_start": 0.30000000000000004,
            "count": 0
           },
           {
            "bin_end": 0.5,
            "bin_start": 0.4,
            "count": 0
           },
           {
            "bin_end": 0.6000000000000001,
            "bin_start": 0.5,
            "count": 0
           },
           {
            "bin_end": 0.7000000000000001,
            "bin_start": 0.6000000000000001,
            "count": 0
           },
           {
            "bin_end": 0.8,
            "bin_start": 0.7000000000000001,
            "count": 0
           },
           {
            "bin_end": 0.9,
            "bin_start": 0.8,
            "count": 0
           },
           {
            "bin_end": 1,
            "bin_start": 0.9,
            "count": 1
           }
          ],
          "max": "1",
          "min": "0",
          "nan_count": 0,
          "unique_count": 2
         }
        },
        {
         "dtype": "int64",
         "name": "PositionID",
         "stats": {
          "histogram": [
           {
            "bin_end": 7.4,
            "bin_start": 6,
            "count": 1
           },
           {
            "bin_end": 8.8,
            "bin_start": 7.4,
            "count": 0
           },
           {
            "bin_end": 10.2,
            "bin_start": 8.8,
            "count": 1
           },
           {
            "bin_end": 11.6,
            "bin_start": 10.2,
            "count": 0
           },
           {
            "bin_end": 13,
            "bin_start": 11.6,
            "count": 0
           },
           {
            "bin_end": 14.399999999999999,
            "bin_start": 13,
            "count": 0
           },
           {
            "bin_end": 15.799999999999999,
            "bin_start": 14.399999999999999,
            "count": 0
           },
           {
            "bin_end": 17.2,
            "bin_start": 15.799999999999999,
            "count": 0
           },
           {
            "bin_end": 18.6,
            "bin_start": 17.2,
            "count": 0
           },
           {
            "bin_end": 20,
            "bin_start": 18.6,
            "count": 3
           }
          ],
          "max": "20",
          "min": "6",
          "nan_count": 0,
          "unique_count": 4
         }
        },
        {
         "dtype": "object",
         "name": "Position",
         "stats": {
          "categories": [
           {
            "count": 2,
            "name": "Production Technician I"
           },
           {
            "count": 1,
            "name": "Production Technician II"
           },
           {
            "count": 2,
            "name": "2 others"
           }
          ],
          "nan_count": 0,
          "unique_count": 4
         }
        },
        {
         "dtype": "object",
         "name": "State",
         "stats": {
          "categories": [
           {
            "count": 5,
            "name": "MA"
           }
          ],
          "nan_count": 0,
          "unique_count": 1
         }
        },
        {
         "dtype": "int64",
         "name": "Zip",
         "stats": {
          "histogram": [
           {
            "bin_end": 1802.8,
            "bin_start": 1730,
            "count": 1
           },
           {
            "bin_end": 1875.6,
            "bin_start": 1802.8,
            "count": 1
           },
           {
            "bin_end": 1948.4,
            "bin_start": 1875.6,
            "count": 0
           },
           {
            "bin_end": 2021.2,
            "bin_start": 1948.4,
            "count": 0
           },
           {
            "bin_end": 2094,
            "bin_start": 2021.2,
            "count": 1
           },
           {
            "bin_end": 2166.8,
            "bin_start": 2094,
            "count": 1
           },
           {
            "bin_end": 2239.6,
            "bin_start": 2166.8,
            "count": 0
           },
           {
            "bin_end": 2312.4,
            "bin_start": 2239.6,
            "count": 0
           },
           {
            "bin_end": 2385.2,
            "bin_start": 2312.4,
            "count": 0
           },
           {
            "bin_end": 2458,
            "bin_start": 2385.2,
            "count": 1
           }
          ],
          "max": "2458",
          "min": "1730",
          "nan_count": 0,
          "unique_count": 5
         }
        },
        {
         "dtype": "object",
         "name": "DOB",
         "stats": {
          "categories": [
           {
            "count": 1,
            "name": "05/11/85"
           },
           {
            "count": 1,
            "name": "05/04/82"
           },
           {
            "count": 3,
            "name": "3 others"
           }
          ],
          "nan_count": 0,
          "unique_count": 5
         }
        },
        {
         "dtype": "object",
         "name": "Sex",
         "stats": {
          "categories": [
           {
            "count": 4,
            "name": "F"
           },
           {
            "count": 1,
            "name": "M "
           }
          ],
          "nan_count": 0,
          "unique_count": 2
         }
        },
        {
         "dtype": "object",
         "name": "MaritalDesc",
         "stats": {
          "categories": [
           {
            "count": 4,
            "name": "Single"
           },
           {
            "count": 1,
            "name": "Widowed"
           }
          ],
          "nan_count": 0,
          "unique_count": 2
         }
        },
        {
         "dtype": "object",
         "name": "CitizenDesc",
         "stats": {
          "categories": [
           {
            "count": 5,
            "name": "US Citizen"
           }
          ],
          "nan_count": 0,
          "unique_count": 1
         }
        },
        {
         "dtype": "object",
         "name": "HispanicLatino",
         "stats": {
          "categories": [
           {
            "count": 5,
            "name": "No"
           }
          ],
          "nan_count": 0,
          "unique_count": 1
         }
        },
        {
         "dtype": "object",
         "name": "RaceDesc",
         "stats": {
          "categories": [
           {
            "count": 3,
            "name": "White"
           },
           {
            "count": 2,
            "name": "Asian"
           }
          ],
          "nan_count": 0,
          "unique_count": 2
         }
        },
        {
         "dtype": "object",
         "name": "DateofHire",
         "stats": {
          "categories": [
           {
            "count": 1,
            "name": "7/7/2014"
           },
           {
            "count": 1,
            "name": "9/2/2008"
           },
           {
            "count": 3,
            "name": "3 others"
           }
          ],
          "nan_count": 0,
          "unique_count": 5
         }
        },
        {
         "dtype": "object",
         "name": "DateofTermination",
         "stats": {
          "categories": [
           {
            "count": 1,
            "name": "9/29/2015"
           },
           {
            "count": 4,
            "name": "Missing"
           }
          ],
          "nan_count": 4,
          "unique_count": 1
         }
        },
        {
         "dtype": "object",
         "name": "TermReason",
         "stats": {
          "categories": [
           {
            "count": 4,
            "name": "N/A-StillEmployed"
           },
           {
            "count": 1,
            "name": "Another position"
           }
          ],
          "nan_count": 0,
          "unique_count": 2
         }
        },
        {
         "dtype": "object",
         "name": "EmploymentStatus",
         "stats": {
          "categories": [
           {
            "count": 4,
            "name": "Active"
           },
           {
            "count": 1,
            "name": "Voluntarily Terminated"
           }
          ],
          "nan_count": 0,
          "unique_count": 2
         }
        },
        {
         "dtype": "object",
         "name": "Department",
         "stats": {
          "categories": [
           {
            "count": 3,
            "name": "Production       "
           },
           {
            "count": 2,
            "name": "IT/IS"
           }
          ],
          "nan_count": 0,
          "unique_count": 2
         }
        },
        {
         "dtype": "object",
         "name": "ManagerName",
         "stats": {
          "categories": [
           {
            "count": 1,
            "name": "Kissy Sullivan"
           },
           {
            "count": 1,
            "name": "Brannon Miller"
           },
           {
            "count": 3,
            "name": "3 others"
           }
          ],
          "nan_count": 0,
          "unique_count": 5
         }
        },
        {
         "dtype": "float64",
         "name": "ManagerID",
         "stats": {
          "histogram": [
           {
            "bin_end": 3.8,
            "bin_start": 2,
            "count": 1
           },
           {
            "bin_end": 5.6,
            "bin_start": 3.8,
            "count": 1
           },
           {
            "bin_end": 7.4,
            "bin_start": 5.6,
            "count": 0
           },
           {
            "bin_end": 9.2,
            "bin_start": 7.4,
            "count": 0
           },
           {
            "bin_end": 11,
            "bin_start": 9.2,
            "count": 0
           },
           {
            "bin_end": 12.8,
            "bin_start": 11,
            "count": 1
           },
           {
            "bin_end": 14.6,
            "bin_start": 12.8,
            "count": 1
           },
           {
            "bin_end": 16.4,
            "bin_start": 14.6,
            "count": 0
           },
           {
            "bin_end": 18.2,
            "bin_start": 16.4,
            "count": 0
           },
           {
            "bin_end": 20,
            "bin_start": 18.2,
            "count": 1
           }
          ],
          "max": "20.0",
          "min": "2.0",
          "nan_count": 0,
          "unique_count": 5
         }
        },
        {
         "dtype": "object",
         "name": "RecruitmentSource",
         "stats": {
          "categories": [
           {
            "count": 2,
            "name": "LinkedIn"
           },
           {
            "count": 2,
            "name": "Employee Referral"
           },
           {
            "count": 1,
            "name": "Google Search"
           }
          ],
          "nan_count": 0,
          "unique_count": 3
         }
        },
        {
         "dtype": "object",
         "name": "PerformanceScore",
         "stats": {
          "categories": [
           {
            "count": 3,
            "name": "Fully Meets"
           },
           {
            "count": 1,
            "name": "PIP"
           },
           {
            "count": 1,
            "name": "Exceeds"
           }
          ],
          "nan_count": 0,
          "unique_count": 3
         }
        },
        {
         "dtype": "float64",
         "name": "EngagementSurvey",
         "stats": {
          "histogram": [
           {
            "bin_end": 3.3800000000000003,
            "bin_start": 3.2,
            "count": 1
           },
           {
            "bin_end": 3.56,
            "bin_start": 3.3800000000000003,
            "count": 0
           },
           {
            "bin_end": 3.74,
            "bin_start": 3.56,
            "count": 0
           },
           {
            "bin_end": 3.92,
            "bin_start": 3.74,
            "count": 0
           },
           {
            "bin_end": 4.1,
            "bin_start": 3.92,
            "count": 1
           },
           {
            "bin_end": 4.28,
            "bin_start": 4.1,
            "count": 0
           },
           {
            "bin_end": 4.46,
            "bin_start": 4.28,
            "count": 0
           },
           {
            "bin_end": 4.640000000000001,
            "bin_start": 4.46,
            "count": 2
           },
           {
            "bin_end": 4.82,
            "bin_start": 4.640000000000001,
            "count": 0
           },
           {
            "bin_end": 5,
            "bin_start": 4.82,
            "count": 1
           }
          ],
          "max": "5.0",
          "min": "3.2",
          "nan_count": 0,
          "unique_count": 5
         }
        },
        {
         "dtype": "int64",
         "name": "EmpSatisfaction",
         "stats": {
          "histogram": [
           {
            "bin_end": 2.3,
            "bin_start": 2,
            "count": 1
           },
           {
            "bin_end": 2.6,
            "bin_start": 2.3,
            "count": 0
           },
           {
            "bin_end": 2.9,
            "bin_start": 2.6,
            "count": 0
           },
           {
            "bin_end": 3.2,
            "bin_start": 2.9,
            "count": 1
           },
           {
            "bin_end": 3.5,
            "bin_start": 3.2,
            "count": 0
           },
           {
            "bin_end": 3.8,
            "bin_start": 3.5,
            "count": 0
           },
           {
            "bin_end": 4.1,
            "bin_start": 3.8,
            "count": 1
           },
           {
            "bin_end": 4.4,
            "bin_start": 4.1,
            "count": 0
           },
           {
            "bin_end": 4.699999999999999,
            "bin_start": 4.4,
            "count": 0
           },
           {
            "bin_end": 5,
            "bin_start": 4.699999999999999,
            "count": 2
           }
          ],
          "max": "5",
          "min": "2",
          "nan_count": 0,
          "unique_count": 4
         }
        },
        {
         "dtype": "int64",
         "name": "SpecialProjectsCount",
         "stats": {
          "histogram": [
           {
            "bin_end": 0.6,
            "bin_start": 0,
            "count": 3
           },
           {
            "bin_end": 1.2,
            "bin_start": 0.6,
            "count": 0
           },
           {
            "bin_end": 1.7999999999999998,
            "bin_start": 1.2,
            "count": 0
           },
           {
            "bin_end": 2.4,
            "bin_start": 1.7999999999999998,
            "count": 0
           },
           {
            "bin_end": 3,
            "bin_start": 2.4,
            "count": 0
           },
           {
            "bin_end": 3.5999999999999996,
            "bin_start": 3,
            "count": 0
           },
           {
            "bin_end": 4.2,
            "bin_start": 3.5999999999999996,
            "count": 0
           },
           {
            "bin_end": 4.8,
            "bin_start": 4.2,
            "count": 0
           },
           {
            "bin_end": 5.3999999999999995,
            "bin_start": 4.8,
            "count": 1
           },
           {
            "bin_end": 6,
            "bin_start": 5.3999999999999995,
            "count": 1
           }
          ],
          "max": "6",
          "min": "0",
          "nan_count": 0,
          "unique_count": 3
         }
        },
        {
         "dtype": "object",
         "name": "LastPerformanceReview_Date",
         "stats": {
          "categories": [
           {
            "count": 1,
            "name": "2/28/2019"
           },
           {
            "count": 1,
            "name": "9/2/2015"
           },
           {
            "count": 3,
            "name": "3 others"
           }
          ],
          "nan_count": 0,
          "unique_count": 5
         }
        },
        {
         "dtype": "int64",
         "name": "DaysLateLast30",
         "stats": {
          "histogram": [
           {
            "bin_end": 0.5,
            "bin_start": 0,
            "count": 4
           },
           {
            "bin_end": 1,
            "bin_start": 0.5,
            "count": 0
           },
           {
            "bin_end": 1.5,
            "bin_start": 1,
            "count": 0
           },
           {
            "bin_end": 2,
            "bin_start": 1.5,
            "count": 0
           },
           {
            "bin_end": 2.5,
            "bin_start": 2,
            "count": 0
           },
           {
            "bin_end": 3,
            "bin_start": 2.5,
            "count": 0
           },
           {
            "bin_end": 3.5,
            "bin_start": 3,
            "count": 0
           },
           {
            "bin_end": 4,
            "bin_start": 3.5,
            "count": 0
           },
           {
            "bin_end": 4.5,
            "bin_start": 4,
            "count": 0
           },
           {
            "bin_end": 5,
            "bin_start": 4.5,
            "count": 1
           }
          ],
          "max": "5",
          "min": "0",
          "nan_count": 0,
          "unique_count": 2
         }
        },
        {
         "dtype": "int64",
         "name": "Absences",
         "stats": {
          "histogram": [
           {
            "bin_end": 3.4,
            "bin_start": 2,
            "count": 1
           },
           {
            "bin_end": 4.8,
            "bin_start": 3.4,
            "count": 1
           },
           {
            "bin_end": 6.199999999999999,
            "bin_start": 4.8,
            "count": 0
           },
           {
            "bin_end": 7.6,
            "bin_start": 6.199999999999999,
            "count": 0
           },
           {
            "bin_end": 9,
            "bin_start": 7.6,
            "count": 0
           },
           {
            "bin_end": 10.399999999999999,
            "bin_start": 9,
            "count": 0
           },
           {
            "bin_end": 11.799999999999999,
            "bin_start": 10.399999999999999,
            "count": 1
           },
           {
            "bin_end": 13.2,
            "bin_start": 11.799999999999999,
            "count": 1
           },
           {
            "bin_end": 14.6,
            "bin_start": 13.2,
            "count": 0
           },
           {
            "bin_end": 16,
            "bin_start": 14.6,
            "count": 1
           }
          ],
          "max": "16",
          "min": "2",
          "nan_count": 0,
          "unique_count": 5
         }
        },
        {
         "dtype": "int64",
         "name": "_deepnote_index_column"
        }
       ],
       "row_count": 5,
       "rows": [
        {
         "Absences": "13",
         "CitizenDesc": "US Citizen",
         "DOB": "05/11/85",
         "DateofHire": "7/7/2014",
         "DateofTermination": "nan",
         "DaysLateLast30": "0",
         "Department": "Production       ",
         "DeptID": "5",
         "EmpID": "10135",
         "EmpSatisfaction": "4",
         "EmpStatusID": "1",
         "Employee_Name": "Woodson, Jason",
         "EmploymentStatus": "Active",
         "EngagementSurvey": "4.07",
         "FromDiversityJobFairID": "0",
         "GenderID": "1",
         "HispanicLatino": "No",
         "LastPerformanceReview_Date": "2/28/2019",
         "ManagerID": "20.0",
         "ManagerName": "Kissy Sullivan",
         "MaritalDesc": "Single",
         "MaritalStatusID": "0",
         "MarriedID": "0",
         "PerfScoreID": "3",
         "PerformanceScore": "Fully Meets",
         "Position": "Production Technician II",
         "PositionID": "20",
         "RaceDesc": "White",
         "RecruitmentSource": "LinkedIn",
         "Salary": "65893",
         "Sex": "M ",
         "SpecialProjectsCount": "0",
         "State": "MA",
         "TermReason": "N/A-StillEmployed",
         "Termd": "0",
         "Zip": "1810",
         "_deepnote_index_column": "306"
        },
        {
         "Absences": "4",
         "CitizenDesc": "US Citizen",
         "DOB": "05/04/82",
         "DateofHire": "9/2/2008",
         "DateofTermination": "9/29/2015",
         "DaysLateLast30": "5",
         "Department": "Production       ",
         "DeptID": "5",
         "EmpID": "10301",
         "EmpSatisfaction": "2",
         "EmpStatusID": "5",
         "Employee_Name": "Ybarra, Catherine ",
         "EmploymentStatus": "Voluntarily Terminated",
         "EngagementSurvey": "3.2",
         "FromDiversityJobFairID": "0",
         "GenderID": "0",
         "HispanicLatino": "No",
         "LastPerformanceReview_Date": "9/2/2015",
         "ManagerID": "12.0",
         "ManagerName": "Brannon Miller",
         "MaritalDesc": "Single",
         "MaritalStatusID": "0",
         "MarriedID": "0",
         "PerfScoreID": "1",
         "PerformanceScore": "PIP",
         "Position": "Production Technician I",
         "PositionID": "19",
         "RaceDesc": "Asian",
         "RecruitmentSource": "Google Search",
         "Salary": "48513",
         "Sex": "F",
         "SpecialProjectsCount": "0",
         "State": "MA",
         "TermReason": "Another position",
         "Termd": "1",
         "Zip": "2458",
         "_deepnote_index_column": "307"
        },
        {
         "Absences": "16",
         "CitizenDesc": "US Citizen",
         "DOB": "08/30/79",
         "DateofHire": "4/10/2010",
         "DateofTermination": "nan",
         "DaysLateLast30": "0",
         "Department": "IT/IS",
         "DeptID": "3",
         "EmpID": "10010",
         "EmpSatisfaction": "5",
         "EmpStatusID": "1",
         "Employee_Name": "Zamora, Jennifer",
         "EmploymentStatus": "Active",
         "EngagementSurvey": "4.6",
         "FromDiversityJobFairID": "0",
         "GenderID": "0",
         "HispanicLatino": "No",
         "LastPerformanceReview_Date": "2/21/2019",
         "ManagerID": "2.0",
         "ManagerName": "Janet King",
         "MaritalDesc": "Single",
         "MaritalStatusID": "0",
         "MarriedID": "0",
         "PerfScoreID": "4",
         "PerformanceScore": "Exceeds",
         "Position": "CIO",
         "PositionID": "6",
         "RaceDesc": "White",
         "RecruitmentSource": "Employee Referral",
         "Salary": "220450",
         "Sex": "F",
         "SpecialProjectsCount": "6",
         "State": "MA",
         "TermReason": "N/A-StillEmployed",
         "Termd": "0",
         "Zip": "2067",
         "_deepnote_index_column": "308"
        },
        {
         "Absences": "11",
         "CitizenDesc": "US Citizen",
         "DOB": "02/24/79",
         "DateofHire": "3/30/2015",
         "DateofTermination": "nan",
         "DaysLateLast30": "0",
         "Department": "IT/IS",
         "DeptID": "3",
         "EmpID": "10043",
         "EmpSatisfaction": "3",
         "EmpStatusID": "1",
         "Employee_Name": "Zhou, Julia",
         "EmploymentStatus": "Active",
         "EngagementSurvey": "5.0",
         "FromDiversityJobFairID": "0",
         "GenderID": "0",
         "HispanicLatino": "No",
         "LastPerformanceReview_Date": "2/1/2019",
         "ManagerID": "4.0",
         "ManagerName": "Simon Roup",
         "MaritalDesc": "Single",
         "MaritalStatusID": "0",
         "MarriedID": "0",
         "PerfScoreID": "3",
         "PerformanceScore": "Fully Meets",
         "Position": "Data Analyst",
         "PositionID": "9",
         "RaceDesc": "White",
         "RecruitmentSource": "Employee Referral",
         "Salary": "89292",
         "Sex": "F",
         "SpecialProjectsCount": "5",
         "State": "MA",
         "TermReason": "N/A-StillEmployed",
         "Termd": "0",
         "Zip": "2148",
         "_deepnote_index_column": "309"
        },
        {
         "Absences": "2",
         "CitizenDesc": "US Citizen",
         "DOB": "08/17/78",
         "DateofHire": "9/29/2014",
         "DateofTermination": "nan",
         "DaysLateLast30": "0",
         "Department": "Production       ",
         "DeptID": "5",
         "EmpID": "10271",
         "EmpSatisfaction": "5",
         "EmpStatusID": "1",
         "Employee_Name": "Zima, Colleen",
         "EmploymentStatus": "Active",
         "EngagementSurvey": "4.5",
         "FromDiversityJobFairID": "0",
         "GenderID": "0",
         "HispanicLatino": "No",
         "LastPerformanceReview_Date": "1/30/2019",
         "ManagerID": "14.0",
         "ManagerName": "David Stanley",
         "MaritalDesc": "Widowed",
         "MaritalStatusID": "4",
         "MarriedID": "0",
         "PerfScoreID": "3",
         "PerformanceScore": "Fully Meets",
         "Position": "Production Technician I",
         "PositionID": "19",
         "RaceDesc": "Asian",
         "RecruitmentSource": "LinkedIn",
         "Salary": "45046",
         "Sex": "F",
         "SpecialProjectsCount": "0",
         "State": "MA",
         "TermReason": "N/A-StillEmployed",
         "Termd": "0",
         "Zip": "1730",
         "_deepnote_index_column": "310"
        }
       ]
      },
      "text/html": [
       "<div>\n",
       "<style scoped>\n",
       "    .dataframe tbody tr th:only-of-type {\n",
       "        vertical-align: middle;\n",
       "    }\n",
       "\n",
       "    .dataframe tbody tr th {\n",
       "        vertical-align: top;\n",
       "    }\n",
       "\n",
       "    .dataframe thead th {\n",
       "        text-align: right;\n",
       "    }\n",
       "</style>\n",
       "<table border=\"1\" class=\"dataframe\">\n",
       "  <thead>\n",
       "    <tr style=\"text-align: right;\">\n",
       "      <th></th>\n",
       "      <th>Employee_Name</th>\n",
       "      <th>EmpID</th>\n",
       "      <th>MarriedID</th>\n",
       "      <th>MaritalStatusID</th>\n",
       "      <th>GenderID</th>\n",
       "      <th>EmpStatusID</th>\n",
       "      <th>DeptID</th>\n",
       "      <th>PerfScoreID</th>\n",
       "      <th>FromDiversityJobFairID</th>\n",
       "      <th>Salary</th>\n",
       "      <th>Termd</th>\n",
       "      <th>PositionID</th>\n",
       "      <th>Position</th>\n",
       "      <th>State</th>\n",
       "      <th>Zip</th>\n",
       "      <th>DOB</th>\n",
       "      <th>Sex</th>\n",
       "      <th>MaritalDesc</th>\n",
       "      <th>CitizenDesc</th>\n",
       "      <th>HispanicLatino</th>\n",
       "      <th>RaceDesc</th>\n",
       "      <th>DateofHire</th>\n",
       "      <th>DateofTermination</th>\n",
       "      <th>TermReason</th>\n",
       "      <th>EmploymentStatus</th>\n",
       "      <th>Department</th>\n",
       "      <th>ManagerName</th>\n",
       "      <th>ManagerID</th>\n",
       "      <th>RecruitmentSource</th>\n",
       "      <th>PerformanceScore</th>\n",
       "      <th>EngagementSurvey</th>\n",
       "      <th>EmpSatisfaction</th>\n",
       "      <th>SpecialProjectsCount</th>\n",
       "      <th>LastPerformanceReview_Date</th>\n",
       "      <th>DaysLateLast30</th>\n",
       "      <th>Absences</th>\n",
       "    </tr>\n",
       "  </thead>\n",
       "  <tbody>\n",
       "    <tr>\n",
       "      <th>306</th>\n",
       "      <td>Woodson, Jason</td>\n",
       "      <td>10135</td>\n",
       "      <td>0</td>\n",
       "      <td>0</td>\n",
       "      <td>1</td>\n",
       "      <td>1</td>\n",
       "      <td>5</td>\n",
       "      <td>3</td>\n",
       "      <td>0</td>\n",
       "      <td>65893</td>\n",
       "      <td>0</td>\n",
       "      <td>20</td>\n",
       "      <td>Production Technician II</td>\n",
       "      <td>MA</td>\n",
       "      <td>1810</td>\n",
       "      <td>05/11/85</td>\n",
       "      <td>M</td>\n",
       "      <td>Single</td>\n",
       "      <td>US Citizen</td>\n",
       "      <td>No</td>\n",
       "      <td>White</td>\n",
       "      <td>7/7/2014</td>\n",
       "      <td>NaN</td>\n",
       "      <td>N/A-StillEmployed</td>\n",
       "      <td>Active</td>\n",
       "      <td>Production</td>\n",
       "      <td>Kissy Sullivan</td>\n",
       "      <td>20.0</td>\n",
       "      <td>LinkedIn</td>\n",
       "      <td>Fully Meets</td>\n",
       "      <td>4.07</td>\n",
       "      <td>4</td>\n",
       "      <td>0</td>\n",
       "      <td>2/28/2019</td>\n",
       "      <td>0</td>\n",
       "      <td>13</td>\n",
       "    </tr>\n",
       "    <tr>\n",
       "      <th>307</th>\n",
       "      <td>Ybarra, Catherine</td>\n",
       "      <td>10301</td>\n",
       "      <td>0</td>\n",
       "      <td>0</td>\n",
       "      <td>0</td>\n",
       "      <td>5</td>\n",
       "      <td>5</td>\n",
       "      <td>1</td>\n",
       "      <td>0</td>\n",
       "      <td>48513</td>\n",
       "      <td>1</td>\n",
       "      <td>19</td>\n",
       "      <td>Production Technician I</td>\n",
       "      <td>MA</td>\n",
       "      <td>2458</td>\n",
       "      <td>05/04/82</td>\n",
       "      <td>F</td>\n",
       "      <td>Single</td>\n",
       "      <td>US Citizen</td>\n",
       "      <td>No</td>\n",
       "      <td>Asian</td>\n",
       "      <td>9/2/2008</td>\n",
       "      <td>9/29/2015</td>\n",
       "      <td>Another position</td>\n",
       "      <td>Voluntarily Terminated</td>\n",
       "      <td>Production</td>\n",
       "      <td>Brannon Miller</td>\n",
       "      <td>12.0</td>\n",
       "      <td>Google Search</td>\n",
       "      <td>PIP</td>\n",
       "      <td>3.20</td>\n",
       "      <td>2</td>\n",
       "      <td>0</td>\n",
       "      <td>9/2/2015</td>\n",
       "      <td>5</td>\n",
       "      <td>4</td>\n",
       "    </tr>\n",
       "    <tr>\n",
       "      <th>308</th>\n",
       "      <td>Zamora, Jennifer</td>\n",
       "      <td>10010</td>\n",
       "      <td>0</td>\n",
       "      <td>0</td>\n",
       "      <td>0</td>\n",
       "      <td>1</td>\n",
       "      <td>3</td>\n",
       "      <td>4</td>\n",
       "      <td>0</td>\n",
       "      <td>220450</td>\n",
       "      <td>0</td>\n",
       "      <td>6</td>\n",
       "      <td>CIO</td>\n",
       "      <td>MA</td>\n",
       "      <td>2067</td>\n",
       "      <td>08/30/79</td>\n",
       "      <td>F</td>\n",
       "      <td>Single</td>\n",
       "      <td>US Citizen</td>\n",
       "      <td>No</td>\n",
       "      <td>White</td>\n",
       "      <td>4/10/2010</td>\n",
       "      <td>NaN</td>\n",
       "      <td>N/A-StillEmployed</td>\n",
       "      <td>Active</td>\n",
       "      <td>IT/IS</td>\n",
       "      <td>Janet King</td>\n",
       "      <td>2.0</td>\n",
       "      <td>Employee Referral</td>\n",
       "      <td>Exceeds</td>\n",
       "      <td>4.60</td>\n",
       "      <td>5</td>\n",
       "      <td>6</td>\n",
       "      <td>2/21/2019</td>\n",
       "      <td>0</td>\n",
       "      <td>16</td>\n",
       "    </tr>\n",
       "    <tr>\n",
       "      <th>309</th>\n",
       "      <td>Zhou, Julia</td>\n",
       "      <td>10043</td>\n",
       "      <td>0</td>\n",
       "      <td>0</td>\n",
       "      <td>0</td>\n",
       "      <td>1</td>\n",
       "      <td>3</td>\n",
       "      <td>3</td>\n",
       "      <td>0</td>\n",
       "      <td>89292</td>\n",
       "      <td>0</td>\n",
       "      <td>9</td>\n",
       "      <td>Data Analyst</td>\n",
       "      <td>MA</td>\n",
       "      <td>2148</td>\n",
       "      <td>02/24/79</td>\n",
       "      <td>F</td>\n",
       "      <td>Single</td>\n",
       "      <td>US Citizen</td>\n",
       "      <td>No</td>\n",
       "      <td>White</td>\n",
       "      <td>3/30/2015</td>\n",
       "      <td>NaN</td>\n",
       "      <td>N/A-StillEmployed</td>\n",
       "      <td>Active</td>\n",
       "      <td>IT/IS</td>\n",
       "      <td>Simon Roup</td>\n",
       "      <td>4.0</td>\n",
       "      <td>Employee Referral</td>\n",
       "      <td>Fully Meets</td>\n",
       "      <td>5.00</td>\n",
       "      <td>3</td>\n",
       "      <td>5</td>\n",
       "      <td>2/1/2019</td>\n",
       "      <td>0</td>\n",
       "      <td>11</td>\n",
       "    </tr>\n",
       "    <tr>\n",
       "      <th>310</th>\n",
       "      <td>Zima, Colleen</td>\n",
       "      <td>10271</td>\n",
       "      <td>0</td>\n",
       "      <td>4</td>\n",
       "      <td>0</td>\n",
       "      <td>1</td>\n",
       "      <td>5</td>\n",
       "      <td>3</td>\n",
       "      <td>0</td>\n",
       "      <td>45046</td>\n",
       "      <td>0</td>\n",
       "      <td>19</td>\n",
       "      <td>Production Technician I</td>\n",
       "      <td>MA</td>\n",
       "      <td>1730</td>\n",
       "      <td>08/17/78</td>\n",
       "      <td>F</td>\n",
       "      <td>Widowed</td>\n",
       "      <td>US Citizen</td>\n",
       "      <td>No</td>\n",
       "      <td>Asian</td>\n",
       "      <td>9/29/2014</td>\n",
       "      <td>NaN</td>\n",
       "      <td>N/A-StillEmployed</td>\n",
       "      <td>Active</td>\n",
       "      <td>Production</td>\n",
       "      <td>David Stanley</td>\n",
       "      <td>14.0</td>\n",
       "      <td>LinkedIn</td>\n",
       "      <td>Fully Meets</td>\n",
       "      <td>4.50</td>\n",
       "      <td>5</td>\n",
       "      <td>0</td>\n",
       "      <td>1/30/2019</td>\n",
       "      <td>0</td>\n",
       "      <td>2</td>\n",
       "    </tr>\n",
       "  </tbody>\n",
       "</table>\n",
       "</div>"
      ],
      "text/plain": [
       "          Employee_Name  EmpID  MarriedID  MaritalStatusID  GenderID  \\\n",
       "306      Woodson, Jason  10135          0                0         1   \n",
       "307  Ybarra, Catherine   10301          0                0         0   \n",
       "308    Zamora, Jennifer  10010          0                0         0   \n",
       "309         Zhou, Julia  10043          0                0         0   \n",
       "310       Zima, Colleen  10271          0                4         0   \n",
       "\n",
       "     EmpStatusID  DeptID  PerfScoreID  FromDiversityJobFairID  Salary  Termd  \\\n",
       "306            1       5            3                       0   65893      0   \n",
       "307            5       5            1                       0   48513      1   \n",
       "308            1       3            4                       0  220450      0   \n",
       "309            1       3            3                       0   89292      0   \n",
       "310            1       5            3                       0   45046      0   \n",
       "\n",
       "     PositionID                  Position State   Zip       DOB Sex  \\\n",
       "306          20  Production Technician II    MA  1810  05/11/85  M    \n",
       "307          19   Production Technician I    MA  2458  05/04/82   F   \n",
       "308           6                       CIO    MA  2067  08/30/79   F   \n",
       "309           9              Data Analyst    MA  2148  02/24/79   F   \n",
       "310          19   Production Technician I    MA  1730  08/17/78   F   \n",
       "\n",
       "    MaritalDesc CitizenDesc HispanicLatino RaceDesc DateofHire  \\\n",
       "306      Single  US Citizen             No    White   7/7/2014   \n",
       "307      Single  US Citizen             No    Asian   9/2/2008   \n",
       "308      Single  US Citizen             No    White  4/10/2010   \n",
       "309      Single  US Citizen             No    White  3/30/2015   \n",
       "310     Widowed  US Citizen             No    Asian  9/29/2014   \n",
       "\n",
       "    DateofTermination         TermReason        EmploymentStatus  \\\n",
       "306               NaN  N/A-StillEmployed                  Active   \n",
       "307         9/29/2015   Another position  Voluntarily Terminated   \n",
       "308               NaN  N/A-StillEmployed                  Active   \n",
       "309               NaN  N/A-StillEmployed                  Active   \n",
       "310               NaN  N/A-StillEmployed                  Active   \n",
       "\n",
       "            Department     ManagerName  ManagerID  RecruitmentSource  \\\n",
       "306  Production         Kissy Sullivan       20.0           LinkedIn   \n",
       "307  Production         Brannon Miller       12.0      Google Search   \n",
       "308              IT/IS      Janet King        2.0  Employee Referral   \n",
       "309              IT/IS      Simon Roup        4.0  Employee Referral   \n",
       "310  Production          David Stanley       14.0           LinkedIn   \n",
       "\n",
       "    PerformanceScore  EngagementSurvey  EmpSatisfaction  SpecialProjectsCount  \\\n",
       "306      Fully Meets              4.07                4                     0   \n",
       "307              PIP              3.20                2                     0   \n",
       "308          Exceeds              4.60                5                     6   \n",
       "309      Fully Meets              5.00                3                     5   \n",
       "310      Fully Meets              4.50                5                     0   \n",
       "\n",
       "    LastPerformanceReview_Date  DaysLateLast30  Absences  \n",
       "306                  2/28/2019               0        13  \n",
       "307                   9/2/2015               5         4  \n",
       "308                  2/21/2019               0        16  \n",
       "309                   2/1/2019               0        11  \n",
       "310                  1/30/2019               0         2  "
      ]
     },
     "execution_count": 5,
     "metadata": {},
     "output_type": "execute_result"
    }
   ],
   "source": [
    "hr_data.tail()"
   ]
  },
  {
   "cell_type": "code",
   "execution_count": 6,
   "metadata": {
    "cell_id": "9723b7afc98e42d9a41df0bce925ea60",
    "deepnote_cell_type": "code",
    "deepnote_to_be_reexecuted": false,
    "execution_millis": 155,
    "execution_start": 1663332388271,
    "source_hash": "8851eb3f",
    "tags": []
   },
   "outputs": [],
   "source": [
    "hr_data['DateofHire'] = pd.to_datetime(hr_data['DateofHire'])\n",
    "hr_data['DateofTermination'] = pd.to_datetime(hr_data['DateofTermination'])"
   ]
  },
  {
   "cell_type": "code",
   "execution_count": 7,
   "metadata": {
    "cell_id": "92e70d03554b4a659e81331e264a6d21",
    "deepnote_cell_type": "code",
    "deepnote_to_be_reexecuted": false,
    "execution_millis": 154,
    "execution_start": 1663332388272,
    "source_hash": "8fbeb0f9",
    "tags": []
   },
   "outputs": [
    {
     "name": "stdout",
     "output_type": "stream",
     "text": [
      "<class 'pandas.core.frame.DataFrame'>\n",
      "RangeIndex: 311 entries, 0 to 310\n",
      "Data columns (total 36 columns):\n",
      " #   Column                      Non-Null Count  Dtype         \n",
      "---  ------                      --------------  -----         \n",
      " 0   Employee_Name               311 non-null    object        \n",
      " 1   EmpID                       311 non-null    int64         \n",
      " 2   MarriedID                   311 non-null    int64         \n",
      " 3   MaritalStatusID             311 non-null    int64         \n",
      " 4   GenderID                    311 non-null    int64         \n",
      " 5   EmpStatusID                 311 non-null    int64         \n",
      " 6   DeptID                      311 non-null    int64         \n",
      " 7   PerfScoreID                 311 non-null    int64         \n",
      " 8   FromDiversityJobFairID      311 non-null    int64         \n",
      " 9   Salary                      311 non-null    int64         \n",
      " 10  Termd                       311 non-null    int64         \n",
      " 11  PositionID                  311 non-null    int64         \n",
      " 12  Position                    311 non-null    object        \n",
      " 13  State                       311 non-null    object        \n",
      " 14  Zip                         311 non-null    int64         \n",
      " 15  DOB                         311 non-null    object        \n",
      " 16  Sex                         311 non-null    object        \n",
      " 17  MaritalDesc                 311 non-null    object        \n",
      " 18  CitizenDesc                 311 non-null    object        \n",
      " 19  HispanicLatino              311 non-null    object        \n",
      " 20  RaceDesc                    311 non-null    object        \n",
      " 21  DateofHire                  311 non-null    datetime64[ns]\n",
      " 22  DateofTermination           104 non-null    datetime64[ns]\n",
      " 23  TermReason                  311 non-null    object        \n",
      " 24  EmploymentStatus            311 non-null    object        \n",
      " 25  Department                  311 non-null    object        \n",
      " 26  ManagerName                 311 non-null    object        \n",
      " 27  ManagerID                   303 non-null    float64       \n",
      " 28  RecruitmentSource           311 non-null    object        \n",
      " 29  PerformanceScore            311 non-null    object        \n",
      " 30  EngagementSurvey            311 non-null    float64       \n",
      " 31  EmpSatisfaction             311 non-null    int64         \n",
      " 32  SpecialProjectsCount        311 non-null    int64         \n",
      " 33  LastPerformanceReview_Date  311 non-null    object        \n",
      " 34  DaysLateLast30              311 non-null    int64         \n",
      " 35  Absences                    311 non-null    int64         \n",
      "dtypes: datetime64[ns](2), float64(2), int64(16), object(16)\n",
      "memory usage: 87.6+ KB\n"
     ]
    }
   ],
   "source": [
    "hr_data.info()"
   ]
  },
  {
   "cell_type": "code",
   "execution_count": 8,
   "metadata": {
    "cell_id": "8c7296a1b8614a6e959636258c0e6d14",
    "deepnote_cell_type": "code",
    "deepnote_to_be_reexecuted": false,
    "execution_millis": 156,
    "execution_start": 1663332388273,
    "source_hash": "d90b50b3",
    "tags": []
   },
   "outputs": [
    {
     "data": {
      "application/vnd.deepnote.dataframe.v3+json": {
       "column_count": 36,
       "columns": [
        {
         "dtype": "object",
         "name": "Employee_Name",
         "stats": {
          "categories": [
           {
            "count": 1,
            "name": "Adinolfi, Wilson  K"
           },
           {
            "count": 1,
            "name": "Ait Sidi, Karthikeyan   "
           },
           {
            "count": 3,
            "name": "3 others"
           }
          ],
          "nan_count": 0,
          "unique_count": 5
         }
        },
        {
         "dtype": "int64",
         "name": "EmpID",
         "stats": {
          "histogram": [
           {
            "bin_end": 10043,
            "bin_start": 10026,
            "count": 1
           },
           {
            "bin_end": 10060,
            "bin_start": 10043,
            "count": 0
           },
           {
            "bin_end": 10077,
            "bin_start": 10060,
            "count": 1
           },
           {
            "bin_end": 10094,
            "bin_start": 10077,
            "count": 2
           },
           {
            "bin_end": 10111,
            "bin_start": 10094,
            "count": 0
           },
           {
            "bin_end": 10128,
            "bin_start": 10111,
            "count": 0
           },
           {
            "bin_end": 10145,
            "bin_start": 10128,
            "count": 0
           },
           {
            "bin_end": 10162,
            "bin_start": 10145,
            "count": 0
           },
           {
            "bin_end": 10179,
            "bin_start": 10162,
            "count": 0
           },
           {
            "bin_end": 10196,
            "bin_start": 10179,
            "count": 1
           }
          ],
          "max": "10196",
          "min": "10026",
          "nan_count": 0,
          "unique_count": 5
         }
        },
        {
         "dtype": "int64",
         "name": "MarriedID",
         "stats": {
          "histogram": [
           {
            "bin_end": 0.1,
            "bin_start": 0,
            "count": 2
           },
           {
            "bin_end": 0.2,
            "bin_start": 0.1,
            "count": 0
           },
           {
            "bin_end": 0.30000000000000004,
            "bin_start": 0.2,
            "count": 0
           },
           {
            "bin_end": 0.4,
            "bin_start": 0.30000000000000004,
            "count": 0
           },
           {
            "bin_end": 0.5,
            "bin_start": 0.4,
            "count": 0
           },
           {
            "bin_end": 0.6000000000000001,
            "bin_start": 0.5,
            "count": 0
           },
           {
            "bin_end": 0.7000000000000001,
            "bin_start": 0.6000000000000001,
            "count": 0
           },
           {
            "bin_end": 0.8,
            "bin_start": 0.7000000000000001,
            "count": 0
           },
           {
            "bin_end": 0.9,
            "bin_start": 0.8,
            "count": 0
           },
           {
            "bin_end": 1,
            "bin_start": 0.9,
            "count": 3
           }
          ],
          "max": "1",
          "min": "0",
          "nan_count": 0,
          "unique_count": 2
         }
        },
        {
         "dtype": "int64",
         "name": "MaritalStatusID",
         "stats": {
          "histogram": [
           {
            "bin_end": 0.2,
            "bin_start": 0,
            "count": 1
           },
           {
            "bin_end": 0.4,
            "bin_start": 0.2,
            "count": 0
           },
           {
            "bin_end": 0.6000000000000001,
            "bin_start": 0.4,
            "count": 0
           },
           {
            "bin_end": 0.8,
            "bin_start": 0.6000000000000001,
            "count": 0
           },
           {
            "bin_end": 1,
            "bin_start": 0.8,
            "count": 0
           },
           {
            "bin_end": 1.2000000000000002,
            "bin_start": 1,
            "count": 3
           },
           {
            "bin_end": 1.4000000000000001,
            "bin_start": 1.2000000000000002,
            "count": 0
           },
           {
            "bin_end": 1.6,
            "bin_start": 1.4000000000000001,
            "count": 0
           },
           {
            "bin_end": 1.8,
            "bin_start": 1.6,
            "count": 0
           },
           {
            "bin_end": 2,
            "bin_start": 1.8,
            "count": 1
           }
          ],
          "max": "2",
          "min": "0",
          "nan_count": 0,
          "unique_count": 3
         }
        },
        {
         "dtype": "int64",
         "name": "GenderID",
         "stats": {
          "histogram": [
           {
            "bin_end": 0.1,
            "bin_start": 0,
            "count": 3
           },
           {
            "bin_end": 0.2,
            "bin_start": 0.1,
            "count": 0
           },
           {
            "bin_end": 0.30000000000000004,
            "bin_start": 0.2,
            "count": 0
           },
           {
            "bin_end": 0.4,
            "bin_start": 0.30000000000000004,
            "count": 0
           },
           {
            "bin_end": 0.5,
            "bin_start": 0.4,
            "count": 0
           },
           {
            "bin_end": 0.6000000000000001,
            "bin_start": 0.5,
            "count": 0
           },
           {
            "bin_end": 0.7000000000000001,
            "bin_start": 0.6000000000000001,
            "count": 0
           },
           {
            "bin_end": 0.8,
            "bin_start": 0.7000000000000001,
            "count": 0
           },
           {
            "bin_end": 0.9,
            "bin_start": 0.8,
            "count": 0
           },
           {
            "bin_end": 1,
            "bin_start": 0.9,
            "count": 2
           }
          ],
          "max": "1",
          "min": "0",
          "nan_count": 0,
          "unique_count": 2
         }
        },
        {
         "dtype": "int64",
         "name": "EmpStatusID",
         "stats": {
          "histogram": [
           {
            "bin_end": 1.4,
            "bin_start": 1,
            "count": 2
           },
           {
            "bin_end": 1.8,
            "bin_start": 1.4,
            "count": 0
           },
           {
            "bin_end": 2.2,
            "bin_start": 1.8,
            "count": 0
           },
           {
            "bin_end": 2.6,
            "bin_start": 2.2,
            "count": 0
           },
           {
            "bin_end": 3,
            "bin_start": 2.6,
            "count": 0
           },
           {
            "bin_end": 3.4000000000000004,
            "bin_start": 3,
            "count": 0
           },
           {
            "bin_end": 3.8000000000000003,
            "bin_start": 3.4000000000000004,
            "count": 0
           },
           {
            "bin_end": 4.2,
            "bin_start": 3.8000000000000003,
            "count": 0
           },
           {
            "bin_end": 4.6,
            "bin_start": 4.2,
            "count": 0
           },
           {
            "bin_end": 5,
            "bin_start": 4.6,
            "count": 3
           }
          ],
          "max": "5",
          "min": "1",
          "nan_count": 0,
          "unique_count": 2
         }
        },
        {
         "dtype": "int64",
         "name": "DeptID",
         "stats": {
          "histogram": [
           {
            "bin_end": 3.2,
            "bin_start": 3,
            "count": 1
           },
           {
            "bin_end": 3.4,
            "bin_start": 3.2,
            "count": 0
           },
           {
            "bin_end": 3.6,
            "bin_start": 3.4,
            "count": 0
           },
           {
            "bin_end": 3.8,
            "bin_start": 3.6,
            "count": 0
           },
           {
            "bin_end": 4,
            "bin_start": 3.8,
            "count": 0
           },
           {
            "bin_end": 4.2,
            "bin_start": 4,
            "count": 0
           },
           {
            "bin_end": 4.4,
            "bin_start": 4.2,
            "count": 0
           },
           {
            "bin_end": 4.6,
            "bin_start": 4.4,
            "count": 0
           },
           {
            "bin_end": 4.8,
            "bin_start": 4.6,
            "count": 0
           },
           {
            "bin_end": 5,
            "bin_start": 4.8,
            "count": 4
           }
          ],
          "max": "5",
          "min": "3",
          "nan_count": 0,
          "unique_count": 2
         }
        },
        {
         "dtype": "int64",
         "name": "PerfScoreID",
         "stats": {
          "histogram": [
           {
            "bin_end": 3.1,
            "bin_start": 3,
            "count": 4
           },
           {
            "bin_end": 3.2,
            "bin_start": 3.1,
            "count": 0
           },
           {
            "bin_end": 3.3,
            "bin_start": 3.2,
            "count": 0
           },
           {
            "bin_end": 3.4,
            "bin_start": 3.3,
            "count": 0
           },
           {
            "bin_end": 3.5,
            "bin_start": 3.4,
            "count": 0
           },
           {
            "bin_end": 3.6,
            "bin_start": 3.5,
            "count": 0
           },
           {
            "bin_end": 3.7,
            "bin_start": 3.6,
            "count": 0
           },
           {
            "bin_end": 3.8,
            "bin_start": 3.7,
            "count": 0
           },
           {
            "bin_end": 3.9,
            "bin_start": 3.8,
            "count": 0
           },
           {
            "bin_end": 4,
            "bin_start": 3.9,
            "count": 1
           }
          ],
          "max": "4",
          "min": "3",
          "nan_count": 0,
          "unique_count": 2
         }
        },
        {
         "dtype": "int64",
         "name": "FromDiversityJobFairID",
         "stats": {
          "histogram": [
           {
            "bin_end": -0.4,
            "bin_start": -0.5,
            "count": 0
           },
           {
            "bin_end": -0.3,
            "bin_start": -0.4,
            "count": 0
           },
           {
            "bin_end": -0.19999999999999996,
            "bin_start": -0.3,
            "count": 0
           },
           {
            "bin_end": -0.09999999999999998,
            "bin_start": -0.19999999999999996,
            "count": 0
           },
           {
            "bin_end": 0,
            "bin_start": -0.09999999999999998,
            "count": 0
           },
           {
            "bin_end": 0.10000000000000009,
            "bin_start": 0,
            "count": 5
           },
           {
            "bin_end": 0.20000000000000007,
            "bin_start": 0.10000000000000009,
            "count": 0
           },
           {
            "bin_end": 0.30000000000000004,
            "bin_start": 0.20000000000000007,
            "count": 0
           },
           {
            "bin_end": 0.4,
            "bin_start": 0.30000000000000004,
            "count": 0
           },
           {
            "bin_end": 0.5,
            "bin_start": 0.4,
            "count": 0
           }
          ],
          "max": "0",
          "min": "0",
          "nan_count": 0,
          "unique_count": 1
         }
        },
        {
         "dtype": "int64",
         "name": "Salary",
         "stats": {
          "histogram": [
           {
            "bin_end": 56186.2,
            "bin_start": 50825,
            "count": 1
           },
           {
            "bin_end": 61547.4,
            "bin_start": 56186.2,
            "count": 0
           },
           {
            "bin_end": 66908.6,
            "bin_start": 61547.4,
            "count": 3
           },
           {
            "bin_end": 72269.8,
            "bin_start": 66908.6,
            "count": 0
           },
           {
            "bin_end": 77631,
            "bin_start": 72269.8,
            "count": 0
           },
           {
            "bin_end": 82992.2,
            "bin_start": 77631,
            "count": 0
           },
           {
            "bin_end": 88353.4,
            "bin_start": 82992.2,
            "count": 0
           },
           {
            "bin_end": 93714.6,
            "bin_start": 88353.4,
            "count": 0
           },
           {
            "bin_end": 99075.79999999999,
            "bin_start": 93714.6,
            "count": 0
           },
           {
            "bin_end": 104437,
            "bin_start": 99075.79999999999,
            "count": 1
           }
          ],
          "max": "104437",
          "min": "50825",
          "nan_count": 0,
          "unique_count": 5
         }
        },
        {
         "dtype": "int64",
         "name": "Termd",
         "stats": {
          "histogram": [
           {
            "bin_end": 0.1,
            "bin_start": 0,
            "count": 2
           },
           {
            "bin_end": 0.2,
            "bin_start": 0.1,
            "count": 0
           },
           {
            "bin_end": 0.30000000000000004,
            "bin_start": 0.2,
            "count": 0
           },
           {
            "bin_end": 0.4,
            "bin_start": 0.30000000000000004,
            "count": 0
           },
           {
            "bin_end": 0.5,
            "bin_start": 0.4,
            "count": 0
           },
           {
            "bin_end": 0.6000000000000001,
            "bin_start": 0.5,
            "count": 0
           },
           {
            "bin_end": 0.7000000000000001,
            "bin_start": 0.6000000000000001,
            "count": 0
           },
           {
            "bin_end": 0.8,
            "bin_start": 0.7000000000000001,
            "count": 0
           },
           {
            "bin_end": 0.9,
            "bin_start": 0.8,
            "count": 0
           },
           {
            "bin_end": 1,
            "bin_start": 0.9,
            "count": 3
           }
          ],
          "max": "1",
          "min": "0",
          "nan_count": 0,
          "unique_count": 2
         }
        },
        {
         "dtype": "int64",
         "name": "PositionID",
         "stats": {
          "histogram": [
           {
            "bin_end": 19.8,
            "bin_start": 19,
            "count": 3
           },
           {
            "bin_end": 20.6,
            "bin_start": 19.8,
            "count": 1
           },
           {
            "bin_end": 21.4,
            "bin_start": 20.6,
            "count": 0
           },
           {
            "bin_end": 22.2,
            "bin_start": 21.4,
            "count": 0
           },
           {
            "bin_end": 23,
            "bin_start": 22.2,
            "count": 0
           },
           {
            "bin_end": 23.8,
            "bin_start": 23,
            "count": 0
           },
           {
            "bin_end": 24.6,
            "bin_start": 23.8,
            "count": 0
           },
           {
            "bin_end": 25.4,
            "bin_start": 24.6,
            "count": 0
           },
           {
            "bin_end": 26.2,
            "bin_start": 25.4,
            "count": 0
           },
           {
            "bin_end": 27,
            "bin_start": 26.2,
            "count": 1
           }
          ],
          "max": "27",
          "min": "19",
          "nan_count": 0,
          "unique_count": 3
         }
        },
        {
         "dtype": "object",
         "name": "Position",
         "stats": {
          "categories": [
           {
            "count": 3,
            "name": "Production Technician I"
           },
           {
            "count": 1,
            "name": "Sr. DBA"
           },
           {
            "count": 1,
            "name": "Production Technician II"
           }
          ],
          "nan_count": 0,
          "unique_count": 3
         }
        },
        {
         "dtype": "object",
         "name": "State",
         "stats": {
          "categories": [
           {
            "count": 5,
            "name": "MA"
           }
          ],
          "nan_count": 0,
          "unique_count": 1
         }
        },
        {
         "dtype": "int64",
         "name": "Zip",
         "stats": {
          "histogram": [
           {
            "bin_end": 1845.9,
            "bin_start": 1810,
            "count": 1
           },
           {
            "bin_end": 1881.8,
            "bin_start": 1845.9,
            "count": 0
           },
           {
            "bin_end": 1917.7,
            "bin_start": 1881.8,
            "count": 1
           },
           {
            "bin_end": 1953.6,
            "bin_start": 1917.7,
            "count": 0
           },
           {
            "bin_end": 1989.5,
            "bin_start": 1953.6,
            "count": 1
           },
           {
            "bin_end": 2025.4,
            "bin_start": 1989.5,
            "count": 0
           },
           {
            "bin_end": 2061.3,
            "bin_start": 2025.4,
            "count": 0
           },
           {
            "bin_end": 2097.2,
            "bin_start": 2061.3,
            "count": 0
           },
           {
            "bin_end": 2133.1,
            "bin_start": 2097.2,
            "count": 0
           },
           {
            "bin_end": 2169,
            "bin_start": 2133.1,
            "count": 2
           }
          ],
          "max": "2169",
          "min": "1810",
          "nan_count": 0,
          "unique_count": 5
         }
        },
        {
         "dtype": "object",
         "name": "DOB",
         "stats": {
          "categories": [
           {
            "count": 1,
            "name": "07/10/83"
           },
           {
            "count": 1,
            "name": "05/05/75"
           },
           {
            "count": 3,
            "name": "3 others"
           }
          ],
          "nan_count": 0,
          "unique_count": 5
         }
        },
        {
         "dtype": "object",
         "name": "Sex",
         "stats": {
          "categories": [
           {
            "count": 3,
            "name": "F"
           },
           {
            "count": 2,
            "name": "M "
           }
          ],
          "nan_count": 0,
          "unique_count": 2
         }
        },
        {
         "dtype": "object",
         "name": "MaritalDesc",
         "stats": {
          "categories": [
           {
            "count": 3,
            "name": "Married"
           },
           {
            "count": 1,
            "name": "Single"
           },
           {
            "count": 1,
            "name": "Divorced"
           }
          ],
          "nan_count": 0,
          "unique_count": 3
         }
        },
        {
         "dtype": "object",
         "name": "CitizenDesc",
         "stats": {
          "categories": [
           {
            "count": 5,
            "name": "US Citizen"
           }
          ],
          "nan_count": 0,
          "unique_count": 1
         }
        },
        {
         "dtype": "object",
         "name": "HispanicLatino",
         "stats": {
          "categories": [
           {
            "count": 5,
            "name": "No"
           }
          ],
          "nan_count": 0,
          "unique_count": 1
         }
        },
        {
         "dtype": "object",
         "name": "RaceDesc",
         "stats": {
          "categories": [
           {
            "count": 5,
            "name": "White"
           }
          ],
          "nan_count": 0,
          "unique_count": 1
         }
        },
        {
         "dtype": "datetime64[ns]",
         "name": "DateofHire",
         "stats": {
          "histogram": [
           {
            "bin_end": 1222464960000000000,
            "bin_start": 1199664000000000000,
            "count": 1
           },
           {
            "bin_end": 1245265920000000000,
            "bin_start": 1222464960000000000,
            "count": 0
           },
           {
            "bin_end": 1268066880000000000,
            "bin_start": 1245265920000000000,
            "count": 0
           },
           {
            "bin_end": 1290867840000000000,
            "bin_start": 1268066880000000000,
            "count": 0
           },
           {
            "bin_end": 1313668800000000000,
            "bin_start": 1290867840000000000,
            "count": 3
           },
           {
            "bin_end": 1336469760000000000,
            "bin_start": 1313668800000000000,
            "count": 0
           },
           {
            "bin_end": 1359270720000000000,
            "bin_start": 1336469760000000000,
            "count": 0
           },
           {
            "bin_end": 1382071680000000000,
            "bin_start": 1359270720000000000,
            "count": 0
           },
           {
            "bin_end": 1404872640000000000,
            "bin_start": 1382071680000000000,
            "count": 0
           },
           {
            "bin_end": 1427673600000000000,
            "bin_start": 1404872640000000000,
            "count": 1
           }
          ],
          "max": "2015-03-30 00:00:00",
          "min": "2008-01-07 00:00:00",
          "nan_count": 0,
          "unique_count": 4
         }
        },
        {
         "dtype": "datetime64[ns]",
         "name": "DateofTermination",
         "stats": {
          "histogram": [
           {
            "bin_end": 1360912320000000000,
            "bin_start": 1348444800000000000,
            "count": 1
           },
           {
            "bin_end": 1373379840000000000,
            "bin_start": 1360912320000000000,
            "count": 0
           },
           {
            "bin_end": 1385847360000000000,
            "bin_start": 1373379840000000000,
            "count": 0
           },
           {
            "bin_end": 1398314880000000000,
            "bin_start": 1385847360000000000,
            "count": 0
           },
           {
            "bin_end": 1410782400000000000,
            "bin_start": 1398314880000000000,
            "count": 0
           },
           {
            "bin_end": 1423249920000000000,
            "bin_start": 1410782400000000000,
            "count": 0
           },
           {
            "bin_end": 1435717440000000000,
            "bin_start": 1423249920000000000,
            "count": 0
           },
           {
            "bin_end": 1448184960000000000,
            "bin_start": 1435717440000000000,
            "count": 0
           },
           {
            "bin_end": 1460652480000000000,
            "bin_start": 1448184960000000000,
            "count": 0
           },
           {
            "bin_end": 1473120000000000000,
            "bin_start": 1460652480000000000,
            "count": 2
           }
          ],
          "max": "2016-09-06 00:00:00",
          "min": "2012-09-24 00:00:00",
          "nan_count": 2,
          "unique_count": 3
         }
        },
        {
         "dtype": "object",
         "name": "TermReason",
         "stats": {
          "categories": [
           {
            "count": 2,
            "name": "N/A-StillEmployed"
           },
           {
            "count": 1,
            "name": "career change"
           },
           {
            "count": 2,
            "name": "2 others"
           }
          ],
          "nan_count": 0,
          "unique_count": 4
         }
        },
        {
         "dtype": "object",
         "name": "EmploymentStatus",
         "stats": {
          "categories": [
           {
            "count": 3,
            "name": "Voluntarily Terminated"
           },
           {
            "count": 2,
            "name": "Active"
           }
          ],
          "nan_count": 0,
          "unique_count": 2
         }
        },
        {
         "dtype": "object",
         "name": "Department",
         "stats": {
          "categories": [
           {
            "count": 4,
            "name": "Production       "
           },
           {
            "count": 1,
            "name": "IT/IS"
           }
          ],
          "nan_count": 0,
          "unique_count": 2
         }
        },
        {
         "dtype": "object",
         "name": "ManagerName",
         "stats": {
          "categories": [
           {
            "count": 1,
            "name": "Michael Albert"
           },
           {
            "count": 1,
            "name": "Simon Roup"
           },
           {
            "count": 3,
            "name": "3 others"
           }
          ],
          "nan_count": 0,
          "unique_count": 5
         }
        },
        {
         "dtype": "float64",
         "name": "ManagerID",
         "stats": {
          "histogram": [
           {
            "bin_end": 7.5,
            "bin_start": 4,
            "count": 1
           },
           {
            "bin_end": 11,
            "bin_start": 7.5,
            "count": 0
           },
           {
            "bin_end": 14.5,
            "bin_start": 11,
            "count": 0
           },
           {
            "bin_end": 18,
            "bin_start": 14.5,
            "count": 1
           },
           {
            "bin_end": 21.5,
            "bin_start": 18,
            "count": 1
           },
           {
            "bin_end": 25,
            "bin_start": 21.5,
            "count": 1
           },
           {
            "bin_end": 28.5,
            "bin_start": 25,
            "count": 0
           },
           {
            "bin_end": 32,
            "bin_start": 28.5,
            "count": 0
           },
           {
            "bin_end": 35.5,
            "bin_start": 32,
            "count": 0
           },
           {
            "bin_end": 39,
            "bin_start": 35.5,
            "count": 1
           }
          ],
          "max": "39.0",
          "min": "4.0",
          "nan_count": 0,
          "unique_count": 5
         }
        },
        {
         "dtype": "object",
         "name": "RecruitmentSource",
         "stats": {
          "categories": [
           {
            "count": 2,
            "name": "LinkedIn"
           },
           {
            "count": 2,
            "name": "Indeed"
           },
           {
            "count": 1,
            "name": "Google Search"
           }
          ],
          "nan_count": 0,
          "unique_count": 3
         }
        },
        {
         "dtype": "object",
         "name": "PerformanceScore",
         "stats": {
          "categories": [
           {
            "count": 4,
            "name": "Fully Meets"
           },
           {
            "count": 1,
            "name": "Exceeds"
           }
          ],
          "nan_count": 0,
          "unique_count": 2
         }
        },
        {
         "dtype": "float64",
         "name": "EngagementSurvey",
         "stats": {
          "histogram": [
           {
            "bin_end": 3.218,
            "bin_start": 3.02,
            "count": 1
           },
           {
            "bin_end": 3.416,
            "bin_start": 3.218,
            "count": 0
           },
           {
            "bin_end": 3.614,
            "bin_start": 3.416,
            "count": 0
           },
           {
            "bin_end": 3.8120000000000003,
            "bin_start": 3.614,
            "count": 0
           },
           {
            "bin_end": 4.01,
            "bin_start": 3.8120000000000003,
            "count": 0
           },
           {
            "bin_end": 4.208,
            "bin_start": 4.01,
            "count": 0
           },
           {
            "bin_end": 4.406000000000001,
            "bin_start": 4.208,
            "count": 0
           },
           {
            "bin_end": 4.604,
            "bin_start": 4.406000000000001,
            "count": 1
           },
           {
            "bin_end": 4.802,
            "bin_start": 4.604,
            "count": 0
           },
           {
            "bin_end": 5,
            "bin_start": 4.802,
            "count": 3
           }
          ],
          "max": "5.0",
          "min": "3.02",
          "nan_count": 0,
          "unique_count": 5
         }
        },
        {
         "dtype": "int64",
         "name": "EmpSatisfaction",
         "stats": {
          "histogram": [
           {
            "bin_end": 3.2,
            "bin_start": 3,
            "count": 2
           },
           {
            "bin_end": 3.4,
            "bin_start": 3.2,
            "count": 0
           },
           {
            "bin_end": 3.6,
            "bin_start": 3.4,
            "count": 0
           },
           {
            "bin_end": 3.8,
            "bin_start": 3.6,
            "count": 0
           },
           {
            "bin_end": 4,
            "bin_start": 3.8,
            "count": 0
           },
           {
            "bin_end": 4.2,
            "bin_start": 4,
            "count": 1
           },
           {
            "bin_end": 4.4,
            "bin_start": 4.2,
            "count": 0
           },
           {
            "bin_end": 4.6,
            "bin_start": 4.4,
            "count": 0
           },
           {
            "bin_end": 4.8,
            "bin_start": 4.6,
            "count": 0
           },
           {
            "bin_end": 5,
            "bin_start": 4.8,
            "count": 2
           }
          ],
          "max": "5",
          "min": "3",
          "nan_count": 0,
          "unique_count": 3
         }
        },
        {
         "dtype": "int64",
         "name": "SpecialProjectsCount",
         "stats": {
          "histogram": [
           {
            "bin_end": 0.6,
            "bin_start": 0,
            "count": 4
           },
           {
            "bin_end": 1.2,
            "bin_start": 0.6,
            "count": 0
           },
           {
            "bin_end": 1.7999999999999998,
            "bin_start": 1.2,
            "count": 0
           },
           {
            "bin_end": 2.4,
            "bin_start": 1.7999999999999998,
            "count": 0
           },
           {
            "bin_end": 3,
            "bin_start": 2.4,
            "count": 0
           },
           {
            "bin_end": 3.5999999999999996,
            "bin_start": 3,
            "count": 0
           },
           {
            "bin_end": 4.2,
            "bin_start": 3.5999999999999996,
            "count": 0
           },
           {
            "bin_end": 4.8,
            "bin_start": 4.2,
            "count": 0
           },
           {
            "bin_end": 5.3999999999999995,
            "bin_start": 4.8,
            "count": 0
           },
           {
            "bin_end": 6,
            "bin_start": 5.3999999999999995,
            "count": 1
           }
          ],
          "max": "6",
          "min": "0",
          "nan_count": 0,
          "unique_count": 2
         }
        },
        {
         "dtype": "object",
         "name": "LastPerformanceReview_Date",
         "stats": {
          "categories": [
           {
            "count": 1,
            "name": "1/17/2019"
           },
           {
            "count": 1,
            "name": "2/24/2016"
           },
           {
            "count": 3,
            "name": "3 others"
           }
          ],
          "nan_count": 0,
          "unique_count": 5
         }
        },
        {
         "dtype": "int64",
         "name": "DaysLateLast30",
         "stats": {
          "histogram": [
           {
            "bin_end": -0.4,
            "bin_start": -0.5,
            "count": 0
           },
           {
            "bin_end": -0.3,
            "bin_start": -0.4,
            "count": 0
           },
           {
            "bin_end": -0.19999999999999996,
            "bin_start": -0.3,
            "count": 0
           },
           {
            "bin_end": -0.09999999999999998,
            "bin_start": -0.19999999999999996,
            "count": 0
           },
           {
            "bin_end": 0,
            "bin_start": -0.09999999999999998,
            "count": 0
           },
           {
            "bin_end": 0.10000000000000009,
            "bin_start": 0,
            "count": 5
           },
           {
            "bin_end": 0.20000000000000007,
            "bin_start": 0.10000000000000009,
            "count": 0
           },
           {
            "bin_end": 0.30000000000000004,
            "bin_start": 0.20000000000000007,
            "count": 0
           },
           {
            "bin_end": 0.4,
            "bin_start": 0.30000000000000004,
            "count": 0
           },
           {
            "bin_end": 0.5,
            "bin_start": 0.4,
            "count": 0
           }
          ],
          "max": "0",
          "min": "0",
          "nan_count": 0,
          "unique_count": 1
         }
        },
        {
         "dtype": "int64",
         "name": "Absences",
         "stats": {
          "histogram": [
           {
            "bin_end": 2.6,
            "bin_start": 1,
            "count": 2
           },
           {
            "bin_end": 4.2,
            "bin_start": 2.6,
            "count": 1
           },
           {
            "bin_end": 5.800000000000001,
            "bin_start": 4.2,
            "count": 0
           },
           {
            "bin_end": 7.4,
            "bin_start": 5.800000000000001,
            "count": 0
           },
           {
            "bin_end": 9,
            "bin_start": 7.4,
            "count": 0
           },
           {
            "bin_end": 10.600000000000001,
            "bin_start": 9,
            "count": 0
           },
           {
            "bin_end": 12.200000000000001,
            "bin_start": 10.600000000000001,
            "count": 0
           },
           {
            "bin_end": 13.8,
            "bin_start": 12.200000000000001,
            "count": 0
           },
           {
            "bin_end": 15.4,
            "bin_start": 13.8,
            "count": 1
           },
           {
            "bin_end": 17,
            "bin_start": 15.4,
            "count": 1
           }
          ],
          "max": "17",
          "min": "1",
          "nan_count": 0,
          "unique_count": 5
         }
        },
        {
         "dtype": "int64",
         "name": "_deepnote_index_column"
        }
       ],
       "row_count": 5,
       "rows": [
        {
         "Absences": "1",
         "CitizenDesc": "US Citizen",
         "DOB": "07/10/83",
         "DateofHire": "2011-07-05 00:00:00",
         "DateofTermination": "NaT",
         "DaysLateLast30": "0",
         "Department": "Production       ",
         "DeptID": "5",
         "EmpID": "10026",
         "EmpSatisfaction": "5",
         "EmpStatusID": "1",
         "Employee_Name": "Adinolfi, Wilson  K",
         "EmploymentStatus": "Active",
         "EngagementSurvey": "4.6",
         "FromDiversityJobFairID": "0",
         "GenderID": "1",
         "HispanicLatino": "No",
         "LastPerformanceReview_Date": "1/17/2019",
         "ManagerID": "22.0",
         "ManagerName": "Michael Albert",
         "MaritalDesc": "Single",
         "MaritalStatusID": "0",
         "MarriedID": "0",
         "PerfScoreID": "4",
         "PerformanceScore": "Exceeds",
         "Position": "Production Technician I",
         "PositionID": "19",
         "RaceDesc": "White",
         "RecruitmentSource": "LinkedIn",
         "Salary": "62506",
         "Sex": "M ",
         "SpecialProjectsCount": "0",
         "State": "MA",
         "TermReason": "N/A-StillEmployed",
         "Termd": "0",
         "Zip": "1960",
         "_deepnote_index_column": "0"
        },
        {
         "Absences": "17",
         "CitizenDesc": "US Citizen",
         "DOB": "05/05/75",
         "DateofHire": "2015-03-30 00:00:00",
         "DateofTermination": "2016-06-16 00:00:00",
         "DaysLateLast30": "0",
         "Department": "IT/IS",
         "DeptID": "3",
         "EmpID": "10084",
         "EmpSatisfaction": "3",
         "EmpStatusID": "5",
         "Employee_Name": "Ait Sidi, Karthikeyan   ",
         "EmploymentStatus": "Voluntarily Terminated",
         "EngagementSurvey": "4.96",
         "FromDiversityJobFairID": "0",
         "GenderID": "1",
         "HispanicLatino": "No",
         "LastPerformanceReview_Date": "2/24/2016",
         "ManagerID": "4.0",
         "ManagerName": "Simon Roup",
         "MaritalDesc": "Married",
         "MaritalStatusID": "1",
         "MarriedID": "1",
         "PerfScoreID": "3",
         "PerformanceScore": "Fully Meets",
         "Position": "Sr. DBA",
         "PositionID": "27",
         "RaceDesc": "White",
         "RecruitmentSource": "Indeed",
         "Salary": "104437",
         "Sex": "M ",
         "SpecialProjectsCount": "6",
         "State": "MA",
         "TermReason": "career change",
         "Termd": "1",
         "Zip": "2148",
         "_deepnote_index_column": "1"
        },
        {
         "Absences": "3",
         "CitizenDesc": "US Citizen",
         "DOB": "09/19/88",
         "DateofHire": "2011-07-05 00:00:00",
         "DateofTermination": "2012-09-24 00:00:00",
         "DaysLateLast30": "0",
         "Department": "Production       ",
         "DeptID": "5",
         "EmpID": "10196",
         "EmpSatisfaction": "3",
         "EmpStatusID": "5",
         "Employee_Name": "Akinkuolie, Sarah",
         "EmploymentStatus": "Voluntarily Terminated",
         "EngagementSurvey": "3.02",
         "FromDiversityJobFairID": "0",
         "GenderID": "0",
         "HispanicLatino": "No",
         "LastPerformanceReview_Date": "5/15/2012",
         "ManagerID": "20.0",
         "ManagerName": "Kissy Sullivan",
         "MaritalDesc": "Married",
         "MaritalStatusID": "1",
         "MarriedID": "1",
         "PerfScoreID": "3",
         "PerformanceScore": "Fully Meets",
         "Position": "Production Technician II",
         "PositionID": "20",
         "RaceDesc": "White",
         "RecruitmentSource": "LinkedIn",
         "Salary": "64955",
         "Sex": "F",
         "SpecialProjectsCount": "0",
         "State": "MA",
         "TermReason": "hours",
         "Termd": "1",
         "Zip": "1810",
         "_deepnote_index_column": "2"
        },
        {
         "Absences": "15",
         "CitizenDesc": "US Citizen",
         "DOB": "09/27/88",
         "DateofHire": "2008-01-07 00:00:00",
         "DateofTermination": "NaT",
         "DaysLateLast30": "0",
         "Department": "Production       ",
         "DeptID": "5",
         "EmpID": "10088",
         "EmpSatisfaction": "5",
         "EmpStatusID": "1",
         "Employee_Name": "Alagbe,Trina",
         "EmploymentStatus": "Active",
         "EngagementSurvey": "4.84",
         "FromDiversityJobFairID": "0",
         "GenderID": "0",
         "HispanicLatino": "No",
         "LastPerformanceReview_Date": "1/3/2019",
         "ManagerID": "16.0",
         "ManagerName": "Elijiah Gray",
         "MaritalDesc": "Married",
         "MaritalStatusID": "1",
         "MarriedID": "1",
         "PerfScoreID": "3",
         "PerformanceScore": "Fully Meets",
         "Position": "Production Technician I",
         "PositionID": "19",
         "RaceDesc": "White",
         "RecruitmentSource": "Indeed",
         "Salary": "64991",
         "Sex": "F",
         "SpecialProjectsCount": "0",
         "State": "MA",
         "TermReason": "N/A-StillEmployed",
         "Termd": "0",
         "Zip": "1886",
         "_deepnote_index_column": "3"
        },
        {
         "Absences": "2",
         "CitizenDesc": "US Citizen",
         "DOB": "09/08/89",
         "DateofHire": "2011-07-11 00:00:00",
         "DateofTermination": "2016-09-06 00:00:00",
         "DaysLateLast30": "0",
         "Department": "Production       ",
         "DeptID": "5",
         "EmpID": "10069",
         "EmpSatisfaction": "4",
         "EmpStatusID": "5",
         "Employee_Name": "Anderson, Carol ",
         "EmploymentStatus": "Voluntarily Terminated",
         "EngagementSurvey": "5.0",
         "FromDiversityJobFairID": "0",
         "GenderID": "0",
         "HispanicLatino": "No",
         "LastPerformanceReview_Date": "2/1/2016",
         "ManagerID": "39.0",
         "ManagerName": "Webster Butler",
         "MaritalDesc": "Divorced",
         "MaritalStatusID": "2",
         "MarriedID": "0",
         "PerfScoreID": "3",
         "PerformanceScore": "Fully Meets",
         "Position": "Production Technician I",
         "PositionID": "19",
         "RaceDesc": "White",
         "RecruitmentSource": "Google Search",
         "Salary": "50825",
         "Sex": "F",
         "SpecialProjectsCount": "0",
         "State": "MA",
         "TermReason": "return to school",
         "Termd": "1",
         "Zip": "2169",
         "_deepnote_index_column": "4"
        }
       ]
      },
      "text/html": [
       "<div>\n",
       "<style scoped>\n",
       "    .dataframe tbody tr th:only-of-type {\n",
       "        vertical-align: middle;\n",
       "    }\n",
       "\n",
       "    .dataframe tbody tr th {\n",
       "        vertical-align: top;\n",
       "    }\n",
       "\n",
       "    .dataframe thead th {\n",
       "        text-align: right;\n",
       "    }\n",
       "</style>\n",
       "<table border=\"1\" class=\"dataframe\">\n",
       "  <thead>\n",
       "    <tr style=\"text-align: right;\">\n",
       "      <th></th>\n",
       "      <th>Employee_Name</th>\n",
       "      <th>EmpID</th>\n",
       "      <th>MarriedID</th>\n",
       "      <th>MaritalStatusID</th>\n",
       "      <th>GenderID</th>\n",
       "      <th>EmpStatusID</th>\n",
       "      <th>DeptID</th>\n",
       "      <th>PerfScoreID</th>\n",
       "      <th>FromDiversityJobFairID</th>\n",
       "      <th>Salary</th>\n",
       "      <th>Termd</th>\n",
       "      <th>PositionID</th>\n",
       "      <th>Position</th>\n",
       "      <th>State</th>\n",
       "      <th>Zip</th>\n",
       "      <th>DOB</th>\n",
       "      <th>Sex</th>\n",
       "      <th>MaritalDesc</th>\n",
       "      <th>CitizenDesc</th>\n",
       "      <th>HispanicLatino</th>\n",
       "      <th>RaceDesc</th>\n",
       "      <th>DateofHire</th>\n",
       "      <th>DateofTermination</th>\n",
       "      <th>TermReason</th>\n",
       "      <th>EmploymentStatus</th>\n",
       "      <th>Department</th>\n",
       "      <th>ManagerName</th>\n",
       "      <th>ManagerID</th>\n",
       "      <th>RecruitmentSource</th>\n",
       "      <th>PerformanceScore</th>\n",
       "      <th>EngagementSurvey</th>\n",
       "      <th>EmpSatisfaction</th>\n",
       "      <th>SpecialProjectsCount</th>\n",
       "      <th>LastPerformanceReview_Date</th>\n",
       "      <th>DaysLateLast30</th>\n",
       "      <th>Absences</th>\n",
       "    </tr>\n",
       "  </thead>\n",
       "  <tbody>\n",
       "    <tr>\n",
       "      <th>0</th>\n",
       "      <td>Adinolfi, Wilson  K</td>\n",
       "      <td>10026</td>\n",
       "      <td>0</td>\n",
       "      <td>0</td>\n",
       "      <td>1</td>\n",
       "      <td>1</td>\n",
       "      <td>5</td>\n",
       "      <td>4</td>\n",
       "      <td>0</td>\n",
       "      <td>62506</td>\n",
       "      <td>0</td>\n",
       "      <td>19</td>\n",
       "      <td>Production Technician I</td>\n",
       "      <td>MA</td>\n",
       "      <td>1960</td>\n",
       "      <td>07/10/83</td>\n",
       "      <td>M</td>\n",
       "      <td>Single</td>\n",
       "      <td>US Citizen</td>\n",
       "      <td>No</td>\n",
       "      <td>White</td>\n",
       "      <td>2011-07-05</td>\n",
       "      <td>NaT</td>\n",
       "      <td>N/A-StillEmployed</td>\n",
       "      <td>Active</td>\n",
       "      <td>Production</td>\n",
       "      <td>Michael Albert</td>\n",
       "      <td>22.0</td>\n",
       "      <td>LinkedIn</td>\n",
       "      <td>Exceeds</td>\n",
       "      <td>4.60</td>\n",
       "      <td>5</td>\n",
       "      <td>0</td>\n",
       "      <td>1/17/2019</td>\n",
       "      <td>0</td>\n",
       "      <td>1</td>\n",
       "    </tr>\n",
       "    <tr>\n",
       "      <th>1</th>\n",
       "      <td>Ait Sidi, Karthikeyan</td>\n",
       "      <td>10084</td>\n",
       "      <td>1</td>\n",
       "      <td>1</td>\n",
       "      <td>1</td>\n",
       "      <td>5</td>\n",
       "      <td>3</td>\n",
       "      <td>3</td>\n",
       "      <td>0</td>\n",
       "      <td>104437</td>\n",
       "      <td>1</td>\n",
       "      <td>27</td>\n",
       "      <td>Sr. DBA</td>\n",
       "      <td>MA</td>\n",
       "      <td>2148</td>\n",
       "      <td>05/05/75</td>\n",
       "      <td>M</td>\n",
       "      <td>Married</td>\n",
       "      <td>US Citizen</td>\n",
       "      <td>No</td>\n",
       "      <td>White</td>\n",
       "      <td>2015-03-30</td>\n",
       "      <td>2016-06-16</td>\n",
       "      <td>career change</td>\n",
       "      <td>Voluntarily Terminated</td>\n",
       "      <td>IT/IS</td>\n",
       "      <td>Simon Roup</td>\n",
       "      <td>4.0</td>\n",
       "      <td>Indeed</td>\n",
       "      <td>Fully Meets</td>\n",
       "      <td>4.96</td>\n",
       "      <td>3</td>\n",
       "      <td>6</td>\n",
       "      <td>2/24/2016</td>\n",
       "      <td>0</td>\n",
       "      <td>17</td>\n",
       "    </tr>\n",
       "    <tr>\n",
       "      <th>2</th>\n",
       "      <td>Akinkuolie, Sarah</td>\n",
       "      <td>10196</td>\n",
       "      <td>1</td>\n",
       "      <td>1</td>\n",
       "      <td>0</td>\n",
       "      <td>5</td>\n",
       "      <td>5</td>\n",
       "      <td>3</td>\n",
       "      <td>0</td>\n",
       "      <td>64955</td>\n",
       "      <td>1</td>\n",
       "      <td>20</td>\n",
       "      <td>Production Technician II</td>\n",
       "      <td>MA</td>\n",
       "      <td>1810</td>\n",
       "      <td>09/19/88</td>\n",
       "      <td>F</td>\n",
       "      <td>Married</td>\n",
       "      <td>US Citizen</td>\n",
       "      <td>No</td>\n",
       "      <td>White</td>\n",
       "      <td>2011-07-05</td>\n",
       "      <td>2012-09-24</td>\n",
       "      <td>hours</td>\n",
       "      <td>Voluntarily Terminated</td>\n",
       "      <td>Production</td>\n",
       "      <td>Kissy Sullivan</td>\n",
       "      <td>20.0</td>\n",
       "      <td>LinkedIn</td>\n",
       "      <td>Fully Meets</td>\n",
       "      <td>3.02</td>\n",
       "      <td>3</td>\n",
       "      <td>0</td>\n",
       "      <td>5/15/2012</td>\n",
       "      <td>0</td>\n",
       "      <td>3</td>\n",
       "    </tr>\n",
       "    <tr>\n",
       "      <th>3</th>\n",
       "      <td>Alagbe,Trina</td>\n",
       "      <td>10088</td>\n",
       "      <td>1</td>\n",
       "      <td>1</td>\n",
       "      <td>0</td>\n",
       "      <td>1</td>\n",
       "      <td>5</td>\n",
       "      <td>3</td>\n",
       "      <td>0</td>\n",
       "      <td>64991</td>\n",
       "      <td>0</td>\n",
       "      <td>19</td>\n",
       "      <td>Production Technician I</td>\n",
       "      <td>MA</td>\n",
       "      <td>1886</td>\n",
       "      <td>09/27/88</td>\n",
       "      <td>F</td>\n",
       "      <td>Married</td>\n",
       "      <td>US Citizen</td>\n",
       "      <td>No</td>\n",
       "      <td>White</td>\n",
       "      <td>2008-01-07</td>\n",
       "      <td>NaT</td>\n",
       "      <td>N/A-StillEmployed</td>\n",
       "      <td>Active</td>\n",
       "      <td>Production</td>\n",
       "      <td>Elijiah Gray</td>\n",
       "      <td>16.0</td>\n",
       "      <td>Indeed</td>\n",
       "      <td>Fully Meets</td>\n",
       "      <td>4.84</td>\n",
       "      <td>5</td>\n",
       "      <td>0</td>\n",
       "      <td>1/3/2019</td>\n",
       "      <td>0</td>\n",
       "      <td>15</td>\n",
       "    </tr>\n",
       "    <tr>\n",
       "      <th>4</th>\n",
       "      <td>Anderson, Carol</td>\n",
       "      <td>10069</td>\n",
       "      <td>0</td>\n",
       "      <td>2</td>\n",
       "      <td>0</td>\n",
       "      <td>5</td>\n",
       "      <td>5</td>\n",
       "      <td>3</td>\n",
       "      <td>0</td>\n",
       "      <td>50825</td>\n",
       "      <td>1</td>\n",
       "      <td>19</td>\n",
       "      <td>Production Technician I</td>\n",
       "      <td>MA</td>\n",
       "      <td>2169</td>\n",
       "      <td>09/08/89</td>\n",
       "      <td>F</td>\n",
       "      <td>Divorced</td>\n",
       "      <td>US Citizen</td>\n",
       "      <td>No</td>\n",
       "      <td>White</td>\n",
       "      <td>2011-07-11</td>\n",
       "      <td>2016-09-06</td>\n",
       "      <td>return to school</td>\n",
       "      <td>Voluntarily Terminated</td>\n",
       "      <td>Production</td>\n",
       "      <td>Webster Butler</td>\n",
       "      <td>39.0</td>\n",
       "      <td>Google Search</td>\n",
       "      <td>Fully Meets</td>\n",
       "      <td>5.00</td>\n",
       "      <td>4</td>\n",
       "      <td>0</td>\n",
       "      <td>2/1/2016</td>\n",
       "      <td>0</td>\n",
       "      <td>2</td>\n",
       "    </tr>\n",
       "  </tbody>\n",
       "</table>\n",
       "</div>"
      ],
      "text/plain": [
       "              Employee_Name  EmpID  MarriedID  MaritalStatusID  GenderID  \\\n",
       "0       Adinolfi, Wilson  K  10026          0                0         1   \n",
       "1  Ait Sidi, Karthikeyan     10084          1                1         1   \n",
       "2         Akinkuolie, Sarah  10196          1                1         0   \n",
       "3              Alagbe,Trina  10088          1                1         0   \n",
       "4          Anderson, Carol   10069          0                2         0   \n",
       "\n",
       "   EmpStatusID  DeptID  PerfScoreID  FromDiversityJobFairID  Salary  Termd  \\\n",
       "0            1       5            4                       0   62506      0   \n",
       "1            5       3            3                       0  104437      1   \n",
       "2            5       5            3                       0   64955      1   \n",
       "3            1       5            3                       0   64991      0   \n",
       "4            5       5            3                       0   50825      1   \n",
       "\n",
       "   PositionID                  Position State   Zip       DOB Sex MaritalDesc  \\\n",
       "0          19   Production Technician I    MA  1960  07/10/83  M       Single   \n",
       "1          27                   Sr. DBA    MA  2148  05/05/75  M      Married   \n",
       "2          20  Production Technician II    MA  1810  09/19/88   F     Married   \n",
       "3          19   Production Technician I    MA  1886  09/27/88   F     Married   \n",
       "4          19   Production Technician I    MA  2169  09/08/89   F    Divorced   \n",
       "\n",
       "  CitizenDesc HispanicLatino RaceDesc DateofHire DateofTermination  \\\n",
       "0  US Citizen             No    White 2011-07-05               NaT   \n",
       "1  US Citizen             No    White 2015-03-30        2016-06-16   \n",
       "2  US Citizen             No    White 2011-07-05        2012-09-24   \n",
       "3  US Citizen             No    White 2008-01-07               NaT   \n",
       "4  US Citizen             No    White 2011-07-11        2016-09-06   \n",
       "\n",
       "          TermReason        EmploymentStatus         Department  \\\n",
       "0  N/A-StillEmployed                  Active  Production          \n",
       "1      career change  Voluntarily Terminated              IT/IS   \n",
       "2              hours  Voluntarily Terminated  Production          \n",
       "3  N/A-StillEmployed                  Active  Production          \n",
       "4   return to school  Voluntarily Terminated  Production          \n",
       "\n",
       "      ManagerName  ManagerID RecruitmentSource PerformanceScore  \\\n",
       "0  Michael Albert       22.0          LinkedIn          Exceeds   \n",
       "1      Simon Roup        4.0            Indeed      Fully Meets   \n",
       "2  Kissy Sullivan       20.0          LinkedIn      Fully Meets   \n",
       "3    Elijiah Gray       16.0            Indeed      Fully Meets   \n",
       "4  Webster Butler       39.0     Google Search      Fully Meets   \n",
       "\n",
       "   EngagementSurvey  EmpSatisfaction  SpecialProjectsCount  \\\n",
       "0              4.60                5                     0   \n",
       "1              4.96                3                     6   \n",
       "2              3.02                3                     0   \n",
       "3              4.84                5                     0   \n",
       "4              5.00                4                     0   \n",
       "\n",
       "  LastPerformanceReview_Date  DaysLateLast30  Absences  \n",
       "0                  1/17/2019               0         1  \n",
       "1                  2/24/2016               0        17  \n",
       "2                  5/15/2012               0         3  \n",
       "3                   1/3/2019               0        15  \n",
       "4                   2/1/2016               0         2  "
      ]
     },
     "execution_count": 8,
     "metadata": {},
     "output_type": "execute_result"
    }
   ],
   "source": [
    "hr_data.head()"
   ]
  },
  {
   "cell_type": "code",
   "execution_count": 9,
   "metadata": {
    "cell_id": "42087b789b194d68973b331edc49542c",
    "deepnote_cell_type": "code",
    "deepnote_to_be_reexecuted": false,
    "execution_millis": 3008,
    "execution_start": 1663332388401,
    "source_hash": "ebb9ba77",
    "tags": []
   },
   "outputs": [
    {
     "data": {
      "image/png": "[encoded data removed]",
      "text/plain": [
       "<Figure size 1500x1000 with 2 Axes>"
      ]
     },
     "metadata": {
      "image/png": {
       "height": 962,
       "width": 1257
      }
     },
     "output_type": "display_data"
    }
   ],
   "source": [
    "plt.figure(figsize= (15,10))\n",
    "sns.heatmap(hr_data.corr(),annot = True)\n",
    "plt.show()"
   ]
  },
  {
   "cell_type": "code",
   "execution_count": 10,
   "metadata": {
    "cell_id": "f432d616f18e4a6c8ba3d8c30d92552e",
    "deepnote_cell_type": "code",
    "deepnote_to_be_reexecuted": false,
    "execution_millis": 705,
    "execution_start": 1663332390704,
    "source_hash": "a20df10",
    "tags": []
   },
   "outputs": [
    {
     "data": {
      "application/vnd.deepnote.dataframe.v3+json": {
       "column_count": 36,
       "columns": [
        {
         "dtype": "object",
         "name": "Employee_Name",
         "stats": {
          "categories": [
           {
            "count": 1,
            "name": "Woodson, Jason"
           },
           {
            "count": 1,
            "name": "Ybarra, Catherine "
           },
           {
            "count": 3,
            "name": "3 others"
           }
          ],
          "nan_count": 0,
          "unique_count": 5
         }
        },
        {
         "dtype": "int64",
         "name": "EmpID",
         "stats": {
          "histogram": [
           {
            "bin_end": 10039.1,
            "bin_start": 10010,
            "count": 1
           },
           {
            "bin_end": 10068.2,
            "bin_start": 10039.1,
            "count": 1
           },
           {
            "bin_end": 10097.3,
            "bin_start": 10068.2,
            "count": 0
           },
           {
            "bin_end": 10126.4,
            "bin_start": 10097.3,
            "count": 0
           },
           {
            "bin_end": 10155.5,
            "bin_start": 10126.4,
            "count": 1
           },
           {
            "bin_end": 10184.6,
            "bin_start": 10155.5,
            "count": 0
           },
           {
            "bin_end": 10213.7,
            "bin_start": 10184.6,
            "count": 0
           },
           {
            "bin_end": 10242.8,
            "bin_start": 10213.7,
            "count": 0
           },
           {
            "bin_end": 10271.9,
            "bin_start": 10242.8,
            "count": 1
           },
           {
            "bin_end": 10301,
            "bin_start": 10271.9,
            "count": 1
           }
          ],
          "max": "10301",
          "min": "10010",
          "nan_count": 0,
          "unique_count": 5
         }
        },
        {
         "dtype": "int64",
         "name": "MarriedID",
         "stats": {
          "histogram": [
           {
            "bin_end": -0.4,
            "bin_start": -0.5,
            "count": 0
           },
           {
            "bin_end": -0.3,
            "bin_start": -0.4,
            "count": 0
           },
           {
            "bin_end": -0.19999999999999996,
            "bin_start": -0.3,
            "count": 0
           },
           {
            "bin_end": -0.09999999999999998,
            "bin_start": -0.19999999999999996,
            "count": 0
           },
           {
            "bin_end": 0,
            "bin_start": -0.09999999999999998,
            "count": 0
           },
           {
            "bin_end": 0.10000000000000009,
            "bin_start": 0,
            "count": 5
           },
           {
            "bin_end": 0.20000000000000007,
            "bin_start": 0.10000000000000009,
            "count": 0
           },
           {
            "bin_end": 0.30000000000000004,
            "bin_start": 0.20000000000000007,
            "count": 0
           },
           {
            "bin_end": 0.4,
            "bin_start": 0.30000000000000004,
            "count": 0
           },
           {
            "bin_end": 0.5,
            "bin_start": 0.4,
            "count": 0
           }
          ],
          "max": "0",
          "min": "0",
          "nan_count": 0,
          "unique_count": 1
         }
        },
        {
         "dtype": "int64",
         "name": "MaritalStatusID",
         "stats": {
          "histogram": [
           {
            "bin_end": 0.4,
            "bin_start": 0,
            "count": 4
           },
           {
            "bin_end": 0.8,
            "bin_start": 0.4,
            "count": 0
           },
           {
            "bin_end": 1.2000000000000002,
            "bin_start": 0.8,
            "count": 0
           },
           {
            "bin_end": 1.6,
            "bin_start": 1.2000000000000002,
            "count": 0
           },
           {
            "bin_end": 2,
            "bin_start": 1.6,
            "count": 0
           },
           {
            "bin_end": 2.4000000000000004,
            "bin_start": 2,
            "count": 0
           },
           {
            "bin_end": 2.8000000000000003,
            "bin_start": 2.4000000000000004,
            "count": 0
           },
           {
            "bin_end": 3.2,
            "bin_start": 2.8000000000000003,
            "count": 0
           },
           {
            "bin_end": 3.6,
            "bin_start": 3.2,
            "count": 0
           },
           {
            "bin_end": 4,
            "bin_start": 3.6,
            "count": 1
           }
          ],
          "max": "4",
          "min": "0",
          "nan_count": 0,
          "unique_count": 2
         }
        },
        {
         "dtype": "int64",
         "name": "GenderID",
         "stats": {
          "histogram": [
           {
            "bin_end": 0.1,
            "bin_start": 0,
            "count": 4
           },
           {
            "bin_end": 0.2,
            "bin_start": 0.1,
            "count": 0
           },
           {
            "bin_end": 0.30000000000000004,
            "bin_start": 0.2,
            "count": 0
           },
           {
            "bin_end": 0.4,
            "bin_start": 0.30000000000000004,
            "count": 0
           },
           {
            "bin_end": 0.5,
            "bin_start": 0.4,
            "count": 0
           },
           {
            "bin_end": 0.6000000000000001,
            "bin_start": 0.5,
            "count": 0
           },
           {
            "bin_end": 0.7000000000000001,
            "bin_start": 0.6000000000000001,
            "count": 0
           },
           {
            "bin_end": 0.8,
            "bin_start": 0.7000000000000001,
            "count": 0
           },
           {
            "bin_end": 0.9,
            "bin_start": 0.8,
            "count": 0
           },
           {
            "bin_end": 1,
            "bin_start": 0.9,
            "count": 1
           }
          ],
          "max": "1",
          "min": "0",
          "nan_count": 0,
          "unique_count": 2
         }
        },
        {
         "dtype": "int64",
         "name": "EmpStatusID",
         "stats": {
          "histogram": [
           {
            "bin_end": 1.4,
            "bin_start": 1,
            "count": 4
           },
           {
            "bin_end": 1.8,
            "bin_start": 1.4,
            "count": 0
           },
           {
            "bin_end": 2.2,
            "bin_start": 1.8,
            "count": 0
           },
           {
            "bin_end": 2.6,
            "bin_start": 2.2,
            "count": 0
           },
           {
            "bin_end": 3,
            "bin_start": 2.6,
            "count": 0
           },
           {
            "bin_end": 3.4000000000000004,
            "bin_start": 3,
            "count": 0
           },
           {
            "bin_end": 3.8000000000000003,
            "bin_start": 3.4000000000000004,
            "count": 0
           },
           {
            "bin_end": 4.2,
            "bin_start": 3.8000000000000003,
            "count": 0
           },
           {
            "bin_end": 4.6,
            "bin_start": 4.2,
            "count": 0
           },
           {
            "bin_end": 5,
            "bin_start": 4.6,
            "count": 1
           }
          ],
          "max": "5",
          "min": "1",
          "nan_count": 0,
          "unique_count": 2
         }
        },
        {
         "dtype": "int64",
         "name": "DeptID",
         "stats": {
          "histogram": [
           {
            "bin_end": 3.2,
            "bin_start": 3,
            "count": 2
           },
           {
            "bin_end": 3.4,
            "bin_start": 3.2,
            "count": 0
           },
           {
            "bin_end": 3.6,
            "bin_start": 3.4,
            "count": 0
           },
           {
            "bin_end": 3.8,
            "bin_start": 3.6,
            "count": 0
           },
           {
            "bin_end": 4,
            "bin_start": 3.8,
            "count": 0
           },
           {
            "bin_end": 4.2,
            "bin_start": 4,
            "count": 0
           },
           {
            "bin_end": 4.4,
            "bin_start": 4.2,
            "count": 0
           },
           {
            "bin_end": 4.6,
            "bin_start": 4.4,
            "count": 0
           },
           {
            "bin_end": 4.8,
            "bin_start": 4.6,
            "count": 0
           },
           {
            "bin_end": 5,
            "bin_start": 4.8,
            "count": 3
           }
          ],
          "max": "5",
          "min": "3",
          "nan_count": 0,
          "unique_count": 2
         }
        },
        {
         "dtype": "int64",
         "name": "PerfScoreID",
         "stats": {
          "histogram": [
           {
            "bin_end": 1.3,
            "bin_start": 1,
            "count": 1
           },
           {
            "bin_end": 1.6,
            "bin_start": 1.3,
            "count": 0
           },
           {
            "bin_end": 1.9,
            "bin_start": 1.6,
            "count": 0
           },
           {
            "bin_end": 2.2,
            "bin_start": 1.9,
            "count": 0
           },
           {
            "bin_end": 2.5,
            "bin_start": 2.2,
            "count": 0
           },
           {
            "bin_end": 2.8,
            "bin_start": 2.5,
            "count": 0
           },
           {
            "bin_end": 3.1,
            "bin_start": 2.8,
            "count": 3
           },
           {
            "bin_end": 3.4,
            "bin_start": 3.1,
            "count": 0
           },
           {
            "bin_end": 3.6999999999999997,
            "bin_start": 3.4,
            "count": 0
           },
           {
            "bin_end": 4,
            "bin_start": 3.6999999999999997,
            "count": 1
           }
          ],
          "max": "4",
          "min": "1",
          "nan_count": 0,
          "unique_count": 3
         }
        },
        {
         "dtype": "int64",
         "name": "FromDiversityJobFairID",
         "stats": {
          "histogram": [
           {
            "bin_end": -0.4,
            "bin_start": -0.5,
            "count": 0
           },
           {
            "bin_end": -0.3,
            "bin_start": -0.4,
            "count": 0
           },
           {
            "bin_end": -0.19999999999999996,
            "bin_start": -0.3,
            "count": 0
           },
           {
            "bin_end": -0.09999999999999998,
            "bin_start": -0.19999999999999996,
            "count": 0
           },
           {
            "bin_end": 0,
            "bin_start": -0.09999999999999998,
            "count": 0
           },
           {
            "bin_end": 0.10000000000000009,
            "bin_start": 0,
            "count": 5
           },
           {
            "bin_end": 0.20000000000000007,
            "bin_start": 0.10000000000000009,
            "count": 0
           },
           {
            "bin_end": 0.30000000000000004,
            "bin_start": 0.20000000000000007,
            "count": 0
           },
           {
            "bin_end": 0.4,
            "bin_start": 0.30000000000000004,
            "count": 0
           },
           {
            "bin_end": 0.5,
            "bin_start": 0.4,
            "count": 0
           }
          ],
          "max": "0",
          "min": "0",
          "nan_count": 0,
          "unique_count": 1
         }
        },
        {
         "dtype": "int64",
         "name": "Salary",
         "stats": {
          "histogram": [
           {
            "bin_end": 62586.4,
            "bin_start": 45046,
            "count": 2
           },
           {
            "bin_end": 80126.8,
            "bin_start": 62586.4,
            "count": 1
           },
           {
            "bin_end": 97667.20000000001,
            "bin_start": 80126.8,
            "count": 1
           },
           {
            "bin_end": 115207.6,
            "bin_start": 97667.20000000001,
            "count": 0
           },
           {
            "bin_end": 132748,
            "bin_start": 115207.6,
            "count": 0
           },
           {
            "bin_end": 150288.40000000002,
            "bin_start": 132748,
            "count": 0
           },
           {
            "bin_end": 167828.80000000002,
            "bin_start": 150288.40000000002,
            "count": 0
           },
           {
            "bin_end": 185369.2,
            "bin_start": 167828.80000000002,
            "count": 0
           },
           {
            "bin_end": 202909.6,
            "bin_start": 185369.2,
            "count": 0
           },
           {
            "bin_end": 220450,
            "bin_start": 202909.6,
            "count": 1
           }
          ],
          "max": "220450",
          "min": "45046",
          "nan_count": 0,
          "unique_count": 5
         }
        },
        {
         "dtype": "int64",
         "name": "Termd",
         "stats": {
          "histogram": [
           {
            "bin_end": 0.1,
            "bin_start": 0,
            "count": 4
           },
           {
            "bin_end": 0.2,
            "bin_start": 0.1,
            "count": 0
           },
           {
            "bin_end": 0.30000000000000004,
            "bin_start": 0.2,
            "count": 0
           },
           {
            "bin_end": 0.4,
            "bin_start": 0.30000000000000004,
            "count": 0
           },
           {
            "bin_end": 0.5,
            "bin_start": 0.4,
            "count": 0
           },
           {
            "bin_end": 0.6000000000000001,
            "bin_start": 0.5,
            "count": 0
           },
           {
            "bin_end": 0.7000000000000001,
            "bin_start": 0.6000000000000001,
            "count": 0
           },
           {
            "bin_end": 0.8,
            "bin_start": 0.7000000000000001,
            "count": 0
           },
           {
            "bin_end": 0.9,
            "bin_start": 0.8,
            "count": 0
           },
           {
            "bin_end": 1,
            "bin_start": 0.9,
            "count": 1
           }
          ],
          "max": "1",
          "min": "0",
          "nan_count": 0,
          "unique_count": 2
         }
        },
        {
         "dtype": "int64",
         "name": "PositionID",
         "stats": {
          "histogram": [
           {
            "bin_end": 7.4,
            "bin_start": 6,
            "count": 1
           },
           {
            "bin_end": 8.8,
            "bin_start": 7.4,
            "count": 0
           },
           {
            "bin_end": 10.2,
            "bin_start": 8.8,
            "count": 1
           },
           {
            "bin_end": 11.6,
            "bin_start": 10.2,
            "count": 0
           },
           {
            "bin_end": 13,
            "bin_start": 11.6,
            "count": 0
           },
           {
            "bin_end": 14.399999999999999,
            "bin_start": 13,
            "count": 0
           },
           {
            "bin_end": 15.799999999999999,
            "bin_start": 14.399999999999999,
            "count": 0
           },
           {
            "bin_end": 17.2,
            "bin_start": 15.799999999999999,
            "count": 0
           },
           {
            "bin_end": 18.6,
            "bin_start": 17.2,
            "count": 0
           },
           {
            "bin_end": 20,
            "bin_start": 18.6,
            "count": 3
           }
          ],
          "max": "20",
          "min": "6",
          "nan_count": 0,
          "unique_count": 4
         }
        },
        {
         "dtype": "object",
         "name": "Position",
         "stats": {
          "categories": [
           {
            "count": 2,
            "name": "Production Technician I"
           },
           {
            "count": 1,
            "name": "Production Technician II"
           },
           {
            "count": 2,
            "name": "2 others"
           }
          ],
          "nan_count": 0,
          "unique_count": 4
         }
        },
        {
         "dtype": "object",
         "name": "State",
         "stats": {
          "categories": [
           {
            "count": 5,
            "name": "MA"
           }
          ],
          "nan_count": 0,
          "unique_count": 1
         }
        },
        {
         "dtype": "int64",
         "name": "Zip",
         "stats": {
          "histogram": [
           {
            "bin_end": 1802.8,
            "bin_start": 1730,
            "count": 1
           },
           {
            "bin_end": 1875.6,
            "bin_start": 1802.8,
            "count": 1
           },
           {
            "bin_end": 1948.4,
            "bin_start": 1875.6,
            "count": 0
           },
           {
            "bin_end": 2021.2,
            "bin_start": 1948.4,
            "count": 0
           },
           {
            "bin_end": 2094,
            "bin_start": 2021.2,
            "count": 1
           },
           {
            "bin_end": 2166.8,
            "bin_start": 2094,
            "count": 1
           },
           {
            "bin_end": 2239.6,
            "bin_start": 2166.8,
            "count": 0
           },
           {
            "bin_end": 2312.4,
            "bin_start": 2239.6,
            "count": 0
           },
           {
            "bin_end": 2385.2,
            "bin_start": 2312.4,
            "count": 0
           },
           {
            "bin_end": 2458,
            "bin_start": 2385.2,
            "count": 1
           }
          ],
          "max": "2458",
          "min": "1730",
          "nan_count": 0,
          "unique_count": 5
         }
        },
        {
         "dtype": "object",
         "name": "DOB",
         "stats": {
          "categories": [
           {
            "count": 1,
            "name": "05/11/85"
           },
           {
            "count": 1,
            "name": "05/04/82"
           },
           {
            "count": 3,
            "name": "3 others"
           }
          ],
          "nan_count": 0,
          "unique_count": 5
         }
        },
        {
         "dtype": "object",
         "name": "Sex",
         "stats": {
          "categories": [
           {
            "count": 4,
            "name": "F"
           },
           {
            "count": 1,
            "name": "M "
           }
          ],
          "nan_count": 0,
          "unique_count": 2
         }
        },
        {
         "dtype": "object",
         "name": "MaritalDesc",
         "stats": {
          "categories": [
           {
            "count": 4,
            "name": "Single"
           },
           {
            "count": 1,
            "name": "Widowed"
           }
          ],
          "nan_count": 0,
          "unique_count": 2
         }
        },
        {
         "dtype": "object",
         "name": "CitizenDesc",
         "stats": {
          "categories": [
           {
            "count": 5,
            "name": "US Citizen"
           }
          ],
          "nan_count": 0,
          "unique_count": 1
         }
        },
        {
         "dtype": "object",
         "name": "HispanicLatino",
         "stats": {
          "categories": [
           {
            "count": 5,
            "name": "No"
           }
          ],
          "nan_count": 0,
          "unique_count": 1
         }
        },
        {
         "dtype": "object",
         "name": "RaceDesc",
         "stats": {
          "categories": [
           {
            "count": 3,
            "name": "White"
           },
           {
            "count": 2,
            "name": "Asian"
           }
          ],
          "nan_count": 0,
          "unique_count": 2
         }
        },
        {
         "dtype": "datetime64[ns]",
         "name": "DateofHire",
         "stats": {
          "histogram": [
           {
            "bin_end": 1241049600000000000,
            "bin_start": 1220313600000000000,
            "count": 1
           },
           {
            "bin_end": 1261785600000000000,
            "bin_start": 1241049600000000000,
            "count": 0
           },
           {
            "bin_end": 1282521600000000000,
            "bin_start": 1261785600000000000,
            "count": 1
           },
           {
            "bin_end": 1303257600000000000,
            "bin_start": 1282521600000000000,
            "count": 0
           },
           {
            "bin_end": 1323993600000000000,
            "bin_start": 1303257600000000000,
            "count": 0
           },
           {
            "bin_end": 1344729600000000000,
            "bin_start": 1323993600000000000,
            "count": 0
           },
           {
            "bin_end": 1365465600000000000,
            "bin_start": 1344729600000000000,
            "count": 0
           },
           {
            "bin_end": 1386201600000000000,
            "bin_start": 1365465600000000000,
            "count": 0
           },
           {
            "bin_end": 1406937600000000000,
            "bin_start": 1386201600000000000,
            "count": 1
           },
           {
            "bin_end": 1427673600000000000,
            "bin_start": 1406937600000000000,
            "count": 2
           }
          ],
          "max": "2015-03-30 00:00:00",
          "min": "2008-09-02 00:00:00",
          "nan_count": 0,
          "unique_count": 5
         }
        },
        {
         "dtype": "datetime64[ns]",
         "name": "DateofTermination",
         "stats": {
          "histogram": null,
          "max": "2015-09-29 00:00:00",
          "min": "2015-09-29 00:00:00",
          "nan_count": 4,
          "unique_count": 1
         }
        },
        {
         "dtype": "object",
         "name": "TermReason",
         "stats": {
          "categories": [
           {
            "count": 4,
            "name": "N/A-StillEmployed"
           },
           {
            "count": 1,
            "name": "Another position"
           }
          ],
          "nan_count": 0,
          "unique_count": 2
         }
        },
        {
         "dtype": "object",
         "name": "EmploymentStatus",
         "stats": {
          "categories": [
           {
            "count": 4,
            "name": "Active"
           },
           {
            "count": 1,
            "name": "Voluntarily Terminated"
           }
          ],
          "nan_count": 0,
          "unique_count": 2
         }
        },
        {
         "dtype": "object",
         "name": "Department",
         "stats": {
          "categories": [
           {
            "count": 3,
            "name": "Production       "
           },
           {
            "count": 2,
            "name": "IT/IS"
           }
          ],
          "nan_count": 0,
          "unique_count": 2
         }
        },
        {
         "dtype": "object",
         "name": "ManagerName",
         "stats": {
          "categories": [
           {
            "count": 1,
            "name": "Kissy Sullivan"
           },
           {
            "count": 1,
            "name": "Brannon Miller"
           },
           {
            "count": 3,
            "name": "3 others"
           }
          ],
          "nan_count": 0,
          "unique_count": 5
         }
        },
        {
         "dtype": "float64",
         "name": "ManagerID",
         "stats": {
          "histogram": [
           {
            "bin_end": 3.8,
            "bin_start": 2,
            "count": 1
           },
           {
            "bin_end": 5.6,
            "bin_start": 3.8,
            "count": 1
           },
           {
            "bin_end": 7.4,
            "bin_start": 5.6,
            "count": 0
           },
           {
            "bin_end": 9.2,
            "bin_start": 7.4,
            "count": 0
           },
           {
            "bin_end": 11,
            "bin_start": 9.2,
            "count": 0
           },
           {
            "bin_end": 12.8,
            "bin_start": 11,
            "count": 1
           },
           {
            "bin_end": 14.6,
            "bin_start": 12.8,
            "count": 1
           },
           {
            "bin_end": 16.4,
            "bin_start": 14.6,
            "count": 0
           },
           {
            "bin_end": 18.2,
            "bin_start": 16.4,
            "count": 0
           },
           {
            "bin_end": 20,
            "bin_start": 18.2,
            "count": 1
           }
          ],
          "max": "20.0",
          "min": "2.0",
          "nan_count": 0,
          "unique_count": 5
         }
        },
        {
         "dtype": "object",
         "name": "RecruitmentSource",
         "stats": {
          "categories": [
           {
            "count": 2,
            "name": "LinkedIn"
           },
           {
            "count": 2,
            "name": "Employee Referral"
           },
           {
            "count": 1,
            "name": "Google Search"
           }
          ],
          "nan_count": 0,
          "unique_count": 3
         }
        },
        {
         "dtype": "object",
         "name": "PerformanceScore",
         "stats": {
          "categories": [
           {
            "count": 3,
            "name": "Fully Meets"
           },
           {
            "count": 1,
            "name": "PIP"
           },
           {
            "count": 1,
            "name": "Exceeds"
           }
          ],
          "nan_count": 0,
          "unique_count": 3
         }
        },
        {
         "dtype": "float64",
         "name": "EngagementSurvey",
         "stats": {
          "histogram": [
           {
            "bin_end": 3.3800000000000003,
            "bin_start": 3.2,
            "count": 1
           },
           {
            "bin_end": 3.56,
            "bin_start": 3.3800000000000003,
            "count": 0
           },
           {
            "bin_end": 3.74,
            "bin_start": 3.56,
            "count": 0
           },
           {
            "bin_end": 3.92,
            "bin_start": 3.74,
            "count": 0
           },
           {
            "bin_end": 4.1,
            "bin_start": 3.92,
            "count": 1
           },
           {
            "bin_end": 4.28,
            "bin_start": 4.1,
            "count": 0
           },
           {
            "bin_end": 4.46,
            "bin_start": 4.28,
            "count": 0
           },
           {
            "bin_end": 4.640000000000001,
            "bin_start": 4.46,
            "count": 2
           },
           {
            "bin_end": 4.82,
            "bin_start": 4.640000000000001,
            "count": 0
           },
           {
            "bin_end": 5,
            "bin_start": 4.82,
            "count": 1
           }
          ],
          "max": "5.0",
          "min": "3.2",
          "nan_count": 0,
          "unique_count": 5
         }
        },
        {
         "dtype": "int64",
         "name": "EmpSatisfaction",
         "stats": {
          "histogram": [
           {
            "bin_end": 2.3,
            "bin_start": 2,
            "count": 1
           },
           {
            "bin_end": 2.6,
            "bin_start": 2.3,
            "count": 0
           },
           {
            "bin_end": 2.9,
            "bin_start": 2.6,
            "count": 0
           },
           {
            "bin_end": 3.2,
            "bin_start": 2.9,
            "count": 1
           },
           {
            "bin_end": 3.5,
            "bin_start": 3.2,
            "count": 0
           },
           {
            "bin_end": 3.8,
            "bin_start": 3.5,
            "count": 0
           },
           {
            "bin_end": 4.1,
            "bin_start": 3.8,
            "count": 1
           },
           {
            "bin_end": 4.4,
            "bin_start": 4.1,
            "count": 0
           },
           {
            "bin_end": 4.699999999999999,
            "bin_start": 4.4,
            "count": 0
           },
           {
            "bin_end": 5,
            "bin_start": 4.699999999999999,
            "count": 2
           }
          ],
          "max": "5",
          "min": "2",
          "nan_count": 0,
          "unique_count": 4
         }
        },
        {
         "dtype": "int64",
         "name": "SpecialProjectsCount",
         "stats": {
          "histogram": [
           {
            "bin_end": 0.6,
            "bin_start": 0,
            "count": 3
           },
           {
            "bin_end": 1.2,
            "bin_start": 0.6,
            "count": 0
           },
           {
            "bin_end": 1.7999999999999998,
            "bin_start": 1.2,
            "count": 0
           },
           {
            "bin_end": 2.4,
            "bin_start": 1.7999999999999998,
            "count": 0
           },
           {
            "bin_end": 3,
            "bin_start": 2.4,
            "count": 0
           },
           {
            "bin_end": 3.5999999999999996,
            "bin_start": 3,
            "count": 0
           },
           {
            "bin_end": 4.2,
            "bin_start": 3.5999999999999996,
            "count": 0
           },
           {
            "bin_end": 4.8,
            "bin_start": 4.2,
            "count": 0
           },
           {
            "bin_end": 5.3999999999999995,
            "bin_start": 4.8,
            "count": 1
           },
           {
            "bin_end": 6,
            "bin_start": 5.3999999999999995,
            "count": 1
           }
          ],
          "max": "6",
          "min": "0",
          "nan_count": 0,
          "unique_count": 3
         }
        },
        {
         "dtype": "object",
         "name": "LastPerformanceReview_Date",
         "stats": {
          "categories": [
           {
            "count": 1,
            "name": "2/28/2019"
           },
           {
            "count": 1,
            "name": "9/2/2015"
           },
           {
            "count": 3,
            "name": "3 others"
           }
          ],
          "nan_count": 0,
          "unique_count": 5
         }
        },
        {
         "dtype": "int64",
         "name": "DaysLateLast30",
         "stats": {
          "histogram": [
           {
            "bin_end": 0.5,
            "bin_start": 0,
            "count": 4
           },
           {
            "bin_end": 1,
            "bin_start": 0.5,
            "count": 0
           },
           {
            "bin_end": 1.5,
            "bin_start": 1,
            "count": 0
           },
           {
            "bin_end": 2,
            "bin_start": 1.5,
            "count": 0
           },
           {
            "bin_end": 2.5,
            "bin_start": 2,
            "count": 0
           },
           {
            "bin_end": 3,
            "bin_start": 2.5,
            "count": 0
           },
           {
            "bin_end": 3.5,
            "bin_start": 3,
            "count": 0
           },
           {
            "bin_end": 4,
            "bin_start": 3.5,
            "count": 0
           },
           {
            "bin_end": 4.5,
            "bin_start": 4,
            "count": 0
           },
           {
            "bin_end": 5,
            "bin_start": 4.5,
            "count": 1
           }
          ],
          "max": "5",
          "min": "0",
          "nan_count": 0,
          "unique_count": 2
         }
        },
        {
         "dtype": "int64",
         "name": "Absences",
         "stats": {
          "histogram": [
           {
            "bin_end": 3.4,
            "bin_start": 2,
            "count": 1
           },
           {
            "bin_end": 4.8,
            "bin_start": 3.4,
            "count": 1
           },
           {
            "bin_end": 6.199999999999999,
            "bin_start": 4.8,
            "count": 0
           },
           {
            "bin_end": 7.6,
            "bin_start": 6.199999999999999,
            "count": 0
           },
           {
            "bin_end": 9,
            "bin_start": 7.6,
            "count": 0
           },
           {
            "bin_end": 10.399999999999999,
            "bin_start": 9,
            "count": 0
           },
           {
            "bin_end": 11.799999999999999,
            "bin_start": 10.399999999999999,
            "count": 1
           },
           {
            "bin_end": 13.2,
            "bin_start": 11.799999999999999,
            "count": 1
           },
           {
            "bin_end": 14.6,
            "bin_start": 13.2,
            "count": 0
           },
           {
            "bin_end": 16,
            "bin_start": 14.6,
            "count": 1
           }
          ],
          "max": "16",
          "min": "2",
          "nan_count": 0,
          "unique_count": 5
         }
        },
        {
         "dtype": "int64",
         "name": "_deepnote_index_column"
        }
       ],
       "row_count": 5,
       "rows": [
        {
         "Absences": "13",
         "CitizenDesc": "US Citizen",
         "DOB": "05/11/85",
         "DateofHire": "2014-07-07 00:00:00",
         "DateofTermination": "NaT",
         "DaysLateLast30": "0",
         "Department": "Production       ",
         "DeptID": "5",
         "EmpID": "10135",
         "EmpSatisfaction": "4",
         "EmpStatusID": "1",
         "Employee_Name": "Woodson, Jason",
         "EmploymentStatus": "Active",
         "EngagementSurvey": "4.07",
         "FromDiversityJobFairID": "0",
         "GenderID": "1",
         "HispanicLatino": "No",
         "LastPerformanceReview_Date": "2/28/2019",
         "ManagerID": "20.0",
         "ManagerName": "Kissy Sullivan",
         "MaritalDesc": "Single",
         "MaritalStatusID": "0",
         "MarriedID": "0",
         "PerfScoreID": "3",
         "PerformanceScore": "Fully Meets",
         "Position": "Production Technician II",
         "PositionID": "20",
         "RaceDesc": "White",
         "RecruitmentSource": "LinkedIn",
         "Salary": "65893",
         "Sex": "M ",
         "SpecialProjectsCount": "0",
         "State": "MA",
         "TermReason": "N/A-StillEmployed",
         "Termd": "0",
         "Zip": "1810",
         "_deepnote_index_column": "306"
        },
        {
         "Absences": "4",
         "CitizenDesc": "US Citizen",
         "DOB": "05/04/82",
         "DateofHire": "2008-09-02 00:00:00",
         "DateofTermination": "2015-09-29 00:00:00",
         "DaysLateLast30": "5",
         "Department": "Production       ",
         "DeptID": "5",
         "EmpID": "10301",
         "EmpSatisfaction": "2",
         "EmpStatusID": "5",
         "Employee_Name": "Ybarra, Catherine ",
         "EmploymentStatus": "Voluntarily Terminated",
         "EngagementSurvey": "3.2",
         "FromDiversityJobFairID": "0",
         "GenderID": "0",
         "HispanicLatino": "No",
         "LastPerformanceReview_Date": "9/2/2015",
         "ManagerID": "12.0",
         "ManagerName": "Brannon Miller",
         "MaritalDesc": "Single",
         "MaritalStatusID": "0",
         "MarriedID": "0",
         "PerfScoreID": "1",
         "PerformanceScore": "PIP",
         "Position": "Production Technician I",
         "PositionID": "19",
         "RaceDesc": "Asian",
         "RecruitmentSource": "Google Search",
         "Salary": "48513",
         "Sex": "F",
         "SpecialProjectsCount": "0",
         "State": "MA",
         "TermReason": "Another position",
         "Termd": "1",
         "Zip": "2458",
         "_deepnote_index_column": "307"
        },
        {
         "Absences": "16",
         "CitizenDesc": "US Citizen",
         "DOB": "08/30/79",
         "DateofHire": "2010-04-10 00:00:00",
         "DateofTermination": "NaT",
         "DaysLateLast30": "0",
         "Department": "IT/IS",
         "DeptID": "3",
         "EmpID": "10010",
         "EmpSatisfaction": "5",
         "EmpStatusID": "1",
         "Employee_Name": "Zamora, Jennifer",
         "EmploymentStatus": "Active",
         "EngagementSurvey": "4.6",
         "FromDiversityJobFairID": "0",
         "GenderID": "0",
         "HispanicLatino": "No",
         "LastPerformanceReview_Date": "2/21/2019",
         "ManagerID": "2.0",
         "ManagerName": "Janet King",
         "MaritalDesc": "Single",
         "MaritalStatusID": "0",
         "MarriedID": "0",
         "PerfScoreID": "4",
         "PerformanceScore": "Exceeds",
         "Position": "CIO",
         "PositionID": "6",
         "RaceDesc": "White",
         "RecruitmentSource": "Employee Referral",
         "Salary": "220450",
         "Sex": "F",
         "SpecialProjectsCount": "6",
         "State": "MA",
         "TermReason": "N/A-StillEmployed",
         "Termd": "0",
         "Zip": "2067",
         "_deepnote_index_column": "308"
        },
        {
         "Absences": "11",
         "CitizenDesc": "US Citizen",
         "DOB": "02/24/79",
         "DateofHire": "2015-03-30 00:00:00",
         "DateofTermination": "NaT",
         "DaysLateLast30": "0",
         "Department": "IT/IS",
         "DeptID": "3",
         "EmpID": "10043",
         "EmpSatisfaction": "3",
         "EmpStatusID": "1",
         "Employee_Name": "Zhou, Julia",
         "EmploymentStatus": "Active",
         "EngagementSurvey": "5.0",
         "FromDiversityJobFairID": "0",
         "GenderID": "0",
         "HispanicLatino": "No",
         "LastPerformanceReview_Date": "2/1/2019",
         "ManagerID": "4.0",
         "ManagerName": "Simon Roup",
         "MaritalDesc": "Single",
         "MaritalStatusID": "0",
         "MarriedID": "0",
         "PerfScoreID": "3",
         "PerformanceScore": "Fully Meets",
         "Position": "Data Analyst",
         "PositionID": "9",
         "RaceDesc": "White",
         "RecruitmentSource": "Employee Referral",
         "Salary": "89292",
         "Sex": "F",
         "SpecialProjectsCount": "5",
         "State": "MA",
         "TermReason": "N/A-StillEmployed",
         "Termd": "0",
         "Zip": "2148",
         "_deepnote_index_column": "309"
        },
        {
         "Absences": "2",
         "CitizenDesc": "US Citizen",
         "DOB": "08/17/78",
         "DateofHire": "2014-09-29 00:00:00",
         "DateofTermination": "NaT",
         "DaysLateLast30": "0",
         "Department": "Production       ",
         "DeptID": "5",
         "EmpID": "10271",
         "EmpSatisfaction": "5",
         "EmpStatusID": "1",
         "Employee_Name": "Zima, Colleen",
         "EmploymentStatus": "Active",
         "EngagementSurvey": "4.5",
         "FromDiversityJobFairID": "0",
         "GenderID": "0",
         "HispanicLatino": "No",
         "LastPerformanceReview_Date": "1/30/2019",
         "ManagerID": "14.0",
         "ManagerName": "David Stanley",
         "MaritalDesc": "Widowed",
         "MaritalStatusID": "4",
         "MarriedID": "0",
         "PerfScoreID": "3",
         "PerformanceScore": "Fully Meets",
         "Position": "Production Technician I",
         "PositionID": "19",
         "RaceDesc": "Asian",
         "RecruitmentSource": "LinkedIn",
         "Salary": "45046",
         "Sex": "F",
         "SpecialProjectsCount": "0",
         "State": "MA",
         "TermReason": "N/A-StillEmployed",
         "Termd": "0",
         "Zip": "1730",
         "_deepnote_index_column": "310"
        }
       ]
      },
      "text/html": [
       "<div>\n",
       "<style scoped>\n",
       "    .dataframe tbody tr th:only-of-type {\n",
       "        vertical-align: middle;\n",
       "    }\n",
       "\n",
       "    .dataframe tbody tr th {\n",
       "        vertical-align: top;\n",
       "    }\n",
       "\n",
       "    .dataframe thead th {\n",
       "        text-align: right;\n",
       "    }\n",
       "</style>\n",
       "<table border=\"1\" class=\"dataframe\">\n",
       "  <thead>\n",
       "    <tr style=\"text-align: right;\">\n",
       "      <th></th>\n",
       "      <th>Employee_Name</th>\n",
       "      <th>EmpID</th>\n",
       "      <th>MarriedID</th>\n",
       "      <th>MaritalStatusID</th>\n",
       "      <th>GenderID</th>\n",
       "      <th>EmpStatusID</th>\n",
       "      <th>DeptID</th>\n",
       "      <th>PerfScoreID</th>\n",
       "      <th>FromDiversityJobFairID</th>\n",
       "      <th>Salary</th>\n",
       "      <th>Termd</th>\n",
       "      <th>PositionID</th>\n",
       "      <th>Position</th>\n",
       "      <th>State</th>\n",
       "      <th>Zip</th>\n",
       "      <th>DOB</th>\n",
       "      <th>Sex</th>\n",
       "      <th>MaritalDesc</th>\n",
       "      <th>CitizenDesc</th>\n",
       "      <th>HispanicLatino</th>\n",
       "      <th>RaceDesc</th>\n",
       "      <th>DateofHire</th>\n",
       "      <th>DateofTermination</th>\n",
       "      <th>TermReason</th>\n",
       "      <th>EmploymentStatus</th>\n",
       "      <th>Department</th>\n",
       "      <th>ManagerName</th>\n",
       "      <th>ManagerID</th>\n",
       "      <th>RecruitmentSource</th>\n",
       "      <th>PerformanceScore</th>\n",
       "      <th>EngagementSurvey</th>\n",
       "      <th>EmpSatisfaction</th>\n",
       "      <th>SpecialProjectsCount</th>\n",
       "      <th>LastPerformanceReview_Date</th>\n",
       "      <th>DaysLateLast30</th>\n",
       "      <th>Absences</th>\n",
       "    </tr>\n",
       "  </thead>\n",
       "  <tbody>\n",
       "    <tr>\n",
       "      <th>306</th>\n",
       "      <td>Woodson, Jason</td>\n",
       "      <td>10135</td>\n",
       "      <td>0</td>\n",
       "      <td>0</td>\n",
       "      <td>1</td>\n",
       "      <td>1</td>\n",
       "      <td>5</td>\n",
       "      <td>3</td>\n",
       "      <td>0</td>\n",
       "      <td>65893</td>\n",
       "      <td>0</td>\n",
       "      <td>20</td>\n",
       "      <td>Production Technician II</td>\n",
       "      <td>MA</td>\n",
       "      <td>1810</td>\n",
       "      <td>05/11/85</td>\n",
       "      <td>M</td>\n",
       "      <td>Single</td>\n",
       "      <td>US Citizen</td>\n",
       "      <td>No</td>\n",
       "      <td>White</td>\n",
       "      <td>2014-07-07</td>\n",
       "      <td>NaT</td>\n",
       "      <td>N/A-StillEmployed</td>\n",
       "      <td>Active</td>\n",
       "      <td>Production</td>\n",
       "      <td>Kissy Sullivan</td>\n",
       "      <td>20.0</td>\n",
       "      <td>LinkedIn</td>\n",
       "      <td>Fully Meets</td>\n",
       "      <td>4.07</td>\n",
       "      <td>4</td>\n",
       "      <td>0</td>\n",
       "      <td>2/28/2019</td>\n",
       "      <td>0</td>\n",
       "      <td>13</td>\n",
       "    </tr>\n",
       "    <tr>\n",
       "      <th>307</th>\n",
       "      <td>Ybarra, Catherine</td>\n",
       "      <td>10301</td>\n",
       "      <td>0</td>\n",
       "      <td>0</td>\n",
       "      <td>0</td>\n",
       "      <td>5</td>\n",
       "      <td>5</td>\n",
       "      <td>1</td>\n",
       "      <td>0</td>\n",
       "      <td>48513</td>\n",
       "      <td>1</td>\n",
       "      <td>19</td>\n",
       "      <td>Production Technician I</td>\n",
       "      <td>MA</td>\n",
       "      <td>2458</td>\n",
       "      <td>05/04/82</td>\n",
       "      <td>F</td>\n",
       "      <td>Single</td>\n",
       "      <td>US Citizen</td>\n",
       "      <td>No</td>\n",
       "      <td>Asian</td>\n",
       "      <td>2008-09-02</td>\n",
       "      <td>2015-09-29</td>\n",
       "      <td>Another position</td>\n",
       "      <td>Voluntarily Terminated</td>\n",
       "      <td>Production</td>\n",
       "      <td>Brannon Miller</td>\n",
       "      <td>12.0</td>\n",
       "      <td>Google Search</td>\n",
       "      <td>PIP</td>\n",
       "      <td>3.20</td>\n",
       "      <td>2</td>\n",
       "      <td>0</td>\n",
       "      <td>9/2/2015</td>\n",
       "      <td>5</td>\n",
       "      <td>4</td>\n",
       "    </tr>\n",
       "    <tr>\n",
       "      <th>308</th>\n",
       "      <td>Zamora, Jennifer</td>\n",
       "      <td>10010</td>\n",
       "      <td>0</td>\n",
       "      <td>0</td>\n",
       "      <td>0</td>\n",
       "      <td>1</td>\n",
       "      <td>3</td>\n",
       "      <td>4</td>\n",
       "      <td>0</td>\n",
       "      <td>220450</td>\n",
       "      <td>0</td>\n",
       "      <td>6</td>\n",
       "      <td>CIO</td>\n",
       "      <td>MA</td>\n",
       "      <td>2067</td>\n",
       "      <td>08/30/79</td>\n",
       "      <td>F</td>\n",
       "      <td>Single</td>\n",
       "      <td>US Citizen</td>\n",
       "      <td>No</td>\n",
       "      <td>White</td>\n",
       "      <td>2010-04-10</td>\n",
       "      <td>NaT</td>\n",
       "      <td>N/A-StillEmployed</td>\n",
       "      <td>Active</td>\n",
       "      <td>IT/IS</td>\n",
       "      <td>Janet King</td>\n",
       "      <td>2.0</td>\n",
       "      <td>Employee Referral</td>\n",
       "      <td>Exceeds</td>\n",
       "      <td>4.60</td>\n",
       "      <td>5</td>\n",
       "      <td>6</td>\n",
       "      <td>2/21/2019</td>\n",
       "      <td>0</td>\n",
       "      <td>16</td>\n",
       "    </tr>\n",
       "    <tr>\n",
       "      <th>309</th>\n",
       "      <td>Zhou, Julia</td>\n",
       "      <td>10043</td>\n",
       "      <td>0</td>\n",
       "      <td>0</td>\n",
       "      <td>0</td>\n",
       "      <td>1</td>\n",
       "      <td>3</td>\n",
       "      <td>3</td>\n",
       "      <td>0</td>\n",
       "      <td>89292</td>\n",
       "      <td>0</td>\n",
       "      <td>9</td>\n",
       "      <td>Data Analyst</td>\n",
       "      <td>MA</td>\n",
       "      <td>2148</td>\n",
       "      <td>02/24/79</td>\n",
       "      <td>F</td>\n",
       "      <td>Single</td>\n",
       "      <td>US Citizen</td>\n",
       "      <td>No</td>\n",
       "      <td>White</td>\n",
       "      <td>2015-03-30</td>\n",
       "      <td>NaT</td>\n",
       "      <td>N/A-StillEmployed</td>\n",
       "      <td>Active</td>\n",
       "      <td>IT/IS</td>\n",
       "      <td>Simon Roup</td>\n",
       "      <td>4.0</td>\n",
       "      <td>Employee Referral</td>\n",
       "      <td>Fully Meets</td>\n",
       "      <td>5.00</td>\n",
       "      <td>3</td>\n",
       "      <td>5</td>\n",
       "      <td>2/1/2019</td>\n",
       "      <td>0</td>\n",
       "      <td>11</td>\n",
       "    </tr>\n",
       "    <tr>\n",
       "      <th>310</th>\n",
       "      <td>Zima, Colleen</td>\n",
       "      <td>10271</td>\n",
       "      <td>0</td>\n",
       "      <td>4</td>\n",
       "      <td>0</td>\n",
       "      <td>1</td>\n",
       "      <td>5</td>\n",
       "      <td>3</td>\n",
       "      <td>0</td>\n",
       "      <td>45046</td>\n",
       "      <td>0</td>\n",
       "      <td>19</td>\n",
       "      <td>Production Technician I</td>\n",
       "      <td>MA</td>\n",
       "      <td>1730</td>\n",
       "      <td>08/17/78</td>\n",
       "      <td>F</td>\n",
       "      <td>Widowed</td>\n",
       "      <td>US Citizen</td>\n",
       "      <td>No</td>\n",
       "      <td>Asian</td>\n",
       "      <td>2014-09-29</td>\n",
       "      <td>NaT</td>\n",
       "      <td>N/A-StillEmployed</td>\n",
       "      <td>Active</td>\n",
       "      <td>Production</td>\n",
       "      <td>David Stanley</td>\n",
       "      <td>14.0</td>\n",
       "      <td>LinkedIn</td>\n",
       "      <td>Fully Meets</td>\n",
       "      <td>4.50</td>\n",
       "      <td>5</td>\n",
       "      <td>0</td>\n",
       "      <td>1/30/2019</td>\n",
       "      <td>0</td>\n",
       "      <td>2</td>\n",
       "    </tr>\n",
       "  </tbody>\n",
       "</table>\n",
       "</div>"
      ],
      "text/plain": [
       "          Employee_Name  EmpID  MarriedID  MaritalStatusID  GenderID  \\\n",
       "306      Woodson, Jason  10135          0                0         1   \n",
       "307  Ybarra, Catherine   10301          0                0         0   \n",
       "308    Zamora, Jennifer  10010          0                0         0   \n",
       "309         Zhou, Julia  10043          0                0         0   \n",
       "310       Zima, Colleen  10271          0                4         0   \n",
       "\n",
       "     EmpStatusID  DeptID  PerfScoreID  FromDiversityJobFairID  Salary  Termd  \\\n",
       "306            1       5            3                       0   65893      0   \n",
       "307            5       5            1                       0   48513      1   \n",
       "308            1       3            4                       0  220450      0   \n",
       "309            1       3            3                       0   89292      0   \n",
       "310            1       5            3                       0   45046      0   \n",
       "\n",
       "     PositionID                  Position State   Zip       DOB Sex  \\\n",
       "306          20  Production Technician II    MA  1810  05/11/85  M    \n",
       "307          19   Production Technician I    MA  2458  05/04/82   F   \n",
       "308           6                       CIO    MA  2067  08/30/79   F   \n",
       "309           9              Data Analyst    MA  2148  02/24/79   F   \n",
       "310          19   Production Technician I    MA  1730  08/17/78   F   \n",
       "\n",
       "    MaritalDesc CitizenDesc HispanicLatino RaceDesc DateofHire  \\\n",
       "306      Single  US Citizen             No    White 2014-07-07   \n",
       "307      Single  US Citizen             No    Asian 2008-09-02   \n",
       "308      Single  US Citizen             No    White 2010-04-10   \n",
       "309      Single  US Citizen             No    White 2015-03-30   \n",
       "310     Widowed  US Citizen             No    Asian 2014-09-29   \n",
       "\n",
       "    DateofTermination         TermReason        EmploymentStatus  \\\n",
       "306               NaT  N/A-StillEmployed                  Active   \n",
       "307        2015-09-29   Another position  Voluntarily Terminated   \n",
       "308               NaT  N/A-StillEmployed                  Active   \n",
       "309               NaT  N/A-StillEmployed                  Active   \n",
       "310               NaT  N/A-StillEmployed                  Active   \n",
       "\n",
       "            Department     ManagerName  ManagerID  RecruitmentSource  \\\n",
       "306  Production         Kissy Sullivan       20.0           LinkedIn   \n",
       "307  Production         Brannon Miller       12.0      Google Search   \n",
       "308              IT/IS      Janet King        2.0  Employee Referral   \n",
       "309              IT/IS      Simon Roup        4.0  Employee Referral   \n",
       "310  Production          David Stanley       14.0           LinkedIn   \n",
       "\n",
       "    PerformanceScore  EngagementSurvey  EmpSatisfaction  SpecialProjectsCount  \\\n",
       "306      Fully Meets              4.07                4                     0   \n",
       "307              PIP              3.20                2                     0   \n",
       "308          Exceeds              4.60                5                     6   \n",
       "309      Fully Meets              5.00                3                     5   \n",
       "310      Fully Meets              4.50                5                     0   \n",
       "\n",
       "    LastPerformanceReview_Date  DaysLateLast30  Absences  \n",
       "306                  2/28/2019               0        13  \n",
       "307                   9/2/2015               5         4  \n",
       "308                  2/21/2019               0        16  \n",
       "309                   2/1/2019               0        11  \n",
       "310                  1/30/2019               0         2  "
      ]
     },
     "execution_count": 10,
     "metadata": {},
     "output_type": "execute_result"
    }
   ],
   "source": [
    "hr_data.tail()"
   ]
  },
  {
   "cell_type": "code",
   "execution_count": 11,
   "metadata": {
    "cell_id": "a4c96dcb35d34e6fa9a4832f9310ef39",
    "deepnote_cell_type": "code",
    "deepnote_to_be_reexecuted": false,
    "execution_millis": 643,
    "execution_start": 1663332390767,
    "source_hash": "5eba0a56",
    "tags": []
   },
   "outputs": [
    {
     "data": {
      "text/plain": [
       "0    137\n",
       "1    124\n",
       "2     30\n",
       "3     12\n",
       "4      8\n",
       "Name: MaritalStatusID, dtype: int64"
      ]
     },
     "execution_count": 11,
     "metadata": {},
     "output_type": "execute_result"
    }
   ],
   "source": [
    "hr_data['MaritalStatusID'].value_counts()"
   ]
  },
  {
   "cell_type": "code",
   "execution_count": 12,
   "metadata": {
    "cell_id": "98c0f6d0408a4e1eb7720f462d9b774e",
    "deepnote_cell_type": "code",
    "deepnote_to_be_reexecuted": false,
    "execution_millis": 638,
    "execution_start": 1663332390772,
    "source_hash": "b3a629c0",
    "tags": []
   },
   "outputs": [
    {
     "data": {
      "text/plain": [
       "Single       137\n",
       "Married      124\n",
       "Divorced      30\n",
       "Separated     12\n",
       "Widowed        8\n",
       "Name: MaritalDesc, dtype: int64"
      ]
     },
     "execution_count": 12,
     "metadata": {},
     "output_type": "execute_result"
    }
   ],
   "source": [
    "hr_data['MaritalDesc'].value_counts()"
   ]
  },
  {
   "cell_type": "code",
   "execution_count": 13,
   "metadata": {
    "cell_id": "3b09e42427144a459c248f0c6564ad6f",
    "deepnote_cell_type": "code",
    "deepnote_to_be_reexecuted": false,
    "execution_millis": 0,
    "execution_start": 1663332390818,
    "source_hash": "fe30ad93",
    "tags": []
   },
   "outputs": [],
   "source": [
    "hr_data.drop('MaritalStatusID',axis = 1,inplace = True)"
   ]
  },
  {
   "cell_type": "code",
   "execution_count": 14,
   "metadata": {
    "cell_id": "5a8304023337475db20027561e04407b",
    "deepnote_cell_type": "code",
    "deepnote_to_be_reexecuted": false,
    "execution_millis": 592,
    "execution_start": 1663332390819,
    "source_hash": "6b9b5ad9",
    "tags": []
   },
   "outputs": [
    {
     "data": {
      "image/png": "[encoded data removed]",
      "text/plain": [
       "<Figure size 640x480 with 1 Axes>"
      ]
     },
     "metadata": {
      "image/png": {
       "height": 432,
       "width": 571
      }
     },
     "output_type": "display_data"
    }
   ],
   "source": [
    "sns.countplot(x = 'MaritalDesc',palette = 'magma',data = hr_data)\n",
    "plt.show()"
   ]
  },
  {
   "cell_type": "markdown",
   "metadata": {
    "cell_id": "d0c51de529d0481d9862441704f2b57e",
    "deepnote_cell_type": "text-cell-h1",
    "formattedRanges": [],
    "is_collapsed": false,
    "tags": []
   },
   "source": [
    "# See ya bro"
   ]
  },
  {
   "cell_type": "code",
   "execution_count": 15,
   "metadata": {
    "cell_id": "201bc0cdec134ed29613f795fcbc0c38",
    "deepnote_cell_type": "code",
    "deepnote_to_be_reexecuted": false,
    "execution_millis": 251,
    "execution_start": 1663332526737,
    "source_hash": "9d5a60bb",
    "tags": []
   },
   "outputs": [
    {
     "data": {
      "image/png": "[encoded data removed]",
      "text/plain": [
       "<Figure size 640x480 with 1 Axes>"
      ]
     },
     "metadata": {
      "image/png": {
       "height": 432,
       "width": 571
      }
     },
     "output_type": "display_data"
    }
   ],
   "source": [
    "sns.countplot(x = 'PerformanceScore',hue = 'Sex',palette= 'magma',data = hr_data)\n",
    "plt.show()"
   ]
  },
  {
   "cell_type": "code",
   "execution_count": 16,
   "metadata": {
    "cell_id": "4d904b8c466444ab8d7eb1a8997d42fc",
    "deepnote_cell_type": "code",
    "deepnote_to_be_reexecuted": false,
    "execution_millis": 650,
    "execution_start": 1663332603897,
    "source_hash": "6af6958d",
    "tags": []
   },
   "outputs": [
    {
     "data": {
      "image/png": "[encoded data removed]",
      "text/plain": [
       "<Figure size 640x480 with 1 Axes>"
      ]
     },
     "metadata": {
      "image/png": {
       "height": 432,
       "width": 571
      }
     },
     "output_type": "display_data"
    }
   ],
   "source": [
    "sns.countplot(x = 'PerformanceScore',hue = 'Department',palette= 'magma',data = hr_data)\n",
    "plt.show()"
   ]
  },
  {
   "cell_type": "code",
   "execution_count": 22,
   "metadata": {
    "cell_id": "af099addfb5048f38606315825fa7666",
    "deepnote_cell_type": "code",
    "deepnote_to_be_reexecuted": false,
    "execution_millis": 375,
    "execution_start": 1663332823984,
    "source_hash": "de5d2a96",
    "tags": []
   },
   "outputs": [
    {
     "data": {
      "image/png": "[encoded data removed]",
      "text/plain": [
       "<Figure size 1500x800 with 1 Axes>"
      ]
     },
     "metadata": {
      "image/png": {
       "height": 884,
       "width": 1238
      }
     },
     "output_type": "display_data"
    }
   ],
   "source": [
    "plt.figure(figsize = (15,8))\n",
    "sns.countplot(x = 'TermReason',hue = 'Sex',data = hr_data,palette= 'magma')\n",
    "plt.xticks(rotation = 90)\n",
    "plt.show()"
   ]
  },
  {
   "cell_type": "code",
   "execution_count": 25,
   "metadata": {
    "cell_id": "1771c59e0ceb4afdbea877ef9f8d79ca",
    "deepnote_cell_type": "code",
    "deepnote_to_be_reexecuted": false,
    "execution_millis": 262,
    "execution_start": 1663332949550,
    "source_hash": "63b4de42",
    "tags": []
   },
   "outputs": [
    {
     "data": {
      "image/png": "[encoded data removed]",
      "text/plain": [
       "<Figure size 1100x800 with 1 Axes>"
      ]
     },
     "metadata": {
      "image/png": {
       "height": 679,
       "width": 928
      }
     },
     "output_type": "display_data"
    }
   ],
   "source": [
    "plt.figure(figsize = (11,8))\n",
    "sns.countplot(x = 'Department',hue = 'Sex',palette= 'magma',data = hr_data)\n",
    "plt.show()"
   ]
  },
  {
   "cell_type": "code",
   "execution_count": 30,
   "metadata": {
    "cell_id": "d73a40a01ec1459ea26e4253b9f35946",
    "deepnote_cell_type": "code",
    "deepnote_to_be_reexecuted": false,
    "execution_millis": 289,
    "execution_start": 1663333118293,
    "source_hash": "50fe2f9e",
    "tags": []
   },
   "outputs": [
    {
     "data": {
      "image/png": "[encoded data removed]",
      "text/plain": [
       "<Figure size 1100x600 with 1 Axes>"
      ]
     },
     "metadata": {
      "image/png": {
       "height": 676,
       "width": 919
      }
     },
     "output_type": "display_data"
    }
   ],
   "source": [
    "plt.figure(figsize = (11,6))\n",
    "sns.countplot(x = 'RecruitmentSource',hue = 'Sex',data = hr_data,palette= 'magma')\n",
    "plt.xticks(rotation = 90)\n",
    "plt.show()"
   ]
  },
  {
   "cell_type": "code",
   "execution_count": 31,
   "metadata": {
    "cell_id": "72529f2ce32642acb3af12e1e17a10e2",
    "deepnote_cell_type": "code",
    "deepnote_to_be_reexecuted": false,
    "execution_millis": 1074,
    "execution_start": 1663333152027,
    "source_hash": "b4d32f6d",
    "tags": []
   },
   "outputs": [
    {
     "data": {
      "image/png": "[encoded data removed]",
      "text/plain": [
       "<Figure size 640x480 with 1 Axes>"
      ]
     },
     "metadata": {
      "image/png": {
       "height": 436,
       "width": 566
      }
     },
     "output_type": "display_data"
    }
   ],
   "source": [
    "sns.histplot(x = 'Salary',data = hr_data)\n",
    "plt.show()"
   ]
  },
  {
   "cell_type": "code",
   "execution_count": 38,
   "metadata": {
    "cell_id": "d19c08fac1a94ae8986ecb444b692381",
    "deepnote_cell_type": "code",
    "deepnote_to_be_reexecuted": false,
    "execution_millis": 3,
    "execution_start": 1663333905664,
    "source_hash": "db31bb1c",
    "tags": []
   },
   "outputs": [],
   "source": [
    "hr_data_copy = hr_data.copy()"
   ]
  },
  {
   "cell_type": "code",
   "execution_count": 40,
   "metadata": {
    "cell_id": "986308e72efe444294f4ed9b378f74b7",
    "deepnote_cell_type": "code",
    "deepnote_to_be_reexecuted": false,
    "execution_millis": 668,
    "execution_start": 1663333966527,
    "source_hash": "9b147ad4",
    "tags": []
   },
   "outputs": [
    {
     "name": "stdout",
     "output_type": "stream",
     "text": [
      "Object variables in the dataset: ['Employee_Name', 'Position', 'State', 'DOB', 'Sex', 'MaritalDesc', 'CitizenDesc', 'HispanicLatino', 'RaceDesc', 'TermReason', 'EmploymentStatus', 'Department', 'ManagerName', 'RecruitmentSource', 'PerformanceScore', 'LastPerformanceReview_Date']\n"
     ]
    }
   ],
   "source": [
    "s = (hr_data_copy.dtypes == 'object')\n",
    "object_cols = list(s[s].index)\n",
    "\n",
    "print(\"Object variables in the dataset:\", object_cols)"
   ]
  },
  {
   "cell_type": "code",
   "execution_count": 41,
   "metadata": {
    "cell_id": "9f541ce491aa4f79bb35b250ba05f00f",
    "deepnote_cell_type": "code",
    "deepnote_to_be_reexecuted": false,
    "execution_millis": 0,
    "execution_start": 1663334002103,
    "source_hash": "96cf558e",
    "tags": []
   },
   "outputs": [],
   "source": [
    "LE=LabelEncoder()\n",
    "for i in object_cols:\n",
    "    hr_data_copy[i]= hr_data_copy[[i]].apply(LE.fit_transform)"
   ]
  },
  {
   "cell_type": "code",
   "execution_count": 42,
   "metadata": {
    "cell_id": "09e15a1ef438402fb1227b2c6b67a97a",
    "deepnote_cell_type": "code",
    "deepnote_to_be_reexecuted": false,
    "execution_millis": 1016,
    "execution_start": 1663334017404,
    "source_hash": "1b66bf1c",
    "tags": []
   },
   "outputs": [
    {
     "data": {
      "application/vnd.deepnote.dataframe.v3+json": {
       "column_count": 35,
       "columns": [
        {
         "dtype": "int64",
         "name": "Employee_Name",
         "stats": {
          "histogram": [
           {
            "bin_end": 0.4,
            "bin_start": 0,
            "count": 1
           },
           {
            "bin_end": 0.8,
            "bin_start": 0.4,
            "count": 0
           },
           {
            "bin_end": 1.2000000000000002,
            "bin_start": 0.8,
            "count": 1
           },
           {
            "bin_end": 1.6,
            "bin_start": 1.2000000000000002,
            "count": 0
           },
           {
            "bin_end": 2,
            "bin_start": 1.6,
            "count": 0
           },
           {
            "bin_end": 2.4000000000000004,
            "bin_start": 2,
            "count": 1
           },
           {
            "bin_end": 2.8000000000000003,
            "bin_start": 2.4000000000000004,
            "count": 0
           },
           {
            "bin_end": 3.2,
            "bin_start": 2.8000000000000003,
            "count": 1
           },
           {
            "bin_end": 3.6,
            "bin_start": 3.2,
            "count": 0
           },
           {
            "bin_end": 4,
            "bin_start": 3.6,
            "count": 1
           }
          ],
          "max": "4",
          "min": "0",
          "nan_count": 0,
          "unique_count": 5
         }
        },
        {
         "dtype": "int64",
         "name": "EmpID",
         "stats": {
          "histogram": [
           {
            "bin_end": 10043,
            "bin_start": 10026,
            "count": 1
           },
           {
            "bin_end": 10060,
            "bin_start": 10043,
            "count": 0
           },
           {
            "bin_end": 10077,
            "bin_start": 10060,
            "count": 1
           },
           {
            "bin_end": 10094,
            "bin_start": 10077,
            "count": 2
           },
           {
            "bin_end": 10111,
            "bin_start": 10094,
            "count": 0
           },
           {
            "bin_end": 10128,
            "bin_start": 10111,
            "count": 0
           },
           {
            "bin_end": 10145,
            "bin_start": 10128,
            "count": 0
           },
           {
            "bin_end": 10162,
            "bin_start": 10145,
            "count": 0
           },
           {
            "bin_end": 10179,
            "bin_start": 10162,
            "count": 0
           },
           {
            "bin_end": 10196,
            "bin_start": 10179,
            "count": 1
           }
          ],
          "max": "10196",
          "min": "10026",
          "nan_count": 0,
          "unique_count": 5
         }
        },
        {
         "dtype": "int64",
         "name": "MarriedID",
         "stats": {
          "histogram": [
           {
            "bin_end": 0.1,
            "bin_start": 0,
            "count": 2
           },
           {
            "bin_end": 0.2,
            "bin_start": 0.1,
            "count": 0
           },
           {
            "bin_end": 0.30000000000000004,
            "bin_start": 0.2,
            "count": 0
           },
           {
            "bin_end": 0.4,
            "bin_start": 0.30000000000000004,
            "count": 0
           },
           {
            "bin_end": 0.5,
            "bin_start": 0.4,
            "count": 0
           },
           {
            "bin_end": 0.6000000000000001,
            "bin_start": 0.5,
            "count": 0
           },
           {
            "bin_end": 0.7000000000000001,
            "bin_start": 0.6000000000000001,
            "count": 0
           },
           {
            "bin_end": 0.8,
            "bin_start": 0.7000000000000001,
            "count": 0
           },
           {
            "bin_end": 0.9,
            "bin_start": 0.8,
            "count": 0
           },
           {
            "bin_end": 1,
            "bin_start": 0.9,
            "count": 3
           }
          ],
          "max": "1",
          "min": "0",
          "nan_count": 0,
          "unique_count": 2
         }
        },
        {
         "dtype": "int64",
         "name": "GenderID",
         "stats": {
          "histogram": [
           {
            "bin_end": 0.1,
            "bin_start": 0,
            "count": 3
           },
           {
            "bin_end": 0.2,
            "bin_start": 0.1,
            "count": 0
           },
           {
            "bin_end": 0.30000000000000004,
            "bin_start": 0.2,
            "count": 0
           },
           {
            "bin_end": 0.4,
            "bin_start": 0.30000000000000004,
            "count": 0
           },
           {
            "bin_end": 0.5,
            "bin_start": 0.4,
            "count": 0
           },
           {
            "bin_end": 0.6000000000000001,
            "bin_start": 0.5,
            "count": 0
           },
           {
            "bin_end": 0.7000000000000001,
            "bin_start": 0.6000000000000001,
            "count": 0
           },
           {
            "bin_end": 0.8,
            "bin_start": 0.7000000000000001,
            "count": 0
           },
           {
            "bin_end": 0.9,
            "bin_start": 0.8,
            "count": 0
           },
           {
            "bin_end": 1,
            "bin_start": 0.9,
            "count": 2
           }
          ],
          "max": "1",
          "min": "0",
          "nan_count": 0,
          "unique_count": 2
         }
        },
        {
         "dtype": "int64",
         "name": "EmpStatusID",
         "stats": {
          "histogram": [
           {
            "bin_end": 1.4,
            "bin_start": 1,
            "count": 2
           },
           {
            "bin_end": 1.8,
            "bin_start": 1.4,
            "count": 0
           },
           {
            "bin_end": 2.2,
            "bin_start": 1.8,
            "count": 0
           },
           {
            "bin_end": 2.6,
            "bin_start": 2.2,
            "count": 0
           },
           {
            "bin_end": 3,
            "bin_start": 2.6,
            "count": 0
           },
           {
            "bin_end": 3.4000000000000004,
            "bin_start": 3,
            "count": 0
           },
           {
            "bin_end": 3.8000000000000003,
            "bin_start": 3.4000000000000004,
            "count": 0
           },
           {
            "bin_end": 4.2,
            "bin_start": 3.8000000000000003,
            "count": 0
           },
           {
            "bin_end": 4.6,
            "bin_start": 4.2,
            "count": 0
           },
           {
            "bin_end": 5,
            "bin_start": 4.6,
            "count": 3
           }
          ],
          "max": "5",
          "min": "1",
          "nan_count": 0,
          "unique_count": 2
         }
        },
        {
         "dtype": "int64",
         "name": "DeptID",
         "stats": {
          "histogram": [
           {
            "bin_end": 3.2,
            "bin_start": 3,
            "count": 1
           },
           {
            "bin_end": 3.4,
            "bin_start": 3.2,
            "count": 0
           },
           {
            "bin_end": 3.6,
            "bin_start": 3.4,
            "count": 0
           },
           {
            "bin_end": 3.8,
            "bin_start": 3.6,
            "count": 0
           },
           {
            "bin_end": 4,
            "bin_start": 3.8,
            "count": 0
           },
           {
            "bin_end": 4.2,
            "bin_start": 4,
            "count": 0
           },
           {
            "bin_end": 4.4,
            "bin_start": 4.2,
            "count": 0
           },
           {
            "bin_end": 4.6,
            "bin_start": 4.4,
            "count": 0
           },
           {
            "bin_end": 4.8,
            "bin_start": 4.6,
            "count": 0
           },
           {
            "bin_end": 5,
            "bin_start": 4.8,
            "count": 4
           }
          ],
          "max": "5",
          "min": "3",
          "nan_count": 0,
          "unique_count": 2
         }
        },
        {
         "dtype": "int64",
         "name": "PerfScoreID",
         "stats": {
          "histogram": [
           {
            "bin_end": 3.1,
            "bin_start": 3,
            "count": 4
           },
           {
            "bin_end": 3.2,
            "bin_start": 3.1,
            "count": 0
           },
           {
            "bin_end": 3.3,
            "bin_start": 3.2,
            "count": 0
           },
           {
            "bin_end": 3.4,
            "bin_start": 3.3,
            "count": 0
           },
           {
            "bin_end": 3.5,
            "bin_start": 3.4,
            "count": 0
           },
           {
            "bin_end": 3.6,
            "bin_start": 3.5,
            "count": 0
           },
           {
            "bin_end": 3.7,
            "bin_start": 3.6,
            "count": 0
           },
           {
            "bin_end": 3.8,
            "bin_start": 3.7,
            "count": 0
           },
           {
            "bin_end": 3.9,
            "bin_start": 3.8,
            "count": 0
           },
           {
            "bin_end": 4,
            "bin_start": 3.9,
            "count": 1
           }
          ],
          "max": "4",
          "min": "3",
          "nan_count": 0,
          "unique_count": 2
         }
        },
        {
         "dtype": "int64",
         "name": "FromDiversityJobFairID",
         "stats": {
          "histogram": [
           {
            "bin_end": -0.4,
            "bin_start": -0.5,
            "count": 0
           },
           {
            "bin_end": -0.3,
            "bin_start": -0.4,
            "count": 0
           },
           {
            "bin_end": -0.19999999999999996,
            "bin_start": -0.3,
            "count": 0
           },
           {
            "bin_end": -0.09999999999999998,
            "bin_start": -0.19999999999999996,
            "count": 0
           },
           {
            "bin_end": 0,
            "bin_start": -0.09999999999999998,
            "count": 0
           },
           {
            "bin_end": 0.10000000000000009,
            "bin_start": 0,
            "count": 5
           },
           {
            "bin_end": 0.20000000000000007,
            "bin_start": 0.10000000000000009,
            "count": 0
           },
           {
            "bin_end": 0.30000000000000004,
            "bin_start": 0.20000000000000007,
            "count": 0
           },
           {
            "bin_end": 0.4,
            "bin_start": 0.30000000000000004,
            "count": 0
           },
           {
            "bin_end": 0.5,
            "bin_start": 0.4,
            "count": 0
           }
          ],
          "max": "0",
          "min": "0",
          "nan_count": 0,
          "unique_count": 1
         }
        },
        {
         "dtype": "int64",
         "name": "Salary",
         "stats": {
          "histogram": [
           {
            "bin_end": 56186.2,
            "bin_start": 50825,
            "count": 1
           },
           {
            "bin_end": 61547.4,
            "bin_start": 56186.2,
            "count": 0
           },
           {
            "bin_end": 66908.6,
            "bin_start": 61547.4,
            "count": 3
           },
           {
            "bin_end": 72269.8,
            "bin_start": 66908.6,
            "count": 0
           },
           {
            "bin_end": 77631,
            "bin_start": 72269.8,
            "count": 0
           },
           {
            "bin_end": 82992.2,
            "bin_start": 77631,
            "count": 0
           },
           {
            "bin_end": 88353.4,
            "bin_start": 82992.2,
            "count": 0
           },
           {
            "bin_end": 93714.6,
            "bin_start": 88353.4,
            "count": 0
           },
           {
            "bin_end": 99075.79999999999,
            "bin_start": 93714.6,
            "count": 0
           },
           {
            "bin_end": 104437,
            "bin_start": 99075.79999999999,
            "count": 1
           }
          ],
          "max": "104437",
          "min": "50825",
          "nan_count": 0,
          "unique_count": 5
         }
        },
        {
         "dtype": "int64",
         "name": "Termd",
         "stats": {
          "histogram": [
           {
            "bin_end": 0.1,
            "bin_start": 0,
            "count": 2
           },
           {
            "bin_end": 0.2,
            "bin_start": 0.1,
            "count": 0
           },
           {
            "bin_end": 0.30000000000000004,
            "bin_start": 0.2,
            "count": 0
           },
           {
            "bin_end": 0.4,
            "bin_start": 0.30000000000000004,
            "count": 0
           },
           {
            "bin_end": 0.5,
            "bin_start": 0.4,
            "count": 0
           },
           {
            "bin_end": 0.6000000000000001,
            "bin_start": 0.5,
            "count": 0
           },
           {
            "bin_end": 0.7000000000000001,
            "bin_start": 0.6000000000000001,
            "count": 0
           },
           {
            "bin_end": 0.8,
            "bin_start": 0.7000000000000001,
            "count": 0
           },
           {
            "bin_end": 0.9,
            "bin_start": 0.8,
            "count": 0
           },
           {
            "bin_end": 1,
            "bin_start": 0.9,
            "count": 3
           }
          ],
          "max": "1",
          "min": "0",
          "nan_count": 0,
          "unique_count": 2
         }
        },
        {
         "dtype": "int64",
         "name": "PositionID",
         "stats": {
          "histogram": [
           {
            "bin_end": 19.8,
            "bin_start": 19,
            "count": 3
           },
           {
            "bin_end": 20.6,
            "bin_start": 19.8,
            "count": 1
           },
           {
            "bin_end": 21.4,
            "bin_start": 20.6,
            "count": 0
           },
           {
            "bin_end": 22.2,
            "bin_start": 21.4,
            "count": 0
           },
           {
            "bin_end": 23,
            "bin_start": 22.2,
            "count": 0
           },
           {
            "bin_end": 23.8,
            "bin_start": 23,
            "count": 0
           },
           {
            "bin_end": 24.6,
            "bin_start": 23.8,
            "count": 0
           },
           {
            "bin_end": 25.4,
            "bin_start": 24.6,
            "count": 0
           },
           {
            "bin_end": 26.2,
            "bin_start": 25.4,
            "count": 0
           },
           {
            "bin_end": 27,
            "bin_start": 26.2,
            "count": 1
           }
          ],
          "max": "27",
          "min": "19",
          "nan_count": 0,
          "unique_count": 3
         }
        },
        {
         "dtype": "int64",
         "name": "Position",
         "stats": {
          "histogram": [
           {
            "bin_end": 22.8,
            "bin_start": 22,
            "count": 3
           },
           {
            "bin_end": 23.6,
            "bin_start": 22.8,
            "count": 1
           },
           {
            "bin_end": 24.4,
            "bin_start": 23.6,
            "count": 0
           },
           {
            "bin_end": 25.2,
            "bin_start": 24.4,
            "count": 0
           },
           {
            "bin_end": 26,
            "bin_start": 25.2,
            "count": 0
           },
           {
            "bin_end": 26.8,
            "bin_start": 26,
            "count": 0
           },
           {
            "bin_end": 27.6,
            "bin_start": 26.8,
            "count": 0
           },
           {
            "bin_end": 28.4,
            "bin_start": 27.6,
            "count": 0
           },
           {
            "bin_end": 29.2,
            "bin_start": 28.4,
            "count": 0
           },
           {
            "bin_end": 30,
            "bin_start": 29.2,
            "count": 1
           }
          ],
          "max": "30",
          "min": "22",
          "nan_count": 0,
          "unique_count": 3
         }
        },
        {
         "dtype": "int64",
         "name": "State",
         "stats": {
          "histogram": [
           {
            "bin_end": 9.6,
            "bin_start": 9.5,
            "count": 0
           },
           {
            "bin_end": 9.7,
            "bin_start": 9.6,
            "count": 0
           },
           {
            "bin_end": 9.8,
            "bin_start": 9.7,
            "count": 0
           },
           {
            "bin_end": 9.9,
            "bin_start": 9.8,
            "count": 0
           },
           {
            "bin_end": 10,
            "bin_start": 9.9,
            "count": 0
           },
           {
            "bin_end": 10.1,
            "bin_start": 10,
            "count": 5
           },
           {
            "bin_end": 10.2,
            "bin_start": 10.1,
            "count": 0
           },
           {
            "bin_end": 10.3,
            "bin_start": 10.2,
            "count": 0
           },
           {
            "bin_end": 10.4,
            "bin_start": 10.3,
            "count": 0
           },
           {
            "bin_end": 10.5,
            "bin_start": 10.4,
            "count": 0
           }
          ],
          "max": "10",
          "min": "10",
          "nan_count": 0,
          "unique_count": 1
         }
        },
        {
         "dtype": "int64",
         "name": "Zip",
         "stats": {
          "histogram": [
           {
            "bin_end": 1845.9,
            "bin_start": 1810,
            "count": 1
           },
           {
            "bin_end": 1881.8,
            "bin_start": 1845.9,
            "count": 0
           },
           {
            "bin_end": 1917.7,
            "bin_start": 1881.8,
            "count": 1
           },
           {
            "bin_end": 1953.6,
            "bin_start": 1917.7,
            "count": 0
           },
           {
            "bin_end": 1989.5,
            "bin_start": 1953.6,
            "count": 1
           },
           {
            "bin_end": 2025.4,
            "bin_start": 1989.5,
            "count": 0
           },
           {
            "bin_end": 2061.3,
            "bin_start": 2025.4,
            "count": 0
           },
           {
            "bin_end": 2097.2,
            "bin_start": 2061.3,
            "count": 0
           },
           {
            "bin_end": 2133.1,
            "bin_start": 2097.2,
            "count": 0
           },
           {
            "bin_end": 2169,
            "bin_start": 2133.1,
            "count": 2
           }
          ],
          "max": "2169",
          "min": "1810",
          "nan_count": 0,
          "unique_count": 5
         }
        },
        {
         "dtype": "int64",
         "name": "DOB",
         "stats": {
          "histogram": [
           {
            "bin_end": 107.9,
            "bin_start": 94,
            "count": 1
           },
           {
            "bin_end": 121.8,
            "bin_start": 107.9,
            "count": 0
           },
           {
            "bin_end": 135.7,
            "bin_start": 121.8,
            "count": 0
           },
           {
            "bin_end": 149.6,
            "bin_start": 135.7,
            "count": 0
           },
           {
            "bin_end": 163.5,
            "bin_start": 149.6,
            "count": 1
           },
           {
            "bin_end": 177.4,
            "bin_start": 163.5,
            "count": 0
           },
           {
            "bin_end": 191.3,
            "bin_start": 177.4,
            "count": 0
           },
           {
            "bin_end": 205.2,
            "bin_start": 191.3,
            "count": 0
           },
           {
            "bin_end": 219.10000000000002,
            "bin_start": 205.2,
            "count": 1
           },
           {
            "bin_end": 233,
            "bin_start": 219.10000000000002,
            "count": 2
           }
          ],
          "max": "233",
          "min": "94",
          "nan_count": 0,
          "unique_count": 5
         }
        },
        {
         "dtype": "int64",
         "name": "Sex",
         "stats": {
          "histogram": [
           {
            "bin_end": 0.1,
            "bin_start": 0,
            "count": 3
           },
           {
            "bin_end": 0.2,
            "bin_start": 0.1,
            "count": 0
           },
           {
            "bin_end": 0.30000000000000004,
            "bin_start": 0.2,
            "count": 0
           },
           {
            "bin_end": 0.4,
            "bin_start": 0.30000000000000004,
            "count": 0
           },
           {
            "bin_end": 0.5,
            "bin_start": 0.4,
            "count": 0
           },
           {
            "bin_end": 0.6000000000000001,
            "bin_start": 0.5,
            "count": 0
           },
           {
            "bin_end": 0.7000000000000001,
            "bin_start": 0.6000000000000001,
            "count": 0
           },
           {
            "bin_end": 0.8,
            "bin_start": 0.7000000000000001,
            "count": 0
           },
           {
            "bin_end": 0.9,
            "bin_start": 0.8,
            "count": 0
           },
           {
            "bin_end": 1,
            "bin_start": 0.9,
            "count": 2
           }
          ],
          "max": "1",
          "min": "0",
          "nan_count": 0,
          "unique_count": 2
         }
        },
        {
         "dtype": "int64",
         "name": "MaritalDesc",
         "stats": {
          "histogram": [
           {
            "bin_end": 0.3,
            "bin_start": 0,
            "count": 1
           },
           {
            "bin_end": 0.6,
            "bin_start": 0.3,
            "count": 0
           },
           {
            "bin_end": 0.8999999999999999,
            "bin_start": 0.6,
            "count": 0
           },
           {
            "bin_end": 1.2,
            "bin_start": 0.8999999999999999,
            "count": 3
           },
           {
            "bin_end": 1.5,
            "bin_start": 1.2,
            "count": 0
           },
           {
            "bin_end": 1.7999999999999998,
            "bin_start": 1.5,
            "count": 0
           },
           {
            "bin_end": 2.1,
            "bin_start": 1.7999999999999998,
            "count": 0
           },
           {
            "bin_end": 2.4,
            "bin_start": 2.1,
            "count": 0
           },
           {
            "bin_end": 2.6999999999999997,
            "bin_start": 2.4,
            "count": 0
           },
           {
            "bin_end": 3,
            "bin_start": 2.6999999999999997,
            "count": 1
           }
          ],
          "max": "3",
          "min": "0",
          "nan_count": 0,
          "unique_count": 3
         }
        },
        {
         "dtype": "int64",
         "name": "CitizenDesc",
         "stats": {
          "histogram": [
           {
            "bin_end": 1.6,
            "bin_start": 1.5,
            "count": 0
           },
           {
            "bin_end": 1.7,
            "bin_start": 1.6,
            "count": 0
           },
           {
            "bin_end": 1.8,
            "bin_start": 1.7,
            "count": 0
           },
           {
            "bin_end": 1.9,
            "bin_start": 1.8,
            "count": 0
           },
           {
            "bin_end": 2,
            "bin_start": 1.9,
            "count": 0
           },
           {
            "bin_end": 2.1,
            "bin_start": 2,
            "count": 5
           },
           {
            "bin_end": 2.2,
            "bin_start": 2.1,
            "count": 0
           },
           {
            "bin_end": 2.3,
            "bin_start": 2.2,
            "count": 0
           },
           {
            "bin_end": 2.4,
            "bin_start": 2.3,
            "count": 0
           },
           {
            "bin_end": 2.5,
            "bin_start": 2.4,
            "count": 0
           }
          ],
          "max": "2",
          "min": "2",
          "nan_count": 0,
          "unique_count": 1
         }
        },
        {
         "dtype": "int64",
         "name": "HispanicLatino",
         "stats": {
          "histogram": [
           {
            "bin_end": -0.4,
            "bin_start": -0.5,
            "count": 0
           },
           {
            "bin_end": -0.3,
            "bin_start": -0.4,
            "count": 0
           },
           {
            "bin_end": -0.19999999999999996,
            "bin_start": -0.3,
            "count": 0
           },
           {
            "bin_end": -0.09999999999999998,
            "bin_start": -0.19999999999999996,
            "count": 0
           },
           {
            "bin_end": 0,
            "bin_start": -0.09999999999999998,
            "count": 0
           },
           {
            "bin_end": 0.10000000000000009,
            "bin_start": 0,
            "count": 5
           },
           {
            "bin_end": 0.20000000000000007,
            "bin_start": 0.10000000000000009,
            "count": 0
           },
           {
            "bin_end": 0.30000000000000004,
            "bin_start": 0.20000000000000007,
            "count": 0
           },
           {
            "bin_end": 0.4,
            "bin_start": 0.30000000000000004,
            "count": 0
           },
           {
            "bin_end": 0.5,
            "bin_start": 0.4,
            "count": 0
           }
          ],
          "max": "0",
          "min": "0",
          "nan_count": 0,
          "unique_count": 1
         }
        },
        {
         "dtype": "int64",
         "name": "RaceDesc",
         "stats": {
          "histogram": [
           {
            "bin_end": 4.6,
            "bin_start": 4.5,
            "count": 0
           },
           {
            "bin_end": 4.7,
            "bin_start": 4.6,
            "count": 0
           },
           {
            "bin_end": 4.8,
            "bin_start": 4.7,
            "count": 0
           },
           {
            "bin_end": 4.9,
            "bin_start": 4.8,
            "count": 0
           },
           {
            "bin_end": 5,
            "bin_start": 4.9,
            "count": 0
           },
           {
            "bin_end": 5.1,
            "bin_start": 5,
            "count": 5
           },
           {
            "bin_end": 5.2,
            "bin_start": 5.1,
            "count": 0
           },
           {
            "bin_end": 5.3,
            "bin_start": 5.2,
            "count": 0
           },
           {
            "bin_end": 5.4,
            "bin_start": 5.3,
            "count": 0
           },
           {
            "bin_end": 5.5,
            "bin_start": 5.4,
            "count": 0
           }
          ],
          "max": "5",
          "min": "5",
          "nan_count": 0,
          "unique_count": 1
         }
        },
        {
         "dtype": "datetime64[ns]",
         "name": "DateofHire",
         "stats": {
          "histogram": [
           {
            "bin_end": 1222464960000000000,
            "bin_start": 1199664000000000000,
            "count": 1
           },
           {
            "bin_end": 1245265920000000000,
            "bin_start": 1222464960000000000,
            "count": 0
           },
           {
            "bin_end": 1268066880000000000,
            "bin_start": 1245265920000000000,
            "count": 0
           },
           {
            "bin_end": 1290867840000000000,
            "bin_start": 1268066880000000000,
            "count": 0
           },
           {
            "bin_end": 1313668800000000000,
            "bin_start": 1290867840000000000,
            "count": 3
           },
           {
            "bin_end": 1336469760000000000,
            "bin_start": 1313668800000000000,
            "count": 0
           },
           {
            "bin_end": 1359270720000000000,
            "bin_start": 1336469760000000000,
            "count": 0
           },
           {
            "bin_end": 1382071680000000000,
            "bin_start": 1359270720000000000,
            "count": 0
           },
           {
            "bin_end": 1404872640000000000,
            "bin_start": 1382071680000000000,
            "count": 0
           },
           {
            "bin_end": 1427673600000000000,
            "bin_start": 1404872640000000000,
            "count": 1
           }
          ],
          "max": "2015-03-30 00:00:00",
          "min": "2008-01-07 00:00:00",
          "nan_count": 0,
          "unique_count": 4
         }
        },
        {
         "dtype": "datetime64[ns]",
         "name": "DateofTermination",
         "stats": {
          "histogram": [
           {
            "bin_end": 1360912320000000000,
            "bin_start": 1348444800000000000,
            "count": 1
           },
           {
            "bin_end": 1373379840000000000,
            "bin_start": 1360912320000000000,
            "count": 0
           },
           {
            "bin_end": 1385847360000000000,
            "bin_start": 1373379840000000000,
            "count": 0
           },
           {
            "bin_end": 1398314880000000000,
            "bin_start": 1385847360000000000,
            "count": 0
           },
           {
            "bin_end": 1410782400000000000,
            "bin_start": 1398314880000000000,
            "count": 0
           },
           {
            "bin_end": 1423249920000000000,
            "bin_start": 1410782400000000000,
            "count": 0
           },
           {
            "bin_end": 1435717440000000000,
            "bin_start": 1423249920000000000,
            "count": 0
           },
           {
            "bin_end": 1448184960000000000,
            "bin_start": 1435717440000000000,
            "count": 0
           },
           {
            "bin_end": 1460652480000000000,
            "bin_start": 1448184960000000000,
            "count": 0
           },
           {
            "bin_end": 1473120000000000000,
            "bin_start": 1460652480000000000,
            "count": 2
           }
          ],
          "max": "2016-09-06 00:00:00",
          "min": "2012-09-24 00:00:00",
          "nan_count": 2,
          "unique_count": 3
         }
        },
        {
         "dtype": "int64",
         "name": "TermReason",
         "stats": {
          "histogram": [
           {
            "bin_end": 4.3,
            "bin_start": 3,
            "count": 2
           },
           {
            "bin_end": 5.6,
            "bin_start": 4.3,
            "count": 1
           },
           {
            "bin_end": 6.9,
            "bin_start": 5.6,
            "count": 0
           },
           {
            "bin_end": 8.2,
            "bin_start": 6.9,
            "count": 1
           },
           {
            "bin_end": 9.5,
            "bin_start": 8.2,
            "count": 0
           },
           {
            "bin_end": 10.8,
            "bin_start": 9.5,
            "count": 0
           },
           {
            "bin_end": 12.1,
            "bin_start": 10.8,
            "count": 0
           },
           {
            "bin_end": 13.4,
            "bin_start": 12.1,
            "count": 0
           },
           {
            "bin_end": 14.700000000000001,
            "bin_start": 13.4,
            "count": 0
           },
           {
            "bin_end": 16,
            "bin_start": 14.700000000000001,
            "count": 1
           }
          ],
          "max": "16",
          "min": "3",
          "nan_count": 0,
          "unique_count": 4
         }
        },
        {
         "dtype": "int64",
         "name": "EmploymentStatus",
         "stats": {
          "histogram": [
           {
            "bin_end": 0.2,
            "bin_start": 0,
            "count": 2
           },
           {
            "bin_end": 0.4,
            "bin_start": 0.2,
            "count": 0
           },
           {
            "bin_end": 0.6000000000000001,
            "bin_start": 0.4,
            "count": 0
           },
           {
            "bin_end": 0.8,
            "bin_start": 0.6000000000000001,
            "count": 0
           },
           {
            "bin_end": 1,
            "bin_start": 0.8,
            "count": 0
           },
           {
            "bin_end": 1.2000000000000002,
            "bin_start": 1,
            "count": 0
           },
           {
            "bin_end": 1.4000000000000001,
            "bin_start": 1.2000000000000002,
            "count": 0
           },
           {
            "bin_end": 1.6,
            "bin_start": 1.4000000000000001,
            "count": 0
           },
           {
            "bin_end": 1.8,
            "bin_start": 1.6,
            "count": 0
           },
           {
            "bin_end": 2,
            "bin_start": 1.8,
            "count": 3
           }
          ],
          "max": "2",
          "min": "0",
          "nan_count": 0,
          "unique_count": 2
         }
        },
        {
         "dtype": "int64",
         "name": "Department",
         "stats": {
          "histogram": [
           {
            "bin_end": 2.1,
            "bin_start": 2,
            "count": 1
           },
           {
            "bin_end": 2.2,
            "bin_start": 2.1,
            "count": 0
           },
           {
            "bin_end": 2.3,
            "bin_start": 2.2,
            "count": 0
           },
           {
            "bin_end": 2.4,
            "bin_start": 2.3,
            "count": 0
           },
           {
            "bin_end": 2.5,
            "bin_start": 2.4,
            "count": 0
           },
           {
            "bin_end": 2.6,
            "bin_start": 2.5,
            "count": 0
           },
           {
            "bin_end": 2.7,
            "bin_start": 2.6,
            "count": 0
           },
           {
            "bin_end": 2.8,
            "bin_start": 2.7,
            "count": 0
           },
           {
            "bin_end": 2.9,
            "bin_start": 2.8,
            "count": 0
           },
           {
            "bin_end": 3,
            "bin_start": 2.9,
            "count": 4
           }
          ],
          "max": "3",
          "min": "2",
          "nan_count": 0,
          "unique_count": 2
         }
        },
        {
         "dtype": "int64",
         "name": "ManagerName",
         "stats": {
          "histogram": [
           {
            "bin_end": 9.2,
            "bin_start": 8,
            "count": 1
           },
           {
            "bin_end": 10.4,
            "bin_start": 9.2,
            "count": 0
           },
           {
            "bin_end": 11.6,
            "bin_start": 10.4,
            "count": 0
           },
           {
            "bin_end": 12.8,
            "bin_start": 11.6,
            "count": 0
           },
           {
            "bin_end": 14,
            "bin_start": 12.8,
            "count": 0
           },
           {
            "bin_end": 15.2,
            "bin_start": 14,
            "count": 1
           },
           {
            "bin_end": 16.4,
            "bin_start": 15.2,
            "count": 0
           },
           {
            "bin_end": 17.6,
            "bin_start": 16.4,
            "count": 1
           },
           {
            "bin_end": 18.799999999999997,
            "bin_start": 17.6,
            "count": 0
           },
           {
            "bin_end": 20,
            "bin_start": 18.799999999999997,
            "count": 2
           }
          ],
          "max": "20",
          "min": "8",
          "nan_count": 0,
          "unique_count": 5
         }
        },
        {
         "dtype": "float64",
         "name": "ManagerID",
         "stats": {
          "histogram": [
           {
            "bin_end": 7.5,
            "bin_start": 4,
            "count": 1
           },
           {
            "bin_end": 11,
            "bin_start": 7.5,
            "count": 0
           },
           {
            "bin_end": 14.5,
            "bin_start": 11,
            "count": 0
           },
           {
            "bin_end": 18,
            "bin_start": 14.5,
            "count": 1
           },
           {
            "bin_end": 21.5,
            "bin_start": 18,
            "count": 1
           },
           {
            "bin_end": 25,
            "bin_start": 21.5,
            "count": 1
           },
           {
            "bin_end": 28.5,
            "bin_start": 25,
            "count": 0
           },
           {
            "bin_end": 32,
            "bin_start": 28.5,
            "count": 0
           },
           {
            "bin_end": 35.5,
            "bin_start": 32,
            "count": 0
           },
           {
            "bin_end": 39,
            "bin_start": 35.5,
            "count": 1
           }
          ],
          "max": "39.0",
          "min": "4.0",
          "nan_count": 0,
          "unique_count": 5
         }
        },
        {
         "dtype": "int64",
         "name": "RecruitmentSource",
         "stats": {
          "histogram": [
           {
            "bin_end": 3.2,
            "bin_start": 3,
            "count": 1
           },
           {
            "bin_end": 3.4,
            "bin_start": 3.2,
            "count": 0
           },
           {
            "bin_end": 3.6,
            "bin_start": 3.4,
            "count": 0
           },
           {
            "bin_end": 3.8,
            "bin_start": 3.6,
            "count": 0
           },
           {
            "bin_end": 4,
            "bin_start": 3.8,
            "count": 0
           },
           {
            "bin_end": 4.2,
            "bin_start": 4,
            "count": 2
           },
           {
            "bin_end": 4.4,
            "bin_start": 4.2,
            "count": 0
           },
           {
            "bin_end": 4.6,
            "bin_start": 4.4,
            "count": 0
           },
           {
            "bin_end": 4.8,
            "bin_start": 4.6,
            "count": 0
           },
           {
            "bin_end": 5,
            "bin_start": 4.8,
            "count": 2
           }
          ],
          "max": "5",
          "min": "3",
          "nan_count": 0,
          "unique_count": 3
         }
        },
        {
         "dtype": "int64",
         "name": "PerformanceScore",
         "stats": {
          "histogram": [
           {
            "bin_end": 0.1,
            "bin_start": 0,
            "count": 1
           },
           {
            "bin_end": 0.2,
            "bin_start": 0.1,
            "count": 0
           },
           {
            "bin_end": 0.30000000000000004,
            "bin_start": 0.2,
            "count": 0
           },
           {
            "bin_end": 0.4,
            "bin_start": 0.30000000000000004,
            "count": 0
           },
           {
            "bin_end": 0.5,
            "bin_start": 0.4,
            "count": 0
           },
           {
            "bin_end": 0.6000000000000001,
            "bin_start": 0.5,
            "count": 0
           },
           {
            "bin_end": 0.7000000000000001,
            "bin_start": 0.6000000000000001,
            "count": 0
           },
           {
            "bin_end": 0.8,
            "bin_start": 0.7000000000000001,
            "count": 0
           },
           {
            "bin_end": 0.9,
            "bin_start": 0.8,
            "count": 0
           },
           {
            "bin_end": 1,
            "bin_start": 0.9,
            "count": 4
           }
          ],
          "max": "1",
          "min": "0",
          "nan_count": 0,
          "unique_count": 2
         }
        },
        {
         "dtype": "float64",
         "name": "EngagementSurvey",
         "stats": {
          "histogram": [
           {
            "bin_end": 3.218,
            "bin_start": 3.02,
            "count": 1
           },
           {
            "bin_end": 3.416,
            "bin_start": 3.218,
            "count": 0
           },
           {
            "bin_end": 3.614,
            "bin_start": 3.416,
            "count": 0
           },
           {
            "bin_end": 3.8120000000000003,
            "bin_start": 3.614,
            "count": 0
           },
           {
            "bin_end": 4.01,
            "bin_start": 3.8120000000000003,
            "count": 0
           },
           {
            "bin_end": 4.208,
            "bin_start": 4.01,
            "count": 0
           },
           {
            "bin_end": 4.406000000000001,
            "bin_start": 4.208,
            "count": 0
           },
           {
            "bin_end": 4.604,
            "bin_start": 4.406000000000001,
            "count": 1
           },
           {
            "bin_end": 4.802,
            "bin_start": 4.604,
            "count": 0
           },
           {
            "bin_end": 5,
            "bin_start": 4.802,
            "count": 3
           }
          ],
          "max": "5.0",
          "min": "3.02",
          "nan_count": 0,
          "unique_count": 5
         }
        },
        {
         "dtype": "int64",
         "name": "EmpSatisfaction",
         "stats": {
          "histogram": [
           {
            "bin_end": 3.2,
            "bin_start": 3,
            "count": 2
           },
           {
            "bin_end": 3.4,
            "bin_start": 3.2,
            "count": 0
           },
           {
            "bin_end": 3.6,
            "bin_start": 3.4,
            "count": 0
           },
           {
            "bin_end": 3.8,
            "bin_start": 3.6,
            "count": 0
           },
           {
            "bin_end": 4,
            "bin_start": 3.8,
            "count": 0
           },
           {
            "bin_end": 4.2,
            "bin_start": 4,
            "count": 1
           },
           {
            "bin_end": 4.4,
            "bin_start": 4.2,
            "count": 0
           },
           {
            "bin_end": 4.6,
            "bin_start": 4.4,
            "count": 0
           },
           {
            "bin_end": 4.8,
            "bin_start": 4.6,
            "count": 0
           },
           {
            "bin_end": 5,
            "bin_start": 4.8,
            "count": 2
           }
          ],
          "max": "5",
          "min": "3",
          "nan_count": 0,
          "unique_count": 3
         }
        },
        {
         "dtype": "int64",
         "name": "SpecialProjectsCount",
         "stats": {
          "histogram": [
           {
            "bin_end": 0.6,
            "bin_start": 0,
            "count": 4
           },
           {
            "bin_end": 1.2,
            "bin_start": 0.6,
            "count": 0
           },
           {
            "bin_end": 1.7999999999999998,
            "bin_start": 1.2,
            "count": 0
           },
           {
            "bin_end": 2.4,
            "bin_start": 1.7999999999999998,
            "count": 0
           },
           {
            "bin_end": 3,
            "bin_start": 2.4,
            "count": 0
           },
           {
            "bin_end": 3.5999999999999996,
            "bin_start": 3,
            "count": 0
           },
           {
            "bin_end": 4.2,
            "bin_start": 3.5999999999999996,
            "count": 0
           },
           {
            "bin_end": 4.8,
            "bin_start": 4.2,
            "count": 0
           },
           {
            "bin_end": 5.3999999999999995,
            "bin_start": 4.8,
            "count": 0
           },
           {
            "bin_end": 6,
            "bin_start": 5.3999999999999995,
            "count": 1
           }
          ],
          "max": "6",
          "min": "0",
          "nan_count": 0,
          "unique_count": 2
         }
        },
        {
         "dtype": "int64",
         "name": "LastPerformanceReview_Date",
         "stats": {
          "histogram": [
           {
            "bin_end": 23.4,
            "bin_start": 13,
            "count": 1
           },
           {
            "bin_end": 33.8,
            "bin_start": 23.4,
            "count": 1
           },
           {
            "bin_end": 44.2,
            "bin_start": 33.8,
            "count": 1
           },
           {
            "bin_end": 54.6,
            "bin_start": 44.2,
            "count": 0
           },
           {
            "bin_end": 65,
            "bin_start": 54.6,
            "count": 0
           },
           {
            "bin_end": 75.4,
            "bin_start": 65,
            "count": 1
           },
           {
            "bin_end": 85.8,
            "bin_start": 75.4,
            "count": 0
           },
           {
            "bin_end": 96.2,
            "bin_start": 85.8,
            "count": 0
           },
           {
            "bin_end": 106.60000000000001,
            "bin_start": 96.2,
            "count": 0
           },
           {
            "bin_end": 117,
            "bin_start": 106.60000000000001,
            "count": 1
           }
          ],
          "max": "117",
          "min": "13",
          "nan_count": 0,
          "unique_count": 5
         }
        },
        {
         "dtype": "int64",
         "name": "DaysLateLast30",
         "stats": {
          "histogram": [
           {
            "bin_end": -0.4,
            "bin_start": -0.5,
            "count": 0
           },
           {
            "bin_end": -0.3,
            "bin_start": -0.4,
            "count": 0
           },
           {
            "bin_end": -0.19999999999999996,
            "bin_start": -0.3,
            "count": 0
           },
           {
            "bin_end": -0.09999999999999998,
            "bin_start": -0.19999999999999996,
            "count": 0
           },
           {
            "bin_end": 0,
            "bin_start": -0.09999999999999998,
            "count": 0
           },
           {
            "bin_end": 0.10000000000000009,
            "bin_start": 0,
            "count": 5
           },
           {
            "bin_end": 0.20000000000000007,
            "bin_start": 0.10000000000000009,
            "count": 0
           },
           {
            "bin_end": 0.30000000000000004,
            "bin_start": 0.20000000000000007,
            "count": 0
           },
           {
            "bin_end": 0.4,
            "bin_start": 0.30000000000000004,
            "count": 0
           },
           {
            "bin_end": 0.5,
            "bin_start": 0.4,
            "count": 0
           }
          ],
          "max": "0",
          "min": "0",
          "nan_count": 0,
          "unique_count": 1
         }
        },
        {
         "dtype": "int64",
         "name": "Absences",
         "stats": {
          "histogram": [
           {
            "bin_end": 2.6,
            "bin_start": 1,
            "count": 2
           },
           {
            "bin_end": 4.2,
            "bin_start": 2.6,
            "count": 1
           },
           {
            "bin_end": 5.800000000000001,
            "bin_start": 4.2,
            "count": 0
           },
           {
            "bin_end": 7.4,
            "bin_start": 5.800000000000001,
            "count": 0
           },
           {
            "bin_end": 9,
            "bin_start": 7.4,
            "count": 0
           },
           {
            "bin_end": 10.600000000000001,
            "bin_start": 9,
            "count": 0
           },
           {
            "bin_end": 12.200000000000001,
            "bin_start": 10.600000000000001,
            "count": 0
           },
           {
            "bin_end": 13.8,
            "bin_start": 12.200000000000001,
            "count": 0
           },
           {
            "bin_end": 15.4,
            "bin_start": 13.8,
            "count": 1
           },
           {
            "bin_end": 17,
            "bin_start": 15.4,
            "count": 1
           }
          ],
          "max": "17",
          "min": "1",
          "nan_count": 0,
          "unique_count": 5
         }
        },
        {
         "dtype": "int64",
         "name": "_deepnote_index_column"
        }
       ],
       "row_count": 5,
       "rows": [
        {
         "Absences": "1",
         "CitizenDesc": "2",
         "DOB": "158",
         "DateofHire": "2011-07-05 00:00:00",
         "DateofTermination": "NaT",
         "DaysLateLast30": "0",
         "Department": "3",
         "DeptID": "5",
         "EmpID": "10026",
         "EmpSatisfaction": "5",
         "EmpStatusID": "1",
         "Employee_Name": "0",
         "EmploymentStatus": "0",
         "EngagementSurvey": "4.6",
         "FromDiversityJobFairID": "0",
         "GenderID": "1",
         "HispanicLatino": "0",
         "LastPerformanceReview_Date": "13",
         "ManagerID": "22.0",
         "ManagerName": "17",
         "MaritalDesc": "3",
         "MarriedID": "0",
         "PerfScoreID": "4",
         "PerformanceScore": "0",
         "Position": "22",
         "PositionID": "19",
         "RaceDesc": "5",
         "RecruitmentSource": "5",
         "Salary": "62506",
         "Sex": "1",
         "SpecialProjectsCount": "0",
         "State": "10",
         "TermReason": "3",
         "Termd": "0",
         "Zip": "1960",
         "_deepnote_index_column": "0"
        },
        {
         "Absences": "17",
         "CitizenDesc": "2",
         "DOB": "94",
         "DateofHire": "2015-03-30 00:00:00",
         "DateofTermination": "2016-06-16 00:00:00",
         "DaysLateLast30": "0",
         "Department": "2",
         "DeptID": "3",
         "EmpID": "10084",
         "EmpSatisfaction": "3",
         "EmpStatusID": "5",
         "Employee_Name": "1",
         "EmploymentStatus": "2",
         "EngagementSurvey": "4.96",
         "FromDiversityJobFairID": "0",
         "GenderID": "1",
         "HispanicLatino": "0",
         "LastPerformanceReview_Date": "65",
         "ManagerID": "4.0",
         "ManagerName": "19",
         "MaritalDesc": "1",
         "MarriedID": "1",
         "PerfScoreID": "3",
         "PerformanceScore": "1",
         "Position": "30",
         "PositionID": "27",
         "RaceDesc": "5",
         "RecruitmentSource": "4",
         "Salary": "104437",
         "Sex": "1",
         "SpecialProjectsCount": "6",
         "State": "10",
         "TermReason": "5",
         "Termd": "1",
         "Zip": "2148",
         "_deepnote_index_column": "1"
        },
        {
         "Absences": "3",
         "CitizenDesc": "2",
         "DOB": "224",
         "DateofHire": "2011-07-05 00:00:00",
         "DateofTermination": "2012-09-24 00:00:00",
         "DaysLateLast30": "0",
         "Department": "3",
         "DeptID": "5",
         "EmpID": "10196",
         "EmpSatisfaction": "3",
         "EmpStatusID": "5",
         "Employee_Name": "2",
         "EmploymentStatus": "2",
         "EngagementSurvey": "3.02",
         "FromDiversityJobFairID": "0",
         "GenderID": "0",
         "HispanicLatino": "0",
         "LastPerformanceReview_Date": "117",
         "ManagerID": "20.0",
         "ManagerName": "15",
         "MaritalDesc": "1",
         "MarriedID": "1",
         "PerfScoreID": "3",
         "PerformanceScore": "1",
         "Position": "23",
         "PositionID": "20",
         "RaceDesc": "5",
         "RecruitmentSource": "5",
         "Salary": "64955",
         "Sex": "0",
         "SpecialProjectsCount": "0",
         "State": "10",
         "TermReason": "7",
         "Termd": "1",
         "Zip": "1810",
         "_deepnote_index_column": "2"
        },
        {
         "Absences": "15",
         "CitizenDesc": "2",
         "DOB": "233",
         "DateofHire": "2008-01-07 00:00:00",
         "DateofTermination": "NaT",
         "DaysLateLast30": "0",
         "Department": "3",
         "DeptID": "5",
         "EmpID": "10088",
         "EmpSatisfaction": "5",
         "EmpStatusID": "1",
         "Employee_Name": "3",
         "EmploymentStatus": "0",
         "EngagementSurvey": "4.84",
         "FromDiversityJobFairID": "0",
         "GenderID": "0",
         "HispanicLatino": "0",
         "LastPerformanceReview_Date": "28",
         "ManagerID": "16.0",
         "ManagerName": "8",
         "MaritalDesc": "1",
         "MarriedID": "1",
         "PerfScoreID": "3",
         "PerformanceScore": "1",
         "Position": "22",
         "PositionID": "19",
         "RaceDesc": "5",
         "RecruitmentSource": "4",
         "Salary": "64991",
         "Sex": "0",
         "SpecialProjectsCount": "0",
         "State": "10",
         "TermReason": "3",
         "Termd": "0",
         "Zip": "1886",
         "_deepnote_index_column": "3"
        },
        {
         "Absences": "2",
         "CitizenDesc": "2",
         "DOB": "215",
         "DateofHire": "2011-07-11 00:00:00",
         "DateofTermination": "2016-09-06 00:00:00",
         "DaysLateLast30": "0",
         "Department": "3",
         "DeptID": "5",
         "EmpID": "10069",
         "EmpSatisfaction": "4",
         "EmpStatusID": "5",
         "Employee_Name": "4",
         "EmploymentStatus": "2",
         "EngagementSurvey": "5.0",
         "FromDiversityJobFairID": "0",
         "GenderID": "0",
         "HispanicLatino": "0",
         "LastPerformanceReview_Date": "43",
         "ManagerID": "39.0",
         "ManagerName": "20",
         "MaritalDesc": "0",
         "MarriedID": "0",
         "PerfScoreID": "3",
         "PerformanceScore": "1",
         "Position": "22",
         "PositionID": "19",
         "RaceDesc": "5",
         "RecruitmentSource": "3",
         "Salary": "50825",
         "Sex": "0",
         "SpecialProjectsCount": "0",
         "State": "10",
         "TermReason": "16",
         "Termd": "1",
         "Zip": "2169",
         "_deepnote_index_column": "4"
        }
       ]
      },
      "text/html": [
       "<div>\n",
       "<style scoped>\n",
       "    .dataframe tbody tr th:only-of-type {\n",
       "        vertical-align: middle;\n",
       "    }\n",
       "\n",
       "    .dataframe tbody tr th {\n",
       "        vertical-align: top;\n",
       "    }\n",
       "\n",
       "    .dataframe thead th {\n",
       "        text-align: right;\n",
       "    }\n",
       "</style>\n",
       "<table border=\"1\" class=\"dataframe\">\n",
       "  <thead>\n",
       "    <tr style=\"text-align: right;\">\n",
       "      <th></th>\n",
       "      <th>Employee_Name</th>\n",
       "      <th>EmpID</th>\n",
       "      <th>MarriedID</th>\n",
       "      <th>GenderID</th>\n",
       "      <th>EmpStatusID</th>\n",
       "      <th>DeptID</th>\n",
       "      <th>PerfScoreID</th>\n",
       "      <th>FromDiversityJobFairID</th>\n",
       "      <th>Salary</th>\n",
       "      <th>Termd</th>\n",
       "      <th>PositionID</th>\n",
       "      <th>Position</th>\n",
       "      <th>State</th>\n",
       "      <th>Zip</th>\n",
       "      <th>DOB</th>\n",
       "      <th>Sex</th>\n",
       "      <th>MaritalDesc</th>\n",
       "      <th>CitizenDesc</th>\n",
       "      <th>HispanicLatino</th>\n",
       "      <th>RaceDesc</th>\n",
       "      <th>DateofHire</th>\n",
       "      <th>DateofTermination</th>\n",
       "      <th>TermReason</th>\n",
       "      <th>EmploymentStatus</th>\n",
       "      <th>Department</th>\n",
       "      <th>ManagerName</th>\n",
       "      <th>ManagerID</th>\n",
       "      <th>RecruitmentSource</th>\n",
       "      <th>PerformanceScore</th>\n",
       "      <th>EngagementSurvey</th>\n",
       "      <th>EmpSatisfaction</th>\n",
       "      <th>SpecialProjectsCount</th>\n",
       "      <th>LastPerformanceReview_Date</th>\n",
       "      <th>DaysLateLast30</th>\n",
       "      <th>Absences</th>\n",
       "    </tr>\n",
       "  </thead>\n",
       "  <tbody>\n",
       "    <tr>\n",
       "      <th>0</th>\n",
       "      <td>0</td>\n",
       "      <td>10026</td>\n",
       "      <td>0</td>\n",
       "      <td>1</td>\n",
       "      <td>1</td>\n",
       "      <td>5</td>\n",
       "      <td>4</td>\n",
       "      <td>0</td>\n",
       "      <td>62506</td>\n",
       "      <td>0</td>\n",
       "      <td>19</td>\n",
       "      <td>22</td>\n",
       "      <td>10</td>\n",
       "      <td>1960</td>\n",
       "      <td>158</td>\n",
       "      <td>1</td>\n",
       "      <td>3</td>\n",
       "      <td>2</td>\n",
       "      <td>0</td>\n",
       "      <td>5</td>\n",
       "      <td>2011-07-05</td>\n",
       "      <td>NaT</td>\n",
       "      <td>3</td>\n",
       "      <td>0</td>\n",
       "      <td>3</td>\n",
       "      <td>17</td>\n",
       "      <td>22.0</td>\n",
       "      <td>5</td>\n",
       "      <td>0</td>\n",
       "      <td>4.60</td>\n",
       "      <td>5</td>\n",
       "      <td>0</td>\n",
       "      <td>13</td>\n",
       "      <td>0</td>\n",
       "      <td>1</td>\n",
       "    </tr>\n",
       "    <tr>\n",
       "      <th>1</th>\n",
       "      <td>1</td>\n",
       "      <td>10084</td>\n",
       "      <td>1</td>\n",
       "      <td>1</td>\n",
       "      <td>5</td>\n",
       "      <td>3</td>\n",
       "      <td>3</td>\n",
       "      <td>0</td>\n",
       "      <td>104437</td>\n",
       "      <td>1</td>\n",
       "      <td>27</td>\n",
       "      <td>30</td>\n",
       "      <td>10</td>\n",
       "      <td>2148</td>\n",
       "      <td>94</td>\n",
       "      <td>1</td>\n",
       "      <td>1</td>\n",
       "      <td>2</td>\n",
       "      <td>0</td>\n",
       "      <td>5</td>\n",
       "      <td>2015-03-30</td>\n",
       "      <td>2016-06-16</td>\n",
       "      <td>5</td>\n",
       "      <td>2</td>\n",
       "      <td>2</td>\n",
       "      <td>19</td>\n",
       "      <td>4.0</td>\n",
       "      <td>4</td>\n",
       "      <td>1</td>\n",
       "      <td>4.96</td>\n",
       "      <td>3</td>\n",
       "      <td>6</td>\n",
       "      <td>65</td>\n",
       "      <td>0</td>\n",
       "      <td>17</td>\n",
       "    </tr>\n",
       "    <tr>\n",
       "      <th>2</th>\n",
       "      <td>2</td>\n",
       "      <td>10196</td>\n",
       "      <td>1</td>\n",
       "      <td>0</td>\n",
       "      <td>5</td>\n",
       "      <td>5</td>\n",
       "      <td>3</td>\n",
       "      <td>0</td>\n",
       "      <td>64955</td>\n",
       "      <td>1</td>\n",
       "      <td>20</td>\n",
       "      <td>23</td>\n",
       "      <td>10</td>\n",
       "      <td>1810</td>\n",
       "      <td>224</td>\n",
       "      <td>0</td>\n",
       "      <td>1</td>\n",
       "      <td>2</td>\n",
       "      <td>0</td>\n",
       "      <td>5</td>\n",
       "      <td>2011-07-05</td>\n",
       "      <td>2012-09-24</td>\n",
       "      <td>7</td>\n",
       "      <td>2</td>\n",
       "      <td>3</td>\n",
       "      <td>15</td>\n",
       "      <td>20.0</td>\n",
       "      <td>5</td>\n",
       "      <td>1</td>\n",
       "      <td>3.02</td>\n",
       "      <td>3</td>\n",
       "      <td>0</td>\n",
       "      <td>117</td>\n",
       "      <td>0</td>\n",
       "      <td>3</td>\n",
       "    </tr>\n",
       "    <tr>\n",
       "      <th>3</th>\n",
       "      <td>3</td>\n",
       "      <td>10088</td>\n",
       "      <td>1</td>\n",
       "      <td>0</td>\n",
       "      <td>1</td>\n",
       "      <td>5</td>\n",
       "      <td>3</td>\n",
       "      <td>0</td>\n",
       "      <td>64991</td>\n",
       "      <td>0</td>\n",
       "      <td>19</td>\n",
       "      <td>22</td>\n",
       "      <td>10</td>\n",
       "      <td>1886</td>\n",
       "      <td>233</td>\n",
       "      <td>0</td>\n",
       "      <td>1</td>\n",
       "      <td>2</td>\n",
       "      <td>0</td>\n",
       "      <td>5</td>\n",
       "      <td>2008-01-07</td>\n",
       "      <td>NaT</td>\n",
       "      <td>3</td>\n",
       "      <td>0</td>\n",
       "      <td>3</td>\n",
       "      <td>8</td>\n",
       "      <td>16.0</td>\n",
       "      <td>4</td>\n",
       "      <td>1</td>\n",
       "      <td>4.84</td>\n",
       "      <td>5</td>\n",
       "      <td>0</td>\n",
       "      <td>28</td>\n",
       "      <td>0</td>\n",
       "      <td>15</td>\n",
       "    </tr>\n",
       "    <tr>\n",
       "      <th>4</th>\n",
       "      <td>4</td>\n",
       "      <td>10069</td>\n",
       "      <td>0</td>\n",
       "      <td>0</td>\n",
       "      <td>5</td>\n",
       "      <td>5</td>\n",
       "      <td>3</td>\n",
       "      <td>0</td>\n",
       "      <td>50825</td>\n",
       "      <td>1</td>\n",
       "      <td>19</td>\n",
       "      <td>22</td>\n",
       "      <td>10</td>\n",
       "      <td>2169</td>\n",
       "      <td>215</td>\n",
       "      <td>0</td>\n",
       "      <td>0</td>\n",
       "      <td>2</td>\n",
       "      <td>0</td>\n",
       "      <td>5</td>\n",
       "      <td>2011-07-11</td>\n",
       "      <td>2016-09-06</td>\n",
       "      <td>16</td>\n",
       "      <td>2</td>\n",
       "      <td>3</td>\n",
       "      <td>20</td>\n",
       "      <td>39.0</td>\n",
       "      <td>3</td>\n",
       "      <td>1</td>\n",
       "      <td>5.00</td>\n",
       "      <td>4</td>\n",
       "      <td>0</td>\n",
       "      <td>43</td>\n",
       "      <td>0</td>\n",
       "      <td>2</td>\n",
       "    </tr>\n",
       "  </tbody>\n",
       "</table>\n",
       "</div>"
      ],
      "text/plain": [
       "   Employee_Name  EmpID  MarriedID  GenderID  EmpStatusID  DeptID  \\\n",
       "0              0  10026          0         1            1       5   \n",
       "1              1  10084          1         1            5       3   \n",
       "2              2  10196          1         0            5       5   \n",
       "3              3  10088          1         0            1       5   \n",
       "4              4  10069          0         0            5       5   \n",
       "\n",
       "   PerfScoreID  FromDiversityJobFairID  Salary  Termd  PositionID  Position  \\\n",
       "0            4                       0   62506      0          19        22   \n",
       "1            3                       0  104437      1          27        30   \n",
       "2            3                       0   64955      1          20        23   \n",
       "3            3                       0   64991      0          19        22   \n",
       "4            3                       0   50825      1          19        22   \n",
       "\n",
       "   State   Zip  DOB  Sex  MaritalDesc  CitizenDesc  HispanicLatino  RaceDesc  \\\n",
       "0     10  1960  158    1            3            2               0         5   \n",
       "1     10  2148   94    1            1            2               0         5   \n",
       "2     10  1810  224    0            1            2               0         5   \n",
       "3     10  1886  233    0            1            2               0         5   \n",
       "4     10  2169  215    0            0            2               0         5   \n",
       "\n",
       "  DateofHire DateofTermination  TermReason  EmploymentStatus  Department  \\\n",
       "0 2011-07-05               NaT           3                 0           3   \n",
       "1 2015-03-30        2016-06-16           5                 2           2   \n",
       "2 2011-07-05        2012-09-24           7                 2           3   \n",
       "3 2008-01-07               NaT           3                 0           3   \n",
       "4 2011-07-11        2016-09-06          16                 2           3   \n",
       "\n",
       "   ManagerName  ManagerID  RecruitmentSource  PerformanceScore  \\\n",
       "0           17       22.0                  5                 0   \n",
       "1           19        4.0                  4                 1   \n",
       "2           15       20.0                  5                 1   \n",
       "3            8       16.0                  4                 1   \n",
       "4           20       39.0                  3                 1   \n",
       "\n",
       "   EngagementSurvey  EmpSatisfaction  SpecialProjectsCount  \\\n",
       "0              4.60                5                     0   \n",
       "1              4.96                3                     6   \n",
       "2              3.02                3                     0   \n",
       "3              4.84                5                     0   \n",
       "4              5.00                4                     0   \n",
       "\n",
       "   LastPerformanceReview_Date  DaysLateLast30  Absences  \n",
       "0                          13               0         1  \n",
       "1                          65               0        17  \n",
       "2                         117               0         3  \n",
       "3                          28               0        15  \n",
       "4                          43               0         2  "
      ]
     },
     "execution_count": 42,
     "metadata": {},
     "output_type": "execute_result"
    }
   ],
   "source": [
    "hr_data_copy.head()"
   ]
  },
  {
   "cell_type": "code",
   "execution_count": 43,
   "metadata": {
    "cell_id": "fdaf80bab11841f590e0acdab84bd8ec",
    "deepnote_cell_type": "code",
    "deepnote_to_be_reexecuted": false,
    "execution_millis": 0,
    "execution_start": 1663334034009,
    "source_hash": "cdc5c12e",
    "tags": []
   },
   "outputs": [],
   "source": [
    "x = hr_data_copy[['Sex','Position','MaritalDesc','RaceDesc','Absences','DaysLateLast30','RecruitmentSource','Salary','PerformanceScore','EmploymentStatus']]\n",
    "y = hr_data_copy['Termd']"
   ]
  },
  {
   "cell_type": "code",
   "execution_count": 44,
   "metadata": {
    "cell_id": "386865dc6b5e47e5aea68c3bdf184c28",
    "deepnote_cell_type": "code",
    "deepnote_to_be_reexecuted": false,
    "execution_millis": 836,
    "execution_start": 1663334035542,
    "source_hash": "577d5527",
    "tags": []
   },
   "outputs": [
    {
     "data": {
      "application/vnd.deepnote.dataframe.v3+json": {
       "column_count": 10,
       "columns": [
        {
         "dtype": "int64",
         "name": "Sex",
         "stats": {
          "histogram": [
           {
            "bin_end": 0.1,
            "bin_start": 0,
            "count": 176
           },
           {
            "bin_end": 0.2,
            "bin_start": 0.1,
            "count": 0
           },
           {
            "bin_end": 0.30000000000000004,
            "bin_start": 0.2,
            "count": 0
           },
           {
            "bin_end": 0.4,
            "bin_start": 0.30000000000000004,
            "count": 0
           },
           {
            "bin_end": 0.5,
            "bin_start": 0.4,
            "count": 0
           },
           {
            "bin_end": 0.6000000000000001,
            "bin_start": 0.5,
            "count": 0
           },
           {
            "bin_end": 0.7000000000000001,
            "bin_start": 0.6000000000000001,
            "count": 0
           },
           {
            "bin_end": 0.8,
            "bin_start": 0.7000000000000001,
            "count": 0
           },
           {
            "bin_end": 0.9,
            "bin_start": 0.8,
            "count": 0
           },
           {
            "bin_end": 1,
            "bin_start": 0.9,
            "count": 135
           }
          ],
          "max": "1",
          "min": "0",
          "nan_count": 0,
          "unique_count": 2
         }
        },
        {
         "dtype": "int64",
         "name": "Position",
         "stats": {
          "histogram": [
           {
            "bin_end": 3.1,
            "bin_start": 0,
            "count": 37
           },
           {
            "bin_end": 6.2,
            "bin_start": 3.1,
            "count": 9
           },
           {
            "bin_end": 9.3,
            "bin_start": 6.2,
            "count": 7
           },
           {
            "bin_end": 12.4,
            "bin_start": 9.3,
            "count": 3
           },
           {
            "bin_end": 15.5,
            "bin_start": 12.4,
            "count": 4
           },
           {
            "bin_end": 18.6,
            "bin_start": 15.5,
            "count": 14
           },
           {
            "bin_end": 21.7,
            "bin_start": 18.6,
            "count": 16
           },
           {
            "bin_end": 24.8,
            "bin_start": 21.7,
            "count": 197
           },
           {
            "bin_end": 27.900000000000002,
            "bin_start": 24.8,
            "count": 14
           },
           {
            "bin_end": 31,
            "bin_start": 27.900000000000002,
            "count": 10
           }
          ],
          "max": "31",
          "min": "0",
          "nan_count": 0,
          "unique_count": 32
         }
        },
        {
         "dtype": "int64",
         "name": "MaritalDesc",
         "stats": {
          "histogram": [
           {
            "bin_end": 0.4,
            "bin_start": 0,
            "count": 30
           },
           {
            "bin_end": 0.8,
            "bin_start": 0.4,
            "count": 0
           },
           {
            "bin_end": 1.2000000000000002,
            "bin_start": 0.8,
            "count": 124
           },
           {
            "bin_end": 1.6,
            "bin_start": 1.2000000000000002,
            "count": 0
           },
           {
            "bin_end": 2,
            "bin_start": 1.6,
            "count": 0
           },
           {
            "bin_end": 2.4000000000000004,
            "bin_start": 2,
            "count": 12
           },
           {
            "bin_end": 2.8000000000000003,
            "bin_start": 2.4000000000000004,
            "count": 0
           },
           {
            "bin_end": 3.2,
            "bin_start": 2.8000000000000003,
            "count": 137
           },
           {
            "bin_end": 3.6,
            "bin_start": 3.2,
            "count": 0
           },
           {
            "bin_end": 4,
            "bin_start": 3.6,
            "count": 8
           }
          ],
          "max": "4",
          "min": "0",
          "nan_count": 0,
          "unique_count": 5
         }
        },
        {
         "dtype": "int64",
         "name": "RaceDesc",
         "stats": {
          "histogram": [
           {
            "bin_end": 0.5,
            "bin_start": 0,
            "count": 3
           },
           {
            "bin_end": 1,
            "bin_start": 0.5,
            "count": 0
           },
           {
            "bin_end": 1.5,
            "bin_start": 1,
            "count": 29
           },
           {
            "bin_end": 2,
            "bin_start": 1.5,
            "count": 0
           },
           {
            "bin_end": 2.5,
            "bin_start": 2,
            "count": 80
           },
           {
            "bin_end": 3,
            "bin_start": 2.5,
            "count": 0
           },
           {
            "bin_end": 3.5,
            "bin_start": 3,
            "count": 1
           },
           {
            "bin_end": 4,
            "bin_start": 3.5,
            "count": 0
           },
           {
            "bin_end": 4.5,
            "bin_start": 4,
            "count": 11
           },
           {
            "bin_end": 5,
            "bin_start": 4.5,
            "count": 187
           }
          ],
          "max": "5",
          "min": "0",
          "nan_count": 0,
          "unique_count": 6
         }
        },
        {
         "dtype": "int64",
         "name": "Absences",
         "stats": {
          "histogram": [
           {
            "bin_end": 2.9,
            "bin_start": 1,
            "count": 35
           },
           {
            "bin_end": 4.8,
            "bin_start": 2.9,
            "count": 39
           },
           {
            "bin_end": 6.699999999999999,
            "bin_start": 4.8,
            "count": 28
           },
           {
            "bin_end": 8.6,
            "bin_start": 6.699999999999999,
            "count": 32
           },
           {
            "bin_end": 10.5,
            "bin_start": 8.6,
            "count": 24
           },
           {
            "bin_end": 12.399999999999999,
            "bin_start": 10.5,
            "count": 23
           },
           {
            "bin_end": 14.299999999999999,
            "bin_start": 12.399999999999999,
            "count": 34
           },
           {
            "bin_end": 16.2,
            "bin_start": 14.299999999999999,
            "count": 43
           },
           {
            "bin_end": 18.099999999999998,
            "bin_start": 16.2,
            "count": 23
           },
           {
            "bin_end": 20,
            "bin_start": 18.099999999999998,
            "count": 30
           }
          ],
          "max": "20",
          "min": "1",
          "nan_count": 0,
          "unique_count": 20
         }
        },
        {
         "dtype": "int64",
         "name": "DaysLateLast30",
         "stats": {
          "histogram": [
           {
            "bin_end": 0.6,
            "bin_start": 0,
            "count": 278
           },
           {
            "bin_end": 1.2,
            "bin_start": 0.6,
            "count": 1
           },
           {
            "bin_end": 1.7999999999999998,
            "bin_start": 1.2,
            "count": 0
           },
           {
            "bin_end": 2.4,
            "bin_start": 1.7999999999999998,
            "count": 6
           },
           {
            "bin_end": 3,
            "bin_start": 2.4,
            "count": 0
           },
           {
            "bin_end": 3.5999999999999996,
            "bin_start": 3,
            "count": 6
           },
           {
            "bin_end": 4.2,
            "bin_start": 3.5999999999999996,
            "count": 8
           },
           {
            "bin_end": 4.8,
            "bin_start": 4.2,
            "count": 0
           },
           {
            "bin_end": 5.3999999999999995,
            "bin_start": 4.8,
            "count": 6
           },
           {
            "bin_end": 6,
            "bin_start": 5.3999999999999995,
            "count": 6
           }
          ],
          "max": "6",
          "min": "0",
          "nan_count": 0,
          "unique_count": 7
         }
        },
        {
         "dtype": "int64",
         "name": "RecruitmentSource",
         "stats": {
          "histogram": [
           {
            "bin_end": 0.8,
            "bin_start": 0,
            "count": 23
           },
           {
            "bin_end": 1.6,
            "bin_start": 0.8,
            "count": 29
           },
           {
            "bin_end": 2.4000000000000004,
            "bin_start": 1.6,
            "count": 31
           },
           {
            "bin_end": 3.2,
            "bin_start": 2.4000000000000004,
            "count": 49
           },
           {
            "bin_end": 4,
            "bin_start": 3.2,
            "count": 0
           },
           {
            "bin_end": 4.800000000000001,
            "bin_start": 4,
            "count": 87
           },
           {
            "bin_end": 5.6000000000000005,
            "bin_start": 4.800000000000001,
            "count": 76
           },
           {
            "bin_end": 6.4,
            "bin_start": 5.6000000000000005,
            "count": 1
           },
           {
            "bin_end": 7.2,
            "bin_start": 6.4,
            "count": 2
           },
           {
            "bin_end": 8,
            "bin_start": 7.2,
            "count": 13
           }
          ],
          "max": "8",
          "min": "0",
          "nan_count": 0,
          "unique_count": 9
         }
        },
        {
         "dtype": "int64",
         "name": "Salary",
         "stats": {
          "histogram": [
           {
            "bin_end": 65541.4,
            "bin_start": 45046,
            "count": 197
           },
           {
            "bin_end": 86036.8,
            "bin_start": 65541.4,
            "count": 65
           },
           {
            "bin_end": 106532.20000000001,
            "bin_start": 86036.8,
            "count": 32
           },
           {
            "bin_end": 127027.6,
            "bin_start": 106532.20000000001,
            "count": 7
           },
           {
            "bin_end": 147523,
            "bin_start": 127027.6,
            "count": 2
           },
           {
            "bin_end": 168018.40000000002,
            "bin_start": 147523,
            "count": 3
           },
           {
            "bin_end": 188513.80000000002,
            "bin_start": 168018.40000000002,
            "count": 3
           },
           {
            "bin_end": 209009.2,
            "bin_start": 188513.80000000002,
            "count": 0
           },
           {
            "bin_end": 229504.6,
            "bin_start": 209009.2,
            "count": 1
           },
           {
            "bin_end": 250000,
            "bin_start": 229504.6,
            "count": 1
           }
          ],
          "max": "250000",
          "min": "45046",
          "nan_count": 0,
          "unique_count": 308
         }
        },
        {
         "dtype": "int64",
         "name": "PerformanceScore",
         "stats": {
          "histogram": [
           {
            "bin_end": 0.3,
            "bin_start": 0,
            "count": 37
           },
           {
            "bin_end": 0.6,
            "bin_start": 0.3,
            "count": 0
           },
           {
            "bin_end": 0.8999999999999999,
            "bin_start": 0.6,
            "count": 0
           },
           {
            "bin_end": 1.2,
            "bin_start": 0.8999999999999999,
            "count": 243
           },
           {
            "bin_end": 1.5,
            "bin_start": 1.2,
            "count": 0
           },
           {
            "bin_end": 1.7999999999999998,
            "bin_start": 1.5,
            "count": 0
           },
           {
            "bin_end": 2.1,
            "bin_start": 1.7999999999999998,
            "count": 18
           },
           {
            "bin_end": 2.4,
            "bin_start": 2.1,
            "count": 0
           },
           {
            "bin_end": 2.6999999999999997,
            "bin_start": 2.4,
            "count": 0
           },
           {
            "bin_end": 3,
            "bin_start": 2.6999999999999997,
            "count": 13
           }
          ],
          "max": "3",
          "min": "0",
          "nan_count": 0,
          "unique_count": 4
         }
        },
        {
         "dtype": "int64",
         "name": "EmploymentStatus",
         "stats": {
          "histogram": [
           {
            "bin_end": 0.2,
            "bin_start": 0,
            "count": 207
           },
           {
            "bin_end": 0.4,
            "bin_start": 0.2,
            "count": 0
           },
           {
            "bin_end": 0.6000000000000001,
            "bin_start": 0.4,
            "count": 0
           },
           {
            "bin_end": 0.8,
            "bin_start": 0.6000000000000001,
            "count": 0
           },
           {
            "bin_end": 1,
            "bin_start": 0.8,
            "count": 0
           },
           {
            "bin_end": 1.2000000000000002,
            "bin_start": 1,
            "count": 16
           },
           {
            "bin_end": 1.4000000000000001,
            "bin_start": 1.2000000000000002,
            "count": 0
           },
           {
            "bin_end": 1.6,
            "bin_start": 1.4000000000000001,
            "count": 0
           },
           {
            "bin_end": 1.8,
            "bin_start": 1.6,
            "count": 0
           },
           {
            "bin_end": 2,
            "bin_start": 1.8,
            "count": 88
           }
          ],
          "max": "2",
          "min": "0",
          "nan_count": 0,
          "unique_count": 3
         }
        },
        {
         "dtype": "int64",
         "name": "_deepnote_index_column"
        }
       ],
       "row_count": 311,
       "rows": [
        {
         "Absences": "1",
         "DaysLateLast30": "0",
         "EmploymentStatus": "0",
         "MaritalDesc": "3",
         "PerformanceScore": "0",
         "Position": "22",
         "RaceDesc": "5",
         "RecruitmentSource": "5",
         "Salary": "62506",
         "Sex": "1",
         "_deepnote_index_column": "0"
        },
        {
         "Absences": "17",
         "DaysLateLast30": "0",
         "EmploymentStatus": "2",
         "MaritalDesc": "1",
         "PerformanceScore": "1",
         "Position": "30",
         "RaceDesc": "5",
         "RecruitmentSource": "4",
         "Salary": "104437",
         "Sex": "1",
         "_deepnote_index_column": "1"
        },
        {
         "Absences": "3",
         "DaysLateLast30": "0",
         "EmploymentStatus": "2",
         "MaritalDesc": "1",
         "PerformanceScore": "1",
         "Position": "23",
         "RaceDesc": "5",
         "RecruitmentSource": "5",
         "Salary": "64955",
         "Sex": "0",
         "_deepnote_index_column": "2"
        },
        {
         "Absences": "15",
         "DaysLateLast30": "0",
         "EmploymentStatus": "0",
         "MaritalDesc": "1",
         "PerformanceScore": "1",
         "Position": "22",
         "RaceDesc": "5",
         "RecruitmentSource": "4",
         "Salary": "64991",
         "Sex": "0",
         "_deepnote_index_column": "3"
        },
        {
         "Absences": "2",
         "DaysLateLast30": "0",
         "EmploymentStatus": "2",
         "MaritalDesc": "0",
         "PerformanceScore": "1",
         "Position": "22",
         "RaceDesc": "5",
         "RecruitmentSource": "3",
         "Salary": "50825",
         "Sex": "0",
         "_deepnote_index_column": "4"
        },
        {
         "Absences": "15",
         "DaysLateLast30": "0",
         "EmploymentStatus": "0",
         "MaritalDesc": "3",
         "PerformanceScore": "0",
         "Position": "22",
         "RaceDesc": "5",
         "RecruitmentSource": "5",
         "Salary": "57568",
         "Sex": "0",
         "_deepnote_index_column": "5"
        },
        {
         "Absences": "19",
         "DaysLateLast30": "0",
         "EmploymentStatus": "0",
         "MaritalDesc": "3",
         "PerformanceScore": "1",
         "Position": "27",
         "RaceDesc": "5",
         "RecruitmentSource": "5",
         "Salary": "95660",
         "Sex": "0",
         "_deepnote_index_column": "6"
        },
        {
         "Absences": "19",
         "DaysLateLast30": "0",
         "EmploymentStatus": "0",
         "MaritalDesc": "4",
         "PerformanceScore": "1",
         "Position": "22",
         "RaceDesc": "5",
         "RecruitmentSource": "2",
         "Salary": "59365",
         "Sex": "1",
         "_deepnote_index_column": "7"
        },
        {
         "Absences": "4",
         "DaysLateLast30": "0",
         "EmploymentStatus": "0",
         "MaritalDesc": "3",
         "PerformanceScore": "1",
         "Position": "22",
         "RaceDesc": "2",
         "RecruitmentSource": "1",
         "Salary": "47837",
         "Sex": "0",
         "_deepnote_index_column": "8"
        },
        {
         "Absences": "16",
         "DaysLateLast30": "0",
         "EmploymentStatus": "0",
         "MaritalDesc": "0",
         "PerformanceScore": "1",
         "Position": "17",
         "RaceDesc": "5",
         "RecruitmentSource": "4",
         "Salary": "50178",
         "Sex": "1",
         "_deepnote_index_column": "9"
        }
       ]
      },
      "text/html": [
       "<div>\n",
       "<style scoped>\n",
       "    .dataframe tbody tr th:only-of-type {\n",
       "        vertical-align: middle;\n",
       "    }\n",
       "\n",
       "    .dataframe tbody tr th {\n",
       "        vertical-align: top;\n",
       "    }\n",
       "\n",
       "    .dataframe thead th {\n",
       "        text-align: right;\n",
       "    }\n",
       "</style>\n",
       "<table border=\"1\" class=\"dataframe\">\n",
       "  <thead>\n",
       "    <tr style=\"text-align: right;\">\n",
       "      <th></th>\n",
       "      <th>Sex</th>\n",
       "      <th>Position</th>\n",
       "      <th>MaritalDesc</th>\n",
       "      <th>RaceDesc</th>\n",
       "      <th>Absences</th>\n",
       "      <th>DaysLateLast30</th>\n",
       "      <th>RecruitmentSource</th>\n",
       "      <th>Salary</th>\n",
       "      <th>PerformanceScore</th>\n",
       "      <th>EmploymentStatus</th>\n",
       "    </tr>\n",
       "  </thead>\n",
       "  <tbody>\n",
       "    <tr>\n",
       "      <th>0</th>\n",
       "      <td>1</td>\n",
       "      <td>22</td>\n",
       "      <td>3</td>\n",
       "      <td>5</td>\n",
       "      <td>1</td>\n",
       "      <td>0</td>\n",
       "      <td>5</td>\n",
       "      <td>62506</td>\n",
       "      <td>0</td>\n",
       "      <td>0</td>\n",
       "    </tr>\n",
       "    <tr>\n",
       "      <th>1</th>\n",
       "      <td>1</td>\n",
       "      <td>30</td>\n",
       "      <td>1</td>\n",
       "      <td>5</td>\n",
       "      <td>17</td>\n",
       "      <td>0</td>\n",
       "      <td>4</td>\n",
       "      <td>104437</td>\n",
       "      <td>1</td>\n",
       "      <td>2</td>\n",
       "    </tr>\n",
       "    <tr>\n",
       "      <th>2</th>\n",
       "      <td>0</td>\n",
       "      <td>23</td>\n",
       "      <td>1</td>\n",
       "      <td>5</td>\n",
       "      <td>3</td>\n",
       "      <td>0</td>\n",
       "      <td>5</td>\n",
       "      <td>64955</td>\n",
       "      <td>1</td>\n",
       "      <td>2</td>\n",
       "    </tr>\n",
       "    <tr>\n",
       "      <th>3</th>\n",
       "      <td>0</td>\n",
       "      <td>22</td>\n",
       "      <td>1</td>\n",
       "      <td>5</td>\n",
       "      <td>15</td>\n",
       "      <td>0</td>\n",
       "      <td>4</td>\n",
       "      <td>64991</td>\n",
       "      <td>1</td>\n",
       "      <td>0</td>\n",
       "    </tr>\n",
       "    <tr>\n",
       "      <th>4</th>\n",
       "      <td>0</td>\n",
       "      <td>22</td>\n",
       "      <td>0</td>\n",
       "      <td>5</td>\n",
       "      <td>2</td>\n",
       "      <td>0</td>\n",
       "      <td>3</td>\n",
       "      <td>50825</td>\n",
       "      <td>1</td>\n",
       "      <td>2</td>\n",
       "    </tr>\n",
       "    <tr>\n",
       "      <th>...</th>\n",
       "      <td>...</td>\n",
       "      <td>...</td>\n",
       "      <td>...</td>\n",
       "      <td>...</td>\n",
       "      <td>...</td>\n",
       "      <td>...</td>\n",
       "      <td>...</td>\n",
       "      <td>...</td>\n",
       "      <td>...</td>\n",
       "      <td>...</td>\n",
       "    </tr>\n",
       "    <tr>\n",
       "      <th>306</th>\n",
       "      <td>1</td>\n",
       "      <td>23</td>\n",
       "      <td>3</td>\n",
       "      <td>5</td>\n",
       "      <td>13</td>\n",
       "      <td>0</td>\n",
       "      <td>5</td>\n",
       "      <td>65893</td>\n",
       "      <td>1</td>\n",
       "      <td>0</td>\n",
       "    </tr>\n",
       "    <tr>\n",
       "      <th>307</th>\n",
       "      <td>0</td>\n",
       "      <td>22</td>\n",
       "      <td>3</td>\n",
       "      <td>1</td>\n",
       "      <td>4</td>\n",
       "      <td>5</td>\n",
       "      <td>3</td>\n",
       "      <td>48513</td>\n",
       "      <td>3</td>\n",
       "      <td>2</td>\n",
       "    </tr>\n",
       "    <tr>\n",
       "      <th>308</th>\n",
       "      <td>0</td>\n",
       "      <td>5</td>\n",
       "      <td>3</td>\n",
       "      <td>5</td>\n",
       "      <td>16</td>\n",
       "      <td>0</td>\n",
       "      <td>2</td>\n",
       "      <td>220450</td>\n",
       "      <td>0</td>\n",
       "      <td>0</td>\n",
       "    </tr>\n",
       "    <tr>\n",
       "      <th>309</th>\n",
       "      <td>0</td>\n",
       "      <td>6</td>\n",
       "      <td>3</td>\n",
       "      <td>5</td>\n",
       "      <td>11</td>\n",
       "      <td>0</td>\n",
       "      <td>2</td>\n",
       "      <td>89292</td>\n",
       "      <td>1</td>\n",
       "      <td>0</td>\n",
       "    </tr>\n",
       "    <tr>\n",
       "      <th>310</th>\n",
       "      <td>0</td>\n",
       "      <td>22</td>\n",
       "      <td>4</td>\n",
       "      <td>1</td>\n",
       "      <td>2</td>\n",
       "      <td>0</td>\n",
       "      <td>5</td>\n",
       "      <td>45046</td>\n",
       "      <td>1</td>\n",
       "      <td>0</td>\n",
       "    </tr>\n",
       "  </tbody>\n",
       "</table>\n",
       "<p>311 rows × 10 columns</p>\n",
       "</div>"
      ],
      "text/plain": [
       "     Sex  Position  MaritalDesc  RaceDesc  Absences  DaysLateLast30  \\\n",
       "0      1        22            3         5         1               0   \n",
       "1      1        30            1         5        17               0   \n",
       "2      0        23            1         5         3               0   \n",
       "3      0        22            1         5        15               0   \n",
       "4      0        22            0         5         2               0   \n",
       "..   ...       ...          ...       ...       ...             ...   \n",
       "306    1        23            3         5        13               0   \n",
       "307    0        22            3         1         4               5   \n",
       "308    0         5            3         5        16               0   \n",
       "309    0         6            3         5        11               0   \n",
       "310    0        22            4         1         2               0   \n",
       "\n",
       "     RecruitmentSource  Salary  PerformanceScore  EmploymentStatus  \n",
       "0                    5   62506                 0                 0  \n",
       "1                    4  104437                 1                 2  \n",
       "2                    5   64955                 1                 2  \n",
       "3                    4   64991                 1                 0  \n",
       "4                    3   50825                 1                 2  \n",
       "..                 ...     ...               ...               ...  \n",
       "306                  5   65893                 1                 0  \n",
       "307                  3   48513                 3                 2  \n",
       "308                  2  220450                 0                 0  \n",
       "309                  2   89292                 1                 0  \n",
       "310                  5   45046                 1                 0  \n",
       "\n",
       "[311 rows x 10 columns]"
      ]
     },
     "execution_count": 44,
     "metadata": {},
     "output_type": "execute_result"
    }
   ],
   "source": [
    "x"
   ]
  },
  {
   "cell_type": "code",
   "execution_count": 36,
   "metadata": {
    "cell_id": "efea20a867de458b983680bdf9e3e5e7",
    "deepnote_cell_type": "code",
    "deepnote_to_be_reexecuted": false,
    "execution_millis": 0,
    "execution_start": 1663333743418,
    "source_hash": "cce8941e",
    "tags": []
   },
   "outputs": [],
   "source": []
  },
  {
   "cell_type": "code",
   "execution_count": 45,
   "metadata": {
    "cell_id": "b2d6d7b90bc740859791cb6a974accc8",
    "deepnote_cell_type": "code",
    "deepnote_to_be_reexecuted": false,
    "execution_millis": 55,
    "execution_start": 1663334063873,
    "source_hash": "e0f15620",
    "tags": []
   },
   "outputs": [
    {
     "name": "stdout",
     "output_type": "stream",
     "text": [
      "[0.00329517 0.01533646 0.01447602 0.00601773 0.01185331 0.0151633\n",
      " 0.0208202  0.01260058 0.00670901 0.89372821]\n"
     ]
    }
   ],
   "source": [
    "model = ExtraTreesClassifier()\n",
    "model.fit(x,y)\n",
    "print(model.feature_importances_)"
   ]
  },
  {
   "cell_type": "code",
   "execution_count": 46,
   "metadata": {
    "cell_id": "02ba48c686fd4d8ead56f09ec055b41a",
    "deepnote_cell_type": "code",
    "deepnote_to_be_reexecuted": false,
    "execution_millis": 954,
    "execution_start": 1663334077369,
    "source_hash": "7771dac4",
    "tags": []
   },
   "outputs": [
    {
     "data": {
      "image/png": "[encoded data removed]",
      "text/plain": [
       "<Figure size 640x480 with 1 Axes>"
      ]
     },
     "metadata": {
      "image/png": {
       "height": 413,
       "width": 658
      }
     },
     "output_type": "display_data"
    }
   ],
   "source": [
    "feat_importances = pd.Series(model.feature_importances_, index=x.columns)\n",
    "feat_importances.nlargest(17).plot(kind='barh')\n",
    "plt.show()"
   ]
  },
  {
   "cell_type": "code",
   "execution_count": 51,
   "metadata": {
    "cell_id": "0813082e4d1349da99409c015347d306",
    "deepnote_cell_type": "code",
    "deepnote_to_be_reexecuted": false,
    "execution_millis": 1,
    "execution_start": 1663334185348,
    "source_hash": "7f02168",
    "tags": []
   },
   "outputs": [],
   "source": [
    "x_train,x_test,y_train,y_test = train_test_split(x,y,test_size= 0.3,random_state = 30)"
   ]
  },
  {
   "cell_type": "code",
   "execution_count": 52,
   "metadata": {
    "cell_id": "aec4f28655504ac195b4c03e0e117ddf",
    "deepnote_cell_type": "code",
    "deepnote_to_be_reexecuted": false,
    "execution_millis": 4,
    "execution_start": 1663334206527,
    "source_hash": "b2b65cc7",
    "tags": []
   },
   "outputs": [],
   "source": [
    "RF = RandomForestClassifier()\n",
    "LR = LogisticRegression()"
   ]
  },
  {
   "cell_type": "code",
   "execution_count": 53,
   "metadata": {
    "cell_id": "ffd59665c9d943e4aeb662557b1bcdf1",
    "deepnote_cell_type": "code",
    "deepnote_to_be_reexecuted": false,
    "execution_millis": 479,
    "execution_start": 1663334228217,
    "source_hash": "aa0c4484",
    "tags": []
   },
   "outputs": [
    {
     "name": "stderr",
     "output_type": "stream",
     "text": [
      "/shared-libs/python3.9/py/lib/python3.9/site-packages/sklearn/linear_model/_logistic.py:444: ConvergenceWarning: lbfgs failed to converge (status=1):\n",
      "STOP: TOTAL NO. of ITERATIONS REACHED LIMIT.\n",
      "\n",
      "Increase the number of iterations (max_iter) or scale the data as shown in:\n",
      "    https://scikit-learn.org/stable/modules/preprocessing.html\n",
      "Please also refer to the documentation for alternative solver options:\n",
      "    https://scikit-learn.org/stable/modules/linear_model.html#logistic-regression\n",
      "  n_iter_i = _check_optimize_result(\n"
     ]
    },
    {
     "data": {
      "text/html": [
       "<style>#sk-container-id-1 {color: black;background-color: white;}#sk-container-id-1 pre{padding: 0;}#sk-container-id-1 div.sk-toggleable {background-color: white;}#sk-container-id-1 label.sk-toggleable__label {cursor: pointer;display: block;width: 100%;margin-bottom: 0;padding: 0.3em;box-sizing: border-box;text-align: center;}#sk-container-id-1 label.sk-toggleable__label-arrow:before {content: \"▸\";float: left;margin-right: 0.25em;color: #696969;}#sk-container-id-1 label.sk-toggleable__label-arrow:hover:before {color: black;}#sk-container-id-1 div.sk-estimator:hover label.sk-toggleable__label-arrow:before {color: black;}#sk-container-id-1 div.sk-toggleable__content {max-height: 0;max-width: 0;overflow: hidden;text-align: left;background-color: #f0f8ff;}#sk-container-id-1 div.sk-toggleable__content pre {margin: 0.2em;color: black;border-radius: 0.25em;background-color: #f0f8ff;}#sk-container-id-1 input.sk-toggleable__control:checked~div.sk-toggleable__content {max-height: 200px;max-width: 100%;overflow: auto;}#sk-container-id-1 input.sk-toggleable__control:checked~label.sk-toggleable__label-arrow:before {content: \"▾\";}#sk-container-id-1 div.sk-estimator input.sk-toggleable__control:checked~label.sk-toggleable__label {background-color: #d4ebff;}#sk-container-id-1 div.sk-label input.sk-toggleable__control:checked~label.sk-toggleable__label {background-color: #d4ebff;}#sk-container-id-1 input.sk-hidden--visually {border: 0;clip: rect(1px 1px 1px 1px);clip: rect(1px, 1px, 1px, 1px);height: 1px;margin: -1px;overflow: hidden;padding: 0;position: absolute;width: 1px;}#sk-container-id-1 div.sk-estimator {font-family: monospace;background-color: #f0f8ff;border: 1px dotted black;border-radius: 0.25em;box-sizing: border-box;margin-bottom: 0.5em;}#sk-container-id-1 div.sk-estimator:hover {background-color: #d4ebff;}#sk-container-id-1 div.sk-parallel-item::after {content: \"\";width: 100%;border-bottom: 1px solid gray;flex-grow: 1;}#sk-container-id-1 div.sk-label:hover label.sk-toggleable__label {background-color: #d4ebff;}#sk-container-id-1 div.sk-serial::before {content: \"\";position: absolute;border-left: 1px solid gray;box-sizing: border-box;top: 0;bottom: 0;left: 50%;z-index: 0;}#sk-container-id-1 div.sk-serial {display: flex;flex-direction: column;align-items: center;background-color: white;padding-right: 0.2em;padding-left: 0.2em;position: relative;}#sk-container-id-1 div.sk-item {position: relative;z-index: 1;}#sk-container-id-1 div.sk-parallel {display: flex;align-items: stretch;justify-content: center;background-color: white;position: relative;}#sk-container-id-1 div.sk-item::before, #sk-container-id-1 div.sk-parallel-item::before {content: \"\";position: absolute;border-left: 1px solid gray;box-sizing: border-box;top: 0;bottom: 0;left: 50%;z-index: -1;}#sk-container-id-1 div.sk-parallel-item {display: flex;flex-direction: column;z-index: 1;position: relative;background-color: white;}#sk-container-id-1 div.sk-parallel-item:first-child::after {align-self: flex-end;width: 50%;}#sk-container-id-1 div.sk-parallel-item:last-child::after {align-self: flex-start;width: 50%;}#sk-container-id-1 div.sk-parallel-item:only-child::after {width: 0;}#sk-container-id-1 div.sk-dashed-wrapped {border: 1px dashed gray;margin: 0 0.4em 0.5em 0.4em;box-sizing: border-box;padding-bottom: 0.4em;background-color: white;}#sk-container-id-1 div.sk-label label {font-family: monospace;font-weight: bold;display: inline-block;line-height: 1.2em;}#sk-container-id-1 div.sk-label-container {text-align: center;}#sk-container-id-1 div.sk-container {/* jupyter's `normalize.less` sets `[hidden] { display: none; }` but bootstrap.min.css set `[hidden] { display: none !important; }` so we also need the `!important` here to be able to override the default hidden behavior on the sphinx rendered scikit-learn.org. See: https://github.com/scikit-learn/scikit-learn/issues/21755 */display: inline-block !important;position: relative;}#sk-container-id-1 div.sk-text-repr-fallback {display: none;}</style><div id=\"sk-container-id-1\" class=\"sk-top-container\"><div class=\"sk-text-repr-fallback\"><pre>LogisticRegression()</pre><b>In a Jupyter environment, please rerun this cell to show the HTML representation or trust the notebook. <br />On GitHub, the HTML representation is unable to render, please try loading this page with nbviewer.org.</b></div><div class=\"sk-container\" hidden><div class=\"sk-item\"><div class=\"sk-estimator sk-toggleable\"><input class=\"sk-toggleable__control sk-hidden--visually\" id=\"sk-estimator-id-1\" type=\"checkbox\" checked><label for=\"sk-estimator-id-1\" class=\"sk-toggleable__label sk-toggleable__label-arrow\">LogisticRegression</label><div class=\"sk-toggleable__content\"><pre>LogisticRegression()</pre></div></div></div></div></div>"
      ],
      "text/plain": [
       "LogisticRegression()"
      ]
     },
     "execution_count": 53,
     "metadata": {},
     "output_type": "execute_result"
    }
   ],
   "source": [
    "RF.fit(x_train,y_train)\n",
    "LR.fit(x_train,y_train)"
   ]
  },
  {
   "cell_type": "code",
   "execution_count": 54,
   "metadata": {
    "cell_id": "dc4408d59cdb4883a556f9a98c17daa6",
    "deepnote_cell_type": "code",
    "deepnote_to_be_reexecuted": false,
    "execution_millis": 15,
    "execution_start": 1663334265167,
    "source_hash": "2186bf17",
    "tags": []
   },
   "outputs": [],
   "source": [
    "predict_RF = RF.predict(x_test)\n",
    "predict_LR = LR.predict(x_test)"
   ]
  },
  {
   "cell_type": "code",
   "execution_count": 55,
   "metadata": {
    "cell_id": "0d250288059b45128427241d058720fa",
    "deepnote_cell_type": "code",
    "deepnote_to_be_reexecuted": false,
    "execution_millis": 3,
    "execution_start": 1663334277171,
    "source_hash": "d3a57b1b",
    "tags": []
   },
   "outputs": [
    {
     "name": "stdout",
     "output_type": "stream",
     "text": [
      "Accuracy score:  1.0\n"
     ]
    }
   ],
   "source": [
    "print('Accuracy score: ',accuracy_score(y_test,predict_RF))"
   ]
  },
  {
   "cell_type": "code",
   "execution_count": 56,
   "metadata": {
    "cell_id": "cd0ef8b50dab4b09848dafd03d541a29",
    "deepnote_cell_type": "code",
    "deepnote_to_be_reexecuted": false,
    "execution_millis": 4,
    "execution_start": 1663334290344,
    "source_hash": "349ae931",
    "tags": []
   },
   "outputs": [
    {
     "name": "stdout",
     "output_type": "stream",
     "text": [
      "Accuracy score:  0.925531914893617\n"
     ]
    }
   ],
   "source": [
    "print('Accuracy score: ',accuracy_score(y_test,predict_LR))"
   ]
  },
  {
   "cell_type": "markdown",
   "metadata": {
    "created_in_deepnote_cell": true,
    "deepnote_cell_type": "markdown",
    "tags": []
   },
   "source": [
    "<a style='text-decoration:none;line-height:16px;display:flex;color:#5B5B62;padding:10px;justify-content:end;' href='https://deepnote.com?utm_source=created-in-deepnote-cell&projectId=b66404da-1f20-44b5-bf0b-fb70f2350085' target=\"_blank\">\n",
    "<img alt='Created in deepnote.com' style='display:inline;max-height:16px;margin:0px;margin-right:7.5px;' src='data:image/svg+xml;base64,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' > </img>\n",
    "Created in <span style='font-weight:600;margin-left:4px;'>Deepnote</span></a>"
   ]
  }
 ],
 "metadata": {
  "deepnote": {},
  "deepnote_execution_queue": [],
  "deepnote_notebook_id": "3fe9990e27074acd85a47fedb469012b",
  "kernelspec": {
   "display_name": "Python 3",
   "language": "python",
   "name": "python3"
  },
  "language_info": {
   "codemirror_mode": {
    "name": "ipython",
    "version": 3
   },
   "file_extension": ".py",
   "mimetype": "text/x-python",
   "name": "python",
   "nbconvert_exporter": "python",
   "pygments_lexer": "ipython3",
   "version": "3.9.13"
  }
 },
 "nbformat": 4,
 "nbformat_minor": 1
}
